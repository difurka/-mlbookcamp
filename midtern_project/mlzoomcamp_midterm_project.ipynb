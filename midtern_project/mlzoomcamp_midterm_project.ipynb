{
  "metadata": {
    "kernelspec": {
      "language": "python",
      "display_name": "Python 3",
      "name": "python3"
    },
    "language_info": {
      "name": "python",
      "version": "3.10.12",
      "mimetype": "text/x-python",
      "codemirror_mode": {
        "name": "ipython",
        "version": 3
      },
      "pygments_lexer": "ipython3",
      "nbconvert_exporter": "python",
      "file_extension": ".py"
    },
    "colab": {
      "provenance": [],
      "toc_visible": true,
      "include_colab_link": true
    }
  },
  "nbformat_minor": 0,
  "nbformat": 4,
  "cells": [
    {
      "cell_type": "markdown",
      "metadata": {
        "id": "view-in-github",
        "colab_type": "text"
      },
      "source": [
        "<a href=\"https://colab.research.google.com/github/difurka/mlbookcamp_learning/blob/main/mlzoomcamp_midterm_project.ipynb\" target=\"_parent\"><img src=\"https://colab.research.google.com/assets/colab-badge.svg\" alt=\"Open In Colab\"/></a>"
      ]
    },
    {
      "cell_type": "markdown",
      "source": [
        "# Description\n",
        "\n",
        "This competition is homework for module 3 of the advanced DLS stream (spring 2021). You will learn how to model customer churn for a telecom company. This task is very important in practice and algorithms for solving it are used in real telecom companies, because if we know that a client is going to leave us, then we will try to keep him by offering some kind of bonuses.(https://www.kaggle.com/competitions/advanced-dls-spring-2021/overview)\n",
        "\n",
        "\n",
        "Next models are used: Logistic Regression, DecisionTreeClassifier, Random Forest Classifier, and Gradient boosting, and CatBoost.\n",
        "\n",
        "Random Forest Classifier has given the best result for test dataset on Kaggle.\n"
      ],
      "metadata": {
        "id": "jkOcHxrTHQNR"
      }
    },
    {
      "cell_type": "markdown",
      "source": [
        "Add datasets from kaggle:"
      ],
      "metadata": {
        "id": "zRkNNKWPH4kJ"
      }
    },
    {
      "cell_type": "code",
      "source": [
        "from google.colab import drive\n",
        "drive.mount('/content/gdrive')\n",
        "\n",
        "import os\n",
        "os.environ['KAGGLE_CONFIG_DIR'] = \"/content/gdrive/My Drive/kaggle/\"\n",
        "!kaggle competitions download -c advanced-dls-spring-2021\n",
        "!unzip \\*.zip  && rm *.zip"
      ],
      "metadata": {
        "_uuid": "8f2839f25d086af736a60e9eeb907d3b93b6e0e5",
        "_cell_guid": "b1076dfc-b9ad-4769-8c92-a6c4dae69d19",
        "execution": {
          "iopub.status.busy": "2023-10-31T09:31:47.195314Z",
          "iopub.execute_input": "2023-10-31T09:31:47.195667Z",
          "iopub.status.idle": "2023-10-31T09:31:47.208275Z",
          "shell.execute_reply.started": "2023-10-31T09:31:47.195638Z",
          "shell.execute_reply": "2023-10-31T09:31:47.207045Z"
        },
        "trusted": true,
        "colab": {
          "base_uri": "https://localhost:8080/"
        },
        "id": "MnMZuIYIHQNO",
        "outputId": "b4072499-6fce-4b6d-92de-ad1d7a6fdcf7"
      },
      "execution_count": 1,
      "outputs": [
        {
          "output_type": "stream",
          "name": "stdout",
          "text": [
            "Drive already mounted at /content/gdrive; to attempt to forcibly remount, call drive.mount(\"/content/gdrive\", force_remount=True).\n",
            "Downloading advanced-dls-spring-2021.zip to /content\n",
            "  0% 0.00/115k [00:00<?, ?B/s]\n",
            "100% 115k/115k [00:00<00:00, 97.5MB/s]\n",
            "Archive:  advanced-dls-spring-2021.zip\n",
            "replace submission.csv? [y]es, [n]o, [A]ll, [N]one, [r]ename: N\n"
          ]
        }
      ]
    },
    {
      "cell_type": "code",
      "source": [
        "import numpy as np\n",
        "import pandas as pd\n",
        "from matplotlib import pyplot as plt\n",
        "from sklearn.model_selection import train_test_split\n",
        "import seaborn as sns\n",
        "from sklearn.linear_model import LogisticRegression\n",
        "from sklearn.metrics import roc_auc_score\n",
        "from sklearn.metrics import accuracy_score\n",
        "from sklearn.model_selection import train_test_split\n",
        "from sklearn.feature_extraction import DictVectorizer\n",
        "from tqdm import tqdm,trange,tqdm_notebook"
      ],
      "metadata": {
        "execution": {
          "iopub.status.busy": "2023-10-31T09:31:47.210115Z",
          "iopub.execute_input": "2023-10-31T09:31:47.210668Z",
          "iopub.status.idle": "2023-10-31T09:31:47.217942Z",
          "shell.execute_reply.started": "2023-10-31T09:31:47.210635Z",
          "shell.execute_reply": "2023-10-31T09:31:47.216695Z"
        },
        "trusted": true,
        "id": "vW7G6fpXHQNS"
      },
      "execution_count": 2,
      "outputs": []
    },
    {
      "cell_type": "markdown",
      "source": [
        " ## Load data"
      ],
      "metadata": {
        "id": "dnLb12f-HQNT"
      }
    },
    {
      "cell_type": "code",
      "source": [
        "X_train = pd.read_csv('/content/train.csv')\n",
        "X_test = pd.read_csv('/content/test.csv')"
      ],
      "metadata": {
        "execution": {
          "iopub.status.busy": "2023-10-31T09:31:47.219315Z",
          "iopub.execute_input": "2023-10-31T09:31:47.219714Z",
          "iopub.status.idle": "2023-10-31T09:31:47.271042Z",
          "shell.execute_reply.started": "2023-10-31T09:31:47.219672Z",
          "shell.execute_reply": "2023-10-31T09:31:47.270107Z"
        },
        "trusted": true,
        "id": "Ng60qsvSHQNT"
      },
      "execution_count": 3,
      "outputs": []
    },
    {
      "cell_type": "markdown",
      "source": [
        "Look at random rows"
      ],
      "metadata": {
        "id": "m_C7fHpgHQNT"
      }
    },
    {
      "cell_type": "code",
      "source": [
        "X_train.sample(n=5)"
      ],
      "metadata": {
        "execution": {
          "iopub.status.busy": "2023-10-31T09:31:47.272296Z",
          "iopub.execute_input": "2023-10-31T09:31:47.273289Z",
          "iopub.status.idle": "2023-10-31T09:31:47.298957Z",
          "shell.execute_reply.started": "2023-10-31T09:31:47.273256Z",
          "shell.execute_reply": "2023-10-31T09:31:47.297522Z"
        },
        "trusted": true,
        "colab": {
          "base_uri": "https://localhost:8080/",
          "height": 226
        },
        "id": "67Xy_FCiHQNT",
        "outputId": "23738ab7-b90a-4a44-b5a7-4d23b96316c7"
      },
      "execution_count": 4,
      "outputs": [
        {
          "output_type": "execute_result",
          "data": {
            "text/plain": [
              "      ClientPeriod  MonthlySpending TotalSpent     Sex  IsSeniorCitizen  \\\n",
              "767             27            85.90     2220.1    Male                1   \n",
              "2595             3            74.95      212.4  Female                0   \n",
              "1060             1            50.55      50.55  Female                0   \n",
              "203             72            84.45     6033.1    Male                0   \n",
              "978              4            88.45     370.65    Male                0   \n",
              "\n",
              "     HasPartner HasChild HasPhoneService HasMultiplePhoneNumbers  \\\n",
              "767         Yes       No             Yes                     Yes   \n",
              "2595         No       No             Yes                     Yes   \n",
              "1060         No       No             Yes                      No   \n",
              "203         Yes       No             Yes                      No   \n",
              "978          No       No             Yes                      No   \n",
              "\n",
              "     HasInternetService HasOnlineSecurityService HasOnlineBackup  \\\n",
              "767         Fiber optic                      Yes              No   \n",
              "2595        Fiber optic                       No              No   \n",
              "1060                DSL                       No             Yes   \n",
              "203                 DSL                      Yes             Yes   \n",
              "978         Fiber optic                       No              No   \n",
              "\n",
              "     HasDeviceProtection HasTechSupportAccess HasOnlineTV  \\\n",
              "767                  Yes                   No          No   \n",
              "2595                  No                   No          No   \n",
              "1060                  No                   No          No   \n",
              "203                  Yes                  Yes         Yes   \n",
              "978                   No                   No         Yes   \n",
              "\n",
              "     HasMovieSubscription HasContractPhone IsBillingPaperless  \\\n",
              "767                    No         One year                Yes   \n",
              "2595                   No   Month-to-month                Yes   \n",
              "1060                   No   Month-to-month                 No   \n",
              "203                   Yes         Two year                 No   \n",
              "978                   Yes   Month-to-month                Yes   \n",
              "\n",
              "         PaymentMethod  Churn  \n",
              "767   Electronic check      0  \n",
              "2595  Electronic check      0  \n",
              "1060  Electronic check      1  \n",
              "203       Mailed check      0  \n",
              "978   Electronic check      1  "
            ],
            "text/html": [
              "\n",
              "  <div id=\"df-222bc9cf-0379-450c-98a5-9c4c36738fdb\" class=\"colab-df-container\">\n",
              "    <div>\n",
              "<style scoped>\n",
              "    .dataframe tbody tr th:only-of-type {\n",
              "        vertical-align: middle;\n",
              "    }\n",
              "\n",
              "    .dataframe tbody tr th {\n",
              "        vertical-align: top;\n",
              "    }\n",
              "\n",
              "    .dataframe thead th {\n",
              "        text-align: right;\n",
              "    }\n",
              "</style>\n",
              "<table border=\"1\" class=\"dataframe\">\n",
              "  <thead>\n",
              "    <tr style=\"text-align: right;\">\n",
              "      <th></th>\n",
              "      <th>ClientPeriod</th>\n",
              "      <th>MonthlySpending</th>\n",
              "      <th>TotalSpent</th>\n",
              "      <th>Sex</th>\n",
              "      <th>IsSeniorCitizen</th>\n",
              "      <th>HasPartner</th>\n",
              "      <th>HasChild</th>\n",
              "      <th>HasPhoneService</th>\n",
              "      <th>HasMultiplePhoneNumbers</th>\n",
              "      <th>HasInternetService</th>\n",
              "      <th>HasOnlineSecurityService</th>\n",
              "      <th>HasOnlineBackup</th>\n",
              "      <th>HasDeviceProtection</th>\n",
              "      <th>HasTechSupportAccess</th>\n",
              "      <th>HasOnlineTV</th>\n",
              "      <th>HasMovieSubscription</th>\n",
              "      <th>HasContractPhone</th>\n",
              "      <th>IsBillingPaperless</th>\n",
              "      <th>PaymentMethod</th>\n",
              "      <th>Churn</th>\n",
              "    </tr>\n",
              "  </thead>\n",
              "  <tbody>\n",
              "    <tr>\n",
              "      <th>767</th>\n",
              "      <td>27</td>\n",
              "      <td>85.90</td>\n",
              "      <td>2220.1</td>\n",
              "      <td>Male</td>\n",
              "      <td>1</td>\n",
              "      <td>Yes</td>\n",
              "      <td>No</td>\n",
              "      <td>Yes</td>\n",
              "      <td>Yes</td>\n",
              "      <td>Fiber optic</td>\n",
              "      <td>Yes</td>\n",
              "      <td>No</td>\n",
              "      <td>Yes</td>\n",
              "      <td>No</td>\n",
              "      <td>No</td>\n",
              "      <td>No</td>\n",
              "      <td>One year</td>\n",
              "      <td>Yes</td>\n",
              "      <td>Electronic check</td>\n",
              "      <td>0</td>\n",
              "    </tr>\n",
              "    <tr>\n",
              "      <th>2595</th>\n",
              "      <td>3</td>\n",
              "      <td>74.95</td>\n",
              "      <td>212.4</td>\n",
              "      <td>Female</td>\n",
              "      <td>0</td>\n",
              "      <td>No</td>\n",
              "      <td>No</td>\n",
              "      <td>Yes</td>\n",
              "      <td>Yes</td>\n",
              "      <td>Fiber optic</td>\n",
              "      <td>No</td>\n",
              "      <td>No</td>\n",
              "      <td>No</td>\n",
              "      <td>No</td>\n",
              "      <td>No</td>\n",
              "      <td>No</td>\n",
              "      <td>Month-to-month</td>\n",
              "      <td>Yes</td>\n",
              "      <td>Electronic check</td>\n",
              "      <td>0</td>\n",
              "    </tr>\n",
              "    <tr>\n",
              "      <th>1060</th>\n",
              "      <td>1</td>\n",
              "      <td>50.55</td>\n",
              "      <td>50.55</td>\n",
              "      <td>Female</td>\n",
              "      <td>0</td>\n",
              "      <td>No</td>\n",
              "      <td>No</td>\n",
              "      <td>Yes</td>\n",
              "      <td>No</td>\n",
              "      <td>DSL</td>\n",
              "      <td>No</td>\n",
              "      <td>Yes</td>\n",
              "      <td>No</td>\n",
              "      <td>No</td>\n",
              "      <td>No</td>\n",
              "      <td>No</td>\n",
              "      <td>Month-to-month</td>\n",
              "      <td>No</td>\n",
              "      <td>Electronic check</td>\n",
              "      <td>1</td>\n",
              "    </tr>\n",
              "    <tr>\n",
              "      <th>203</th>\n",
              "      <td>72</td>\n",
              "      <td>84.45</td>\n",
              "      <td>6033.1</td>\n",
              "      <td>Male</td>\n",
              "      <td>0</td>\n",
              "      <td>Yes</td>\n",
              "      <td>No</td>\n",
              "      <td>Yes</td>\n",
              "      <td>No</td>\n",
              "      <td>DSL</td>\n",
              "      <td>Yes</td>\n",
              "      <td>Yes</td>\n",
              "      <td>Yes</td>\n",
              "      <td>Yes</td>\n",
              "      <td>Yes</td>\n",
              "      <td>Yes</td>\n",
              "      <td>Two year</td>\n",
              "      <td>No</td>\n",
              "      <td>Mailed check</td>\n",
              "      <td>0</td>\n",
              "    </tr>\n",
              "    <tr>\n",
              "      <th>978</th>\n",
              "      <td>4</td>\n",
              "      <td>88.45</td>\n",
              "      <td>370.65</td>\n",
              "      <td>Male</td>\n",
              "      <td>0</td>\n",
              "      <td>No</td>\n",
              "      <td>No</td>\n",
              "      <td>Yes</td>\n",
              "      <td>No</td>\n",
              "      <td>Fiber optic</td>\n",
              "      <td>No</td>\n",
              "      <td>No</td>\n",
              "      <td>No</td>\n",
              "      <td>No</td>\n",
              "      <td>Yes</td>\n",
              "      <td>Yes</td>\n",
              "      <td>Month-to-month</td>\n",
              "      <td>Yes</td>\n",
              "      <td>Electronic check</td>\n",
              "      <td>1</td>\n",
              "    </tr>\n",
              "  </tbody>\n",
              "</table>\n",
              "</div>\n",
              "    <div class=\"colab-df-buttons\">\n",
              "\n",
              "  <div class=\"colab-df-container\">\n",
              "    <button class=\"colab-df-convert\" onclick=\"convertToInteractive('df-222bc9cf-0379-450c-98a5-9c4c36738fdb')\"\n",
              "            title=\"Convert this dataframe to an interactive table.\"\n",
              "            style=\"display:none;\">\n",
              "\n",
              "  <svg xmlns=\"http://www.w3.org/2000/svg\" height=\"24px\" viewBox=\"0 -960 960 960\">\n",
              "    <path d=\"M120-120v-720h720v720H120Zm60-500h600v-160H180v160Zm220 220h160v-160H400v160Zm0 220h160v-160H400v160ZM180-400h160v-160H180v160Zm440 0h160v-160H620v160ZM180-180h160v-160H180v160Zm440 0h160v-160H620v160Z\"/>\n",
              "  </svg>\n",
              "    </button>\n",
              "\n",
              "  <style>\n",
              "    .colab-df-container {\n",
              "      display:flex;\n",
              "      gap: 12px;\n",
              "    }\n",
              "\n",
              "    .colab-df-convert {\n",
              "      background-color: #E8F0FE;\n",
              "      border: none;\n",
              "      border-radius: 50%;\n",
              "      cursor: pointer;\n",
              "      display: none;\n",
              "      fill: #1967D2;\n",
              "      height: 32px;\n",
              "      padding: 0 0 0 0;\n",
              "      width: 32px;\n",
              "    }\n",
              "\n",
              "    .colab-df-convert:hover {\n",
              "      background-color: #E2EBFA;\n",
              "      box-shadow: 0px 1px 2px rgba(60, 64, 67, 0.3), 0px 1px 3px 1px rgba(60, 64, 67, 0.15);\n",
              "      fill: #174EA6;\n",
              "    }\n",
              "\n",
              "    .colab-df-buttons div {\n",
              "      margin-bottom: 4px;\n",
              "    }\n",
              "\n",
              "    [theme=dark] .colab-df-convert {\n",
              "      background-color: #3B4455;\n",
              "      fill: #D2E3FC;\n",
              "    }\n",
              "\n",
              "    [theme=dark] .colab-df-convert:hover {\n",
              "      background-color: #434B5C;\n",
              "      box-shadow: 0px 1px 3px 1px rgba(0, 0, 0, 0.15);\n",
              "      filter: drop-shadow(0px 1px 2px rgba(0, 0, 0, 0.3));\n",
              "      fill: #FFFFFF;\n",
              "    }\n",
              "  </style>\n",
              "\n",
              "    <script>\n",
              "      const buttonEl =\n",
              "        document.querySelector('#df-222bc9cf-0379-450c-98a5-9c4c36738fdb button.colab-df-convert');\n",
              "      buttonEl.style.display =\n",
              "        google.colab.kernel.accessAllowed ? 'block' : 'none';\n",
              "\n",
              "      async function convertToInteractive(key) {\n",
              "        const element = document.querySelector('#df-222bc9cf-0379-450c-98a5-9c4c36738fdb');\n",
              "        const dataTable =\n",
              "          await google.colab.kernel.invokeFunction('convertToInteractive',\n",
              "                                                    [key], {});\n",
              "        if (!dataTable) return;\n",
              "\n",
              "        const docLinkHtml = 'Like what you see? Visit the ' +\n",
              "          '<a target=\"_blank\" href=https://colab.research.google.com/notebooks/data_table.ipynb>data table notebook</a>'\n",
              "          + ' to learn more about interactive tables.';\n",
              "        element.innerHTML = '';\n",
              "        dataTable['output_type'] = 'display_data';\n",
              "        await google.colab.output.renderOutput(dataTable, element);\n",
              "        const docLink = document.createElement('div');\n",
              "        docLink.innerHTML = docLinkHtml;\n",
              "        element.appendChild(docLink);\n",
              "      }\n",
              "    </script>\n",
              "  </div>\n",
              "\n",
              "\n",
              "<div id=\"df-74028eea-6ee2-4e94-8745-6b6c7822b288\">\n",
              "  <button class=\"colab-df-quickchart\" onclick=\"quickchart('df-74028eea-6ee2-4e94-8745-6b6c7822b288')\"\n",
              "            title=\"Suggest charts.\"\n",
              "            style=\"display:none;\">\n",
              "\n",
              "<svg xmlns=\"http://www.w3.org/2000/svg\" height=\"24px\"viewBox=\"0 0 24 24\"\n",
              "     width=\"24px\">\n",
              "    <g>\n",
              "        <path d=\"M19 3H5c-1.1 0-2 .9-2 2v14c0 1.1.9 2 2 2h14c1.1 0 2-.9 2-2V5c0-1.1-.9-2-2-2zM9 17H7v-7h2v7zm4 0h-2V7h2v10zm4 0h-2v-4h2v4z\"/>\n",
              "    </g>\n",
              "</svg>\n",
              "  </button>\n",
              "\n",
              "<style>\n",
              "  .colab-df-quickchart {\n",
              "      --bg-color: #E8F0FE;\n",
              "      --fill-color: #1967D2;\n",
              "      --hover-bg-color: #E2EBFA;\n",
              "      --hover-fill-color: #174EA6;\n",
              "      --disabled-fill-color: #AAA;\n",
              "      --disabled-bg-color: #DDD;\n",
              "  }\n",
              "\n",
              "  [theme=dark] .colab-df-quickchart {\n",
              "      --bg-color: #3B4455;\n",
              "      --fill-color: #D2E3FC;\n",
              "      --hover-bg-color: #434B5C;\n",
              "      --hover-fill-color: #FFFFFF;\n",
              "      --disabled-bg-color: #3B4455;\n",
              "      --disabled-fill-color: #666;\n",
              "  }\n",
              "\n",
              "  .colab-df-quickchart {\n",
              "    background-color: var(--bg-color);\n",
              "    border: none;\n",
              "    border-radius: 50%;\n",
              "    cursor: pointer;\n",
              "    display: none;\n",
              "    fill: var(--fill-color);\n",
              "    height: 32px;\n",
              "    padding: 0;\n",
              "    width: 32px;\n",
              "  }\n",
              "\n",
              "  .colab-df-quickchart:hover {\n",
              "    background-color: var(--hover-bg-color);\n",
              "    box-shadow: 0 1px 2px rgba(60, 64, 67, 0.3), 0 1px 3px 1px rgba(60, 64, 67, 0.15);\n",
              "    fill: var(--button-hover-fill-color);\n",
              "  }\n",
              "\n",
              "  .colab-df-quickchart-complete:disabled,\n",
              "  .colab-df-quickchart-complete:disabled:hover {\n",
              "    background-color: var(--disabled-bg-color);\n",
              "    fill: var(--disabled-fill-color);\n",
              "    box-shadow: none;\n",
              "  }\n",
              "\n",
              "  .colab-df-spinner {\n",
              "    border: 2px solid var(--fill-color);\n",
              "    border-color: transparent;\n",
              "    border-bottom-color: var(--fill-color);\n",
              "    animation:\n",
              "      spin 1s steps(1) infinite;\n",
              "  }\n",
              "\n",
              "  @keyframes spin {\n",
              "    0% {\n",
              "      border-color: transparent;\n",
              "      border-bottom-color: var(--fill-color);\n",
              "      border-left-color: var(--fill-color);\n",
              "    }\n",
              "    20% {\n",
              "      border-color: transparent;\n",
              "      border-left-color: var(--fill-color);\n",
              "      border-top-color: var(--fill-color);\n",
              "    }\n",
              "    30% {\n",
              "      border-color: transparent;\n",
              "      border-left-color: var(--fill-color);\n",
              "      border-top-color: var(--fill-color);\n",
              "      border-right-color: var(--fill-color);\n",
              "    }\n",
              "    40% {\n",
              "      border-color: transparent;\n",
              "      border-right-color: var(--fill-color);\n",
              "      border-top-color: var(--fill-color);\n",
              "    }\n",
              "    60% {\n",
              "      border-color: transparent;\n",
              "      border-right-color: var(--fill-color);\n",
              "    }\n",
              "    80% {\n",
              "      border-color: transparent;\n",
              "      border-right-color: var(--fill-color);\n",
              "      border-bottom-color: var(--fill-color);\n",
              "    }\n",
              "    90% {\n",
              "      border-color: transparent;\n",
              "      border-bottom-color: var(--fill-color);\n",
              "    }\n",
              "  }\n",
              "</style>\n",
              "\n",
              "  <script>\n",
              "    async function quickchart(key) {\n",
              "      const quickchartButtonEl =\n",
              "        document.querySelector('#' + key + ' button');\n",
              "      quickchartButtonEl.disabled = true;  // To prevent multiple clicks.\n",
              "      quickchartButtonEl.classList.add('colab-df-spinner');\n",
              "      try {\n",
              "        const charts = await google.colab.kernel.invokeFunction(\n",
              "            'suggestCharts', [key], {});\n",
              "      } catch (error) {\n",
              "        console.error('Error during call to suggestCharts:', error);\n",
              "      }\n",
              "      quickchartButtonEl.classList.remove('colab-df-spinner');\n",
              "      quickchartButtonEl.classList.add('colab-df-quickchart-complete');\n",
              "    }\n",
              "    (() => {\n",
              "      let quickchartButtonEl =\n",
              "        document.querySelector('#df-74028eea-6ee2-4e94-8745-6b6c7822b288 button');\n",
              "      quickchartButtonEl.style.display =\n",
              "        google.colab.kernel.accessAllowed ? 'block' : 'none';\n",
              "    })();\n",
              "  </script>\n",
              "</div>\n",
              "    </div>\n",
              "  </div>\n"
            ]
          },
          "metadata": {},
          "execution_count": 4
        }
      ]
    },
    {
      "cell_type": "markdown",
      "source": [
        "Are there nulls?"
      ],
      "metadata": {
        "id": "Meb5cE1jHQNU"
      }
    },
    {
      "cell_type": "code",
      "source": [
        "X_train.info()"
      ],
      "metadata": {
        "execution": {
          "iopub.status.busy": "2023-10-31T09:31:47.303311Z",
          "iopub.execute_input": "2023-10-31T09:31:47.303787Z",
          "iopub.status.idle": "2023-10-31T09:31:47.329068Z",
          "shell.execute_reply.started": "2023-10-31T09:31:47.303752Z",
          "shell.execute_reply": "2023-10-31T09:31:47.327597Z"
        },
        "trusted": true,
        "colab": {
          "base_uri": "https://localhost:8080/"
        },
        "id": "2zYXGPwPHQNU",
        "outputId": "03de80f5-8ba0-420b-d3c6-559f393bfccb"
      },
      "execution_count": 5,
      "outputs": [
        {
          "output_type": "stream",
          "name": "stdout",
          "text": [
            "<class 'pandas.core.frame.DataFrame'>\n",
            "RangeIndex: 5282 entries, 0 to 5281\n",
            "Data columns (total 20 columns):\n",
            " #   Column                    Non-Null Count  Dtype  \n",
            "---  ------                    --------------  -----  \n",
            " 0   ClientPeriod              5282 non-null   int64  \n",
            " 1   MonthlySpending           5282 non-null   float64\n",
            " 2   TotalSpent                5282 non-null   object \n",
            " 3   Sex                       5282 non-null   object \n",
            " 4   IsSeniorCitizen           5282 non-null   int64  \n",
            " 5   HasPartner                5282 non-null   object \n",
            " 6   HasChild                  5282 non-null   object \n",
            " 7   HasPhoneService           5282 non-null   object \n",
            " 8   HasMultiplePhoneNumbers   5282 non-null   object \n",
            " 9   HasInternetService        5282 non-null   object \n",
            " 10  HasOnlineSecurityService  5282 non-null   object \n",
            " 11  HasOnlineBackup           5282 non-null   object \n",
            " 12  HasDeviceProtection       5282 non-null   object \n",
            " 13  HasTechSupportAccess      5282 non-null   object \n",
            " 14  HasOnlineTV               5282 non-null   object \n",
            " 15  HasMovieSubscription      5282 non-null   object \n",
            " 16  HasContractPhone          5282 non-null   object \n",
            " 17  IsBillingPaperless        5282 non-null   object \n",
            " 18  PaymentMethod             5282 non-null   object \n",
            " 19  Churn                     5282 non-null   int64  \n",
            "dtypes: float64(1), int64(3), object(16)\n",
            "memory usage: 825.4+ KB\n"
          ]
        }
      ]
    },
    {
      "cell_type": "code",
      "source": [
        "X_train.isna().sum()"
      ],
      "metadata": {
        "execution": {
          "iopub.status.busy": "2023-10-31T09:31:47.330424Z",
          "iopub.execute_input": "2023-10-31T09:31:47.330811Z",
          "iopub.status.idle": "2023-10-31T09:31:47.350253Z",
          "shell.execute_reply.started": "2023-10-31T09:31:47.330779Z",
          "shell.execute_reply": "2023-10-31T09:31:47.349025Z"
        },
        "trusted": true,
        "colab": {
          "base_uri": "https://localhost:8080/"
        },
        "id": "vWmEyobcHQNU",
        "outputId": "df41bc6d-2ab2-49d5-bbc8-628d63c7b503"
      },
      "execution_count": 6,
      "outputs": [
        {
          "output_type": "execute_result",
          "data": {
            "text/plain": [
              "ClientPeriod                0\n",
              "MonthlySpending             0\n",
              "TotalSpent                  0\n",
              "Sex                         0\n",
              "IsSeniorCitizen             0\n",
              "HasPartner                  0\n",
              "HasChild                    0\n",
              "HasPhoneService             0\n",
              "HasMultiplePhoneNumbers     0\n",
              "HasInternetService          0\n",
              "HasOnlineSecurityService    0\n",
              "HasOnlineBackup             0\n",
              "HasDeviceProtection         0\n",
              "HasTechSupportAccess        0\n",
              "HasOnlineTV                 0\n",
              "HasMovieSubscription        0\n",
              "HasContractPhone            0\n",
              "IsBillingPaperless          0\n",
              "PaymentMethod               0\n",
              "Churn                       0\n",
              "dtype: int64"
            ]
          },
          "metadata": {},
          "execution_count": 6
        }
      ]
    },
    {
      "cell_type": "markdown",
      "source": [
        "Delete duplicates:"
      ],
      "metadata": {
        "id": "u2x9aL2-IQ4Y"
      }
    },
    {
      "cell_type": "code",
      "source": [
        "X_train.duplicated().sum()"
      ],
      "metadata": {
        "execution": {
          "iopub.status.busy": "2023-10-31T09:31:47.352291Z",
          "iopub.execute_input": "2023-10-31T09:31:47.352909Z",
          "iopub.status.idle": "2023-10-31T09:31:47.373620Z",
          "shell.execute_reply.started": "2023-10-31T09:31:47.352874Z",
          "shell.execute_reply": "2023-10-31T09:31:47.372263Z"
        },
        "trusted": true,
        "colab": {
          "base_uri": "https://localhost:8080/"
        },
        "id": "nwFrP-f6HQNV",
        "outputId": "c5077857-1071-4550-a798-04ead3840991"
      },
      "execution_count": 7,
      "outputs": [
        {
          "output_type": "execute_result",
          "data": {
            "text/plain": [
              "14"
            ]
          },
          "metadata": {},
          "execution_count": 7
        }
      ]
    },
    {
      "cell_type": "code",
      "source": [
        "X_train = X_train.drop_duplicates()"
      ],
      "metadata": {
        "execution": {
          "iopub.status.busy": "2023-10-31T09:31:47.376532Z",
          "iopub.execute_input": "2023-10-31T09:31:47.376979Z",
          "iopub.status.idle": "2023-10-31T09:31:47.396844Z",
          "shell.execute_reply.started": "2023-10-31T09:31:47.376945Z",
          "shell.execute_reply": "2023-10-31T09:31:47.395245Z"
        },
        "trusted": true,
        "id": "AMHJKxd2HQNV"
      },
      "execution_count": 8,
      "outputs": []
    },
    {
      "cell_type": "code",
      "source": [
        "X_train.info()"
      ],
      "metadata": {
        "execution": {
          "iopub.status.busy": "2023-10-31T09:31:47.398435Z",
          "iopub.execute_input": "2023-10-31T09:31:47.399058Z",
          "iopub.status.idle": "2023-10-31T09:31:47.425033Z",
          "shell.execute_reply.started": "2023-10-31T09:31:47.399022Z",
          "shell.execute_reply": "2023-10-31T09:31:47.422244Z"
        },
        "trusted": true,
        "colab": {
          "base_uri": "https://localhost:8080/"
        },
        "id": "LSFCKE19HQNV",
        "outputId": "c4daf2b6-6695-4070-9da7-d239c1ee4124"
      },
      "execution_count": 9,
      "outputs": [
        {
          "output_type": "stream",
          "name": "stdout",
          "text": [
            "<class 'pandas.core.frame.DataFrame'>\n",
            "Int64Index: 5268 entries, 0 to 5281\n",
            "Data columns (total 20 columns):\n",
            " #   Column                    Non-Null Count  Dtype  \n",
            "---  ------                    --------------  -----  \n",
            " 0   ClientPeriod              5268 non-null   int64  \n",
            " 1   MonthlySpending           5268 non-null   float64\n",
            " 2   TotalSpent                5268 non-null   object \n",
            " 3   Sex                       5268 non-null   object \n",
            " 4   IsSeniorCitizen           5268 non-null   int64  \n",
            " 5   HasPartner                5268 non-null   object \n",
            " 6   HasChild                  5268 non-null   object \n",
            " 7   HasPhoneService           5268 non-null   object \n",
            " 8   HasMultiplePhoneNumbers   5268 non-null   object \n",
            " 9   HasInternetService        5268 non-null   object \n",
            " 10  HasOnlineSecurityService  5268 non-null   object \n",
            " 11  HasOnlineBackup           5268 non-null   object \n",
            " 12  HasDeviceProtection       5268 non-null   object \n",
            " 13  HasTechSupportAccess      5268 non-null   object \n",
            " 14  HasOnlineTV               5268 non-null   object \n",
            " 15  HasMovieSubscription      5268 non-null   object \n",
            " 16  HasContractPhone          5268 non-null   object \n",
            " 17  IsBillingPaperless        5268 non-null   object \n",
            " 18  PaymentMethod             5268 non-null   object \n",
            " 19  Churn                     5268 non-null   int64  \n",
            "dtypes: float64(1), int64(3), object(16)\n",
            "memory usage: 864.3+ KB\n"
          ]
        }
      ]
    },
    {
      "cell_type": "markdown",
      "source": [
        "## Data cleaning and preparation"
      ],
      "metadata": {
        "id": "DN5hXpjgHQNV"
      }
    },
    {
      "cell_type": "code",
      "source": [
        "X_train.nunique()"
      ],
      "metadata": {
        "execution": {
          "iopub.status.busy": "2023-10-31T09:31:47.426864Z",
          "iopub.execute_input": "2023-10-31T09:31:47.427346Z",
          "iopub.status.idle": "2023-10-31T09:31:47.450709Z",
          "shell.execute_reply.started": "2023-10-31T09:31:47.427301Z",
          "shell.execute_reply": "2023-10-31T09:31:47.449570Z"
        },
        "trusted": true,
        "colab": {
          "base_uri": "https://localhost:8080/"
        },
        "id": "osDpuD4BHQNW",
        "outputId": "d0136184-9653-477e-9194-9c009770c8a4"
      },
      "execution_count": 10,
      "outputs": [
        {
          "output_type": "execute_result",
          "data": {
            "text/plain": [
              "ClientPeriod                  73\n",
              "MonthlySpending             1468\n",
              "TotalSpent                  4978\n",
              "Sex                            2\n",
              "IsSeniorCitizen                2\n",
              "HasPartner                     2\n",
              "HasChild                       2\n",
              "HasPhoneService                2\n",
              "HasMultiplePhoneNumbers        3\n",
              "HasInternetService             3\n",
              "HasOnlineSecurityService       3\n",
              "HasOnlineBackup                3\n",
              "HasDeviceProtection            3\n",
              "HasTechSupportAccess           3\n",
              "HasOnlineTV                    3\n",
              "HasMovieSubscription           3\n",
              "HasContractPhone               3\n",
              "IsBillingPaperless             2\n",
              "PaymentMethod                  4\n",
              "Churn                          2\n",
              "dtype: int64"
            ]
          },
          "metadata": {},
          "execution_count": 10
        }
      ]
    },
    {
      "cell_type": "code",
      "source": [
        "num_cols = [\n",
        "    'ClientPeriod',\n",
        "    'MonthlySpending',\n",
        "    'IsSeniorCitizen',\n",
        "    'TotalSpent'\n",
        "]\n",
        "\n",
        "cat_cols = [\n",
        "    'Sex',\n",
        "    'HasPartner',\n",
        "    'HasChild',\n",
        "    'HasPhoneService',\n",
        "    'HasMultiplePhoneNumbers',\n",
        "    'HasInternetService',\n",
        "    'HasOnlineSecurityService',\n",
        "    'HasOnlineBackup',\n",
        "    'HasDeviceProtection',\n",
        "    'HasTechSupportAccess',\n",
        "    'HasOnlineTV',\n",
        "    'HasMovieSubscription',\n",
        "    'HasContractPhone',\n",
        "    'IsBillingPaperless',\n",
        "    'PaymentMethod',\n",
        "]\n",
        "\n",
        "feature_cols = num_cols + cat_cols\n",
        "target_col = 'Churn'\n",
        "\n",
        "\n",
        "X_train['TotalSpent'] = pd.to_numeric(X_train['TotalSpent'], errors='coerce')\n",
        "X_test['TotalSpent'] = pd.to_numeric(X_test['TotalSpent'], errors='coerce')\n",
        "X_train['TotalSpent'] = X_train['TotalSpent'].fillna(X_train['TotalSpent'].mean())\n",
        "X_test['TotalSpent'] = X_test['TotalSpent'].fillna(X_test['TotalSpent'].mean())\n"
      ],
      "metadata": {
        "execution": {
          "iopub.status.busy": "2023-10-31T09:31:47.452271Z",
          "iopub.execute_input": "2023-10-31T09:31:47.452627Z",
          "iopub.status.idle": "2023-10-31T09:31:47.470682Z",
          "shell.execute_reply.started": "2023-10-31T09:31:47.452595Z",
          "shell.execute_reply": "2023-10-31T09:31:47.469699Z"
        },
        "trusted": true,
        "id": "Sdz5Utr6HQNW"
      },
      "execution_count": 11,
      "outputs": []
    },
    {
      "cell_type": "code",
      "source": [
        "X_train.info()"
      ],
      "metadata": {
        "execution": {
          "iopub.status.busy": "2023-10-31T09:31:47.472127Z",
          "iopub.execute_input": "2023-10-31T09:31:47.473185Z",
          "iopub.status.idle": "2023-10-31T09:31:47.505863Z",
          "shell.execute_reply.started": "2023-10-31T09:31:47.473142Z",
          "shell.execute_reply": "2023-10-31T09:31:47.504818Z"
        },
        "trusted": true,
        "colab": {
          "base_uri": "https://localhost:8080/"
        },
        "id": "TiOUm0m9HQNW",
        "outputId": "202a2d91-e612-4d76-dbd3-a8d7a33cca42"
      },
      "execution_count": 12,
      "outputs": [
        {
          "output_type": "stream",
          "name": "stdout",
          "text": [
            "<class 'pandas.core.frame.DataFrame'>\n",
            "Int64Index: 5268 entries, 0 to 5281\n",
            "Data columns (total 20 columns):\n",
            " #   Column                    Non-Null Count  Dtype  \n",
            "---  ------                    --------------  -----  \n",
            " 0   ClientPeriod              5268 non-null   int64  \n",
            " 1   MonthlySpending           5268 non-null   float64\n",
            " 2   TotalSpent                5268 non-null   float64\n",
            " 3   Sex                       5268 non-null   object \n",
            " 4   IsSeniorCitizen           5268 non-null   int64  \n",
            " 5   HasPartner                5268 non-null   object \n",
            " 6   HasChild                  5268 non-null   object \n",
            " 7   HasPhoneService           5268 non-null   object \n",
            " 8   HasMultiplePhoneNumbers   5268 non-null   object \n",
            " 9   HasInternetService        5268 non-null   object \n",
            " 10  HasOnlineSecurityService  5268 non-null   object \n",
            " 11  HasOnlineBackup           5268 non-null   object \n",
            " 12  HasDeviceProtection       5268 non-null   object \n",
            " 13  HasTechSupportAccess      5268 non-null   object \n",
            " 14  HasOnlineTV               5268 non-null   object \n",
            " 15  HasMovieSubscription      5268 non-null   object \n",
            " 16  HasContractPhone          5268 non-null   object \n",
            " 17  IsBillingPaperless        5268 non-null   object \n",
            " 18  PaymentMethod             5268 non-null   object \n",
            " 19  Churn                     5268 non-null   int64  \n",
            "dtypes: float64(2), int64(3), object(15)\n",
            "memory usage: 864.3+ KB\n"
          ]
        }
      ]
    },
    {
      "cell_type": "code",
      "source": [
        "X_train.describe().round()"
      ],
      "metadata": {
        "execution": {
          "iopub.status.busy": "2023-10-31T09:31:47.507154Z",
          "iopub.execute_input": "2023-10-31T09:31:47.507497Z",
          "iopub.status.idle": "2023-10-31T09:31:47.539667Z",
          "shell.execute_reply.started": "2023-10-31T09:31:47.507466Z",
          "shell.execute_reply": "2023-10-31T09:31:47.538591Z"
        },
        "trusted": true,
        "colab": {
          "base_uri": "https://localhost:8080/",
          "height": 300
        },
        "id": "GPs4dqbSHQNW",
        "outputId": "18b95a0b-1331-4842-ed32-0115c5cc8fad"
      },
      "execution_count": 13,
      "outputs": [
        {
          "output_type": "execute_result",
          "data": {
            "text/plain": [
              "       ClientPeriod  MonthlySpending  TotalSpent  IsSeniorCitizen   Churn\n",
              "count        5268.0           5268.0      5268.0           5268.0  5268.0\n",
              "mean           32.0             65.0      2297.0              0.0     0.0\n",
              "std            25.0             30.0      2267.0              0.0     0.0\n",
              "min             0.0             18.0        19.0              0.0     0.0\n",
              "25%             9.0             36.0       405.0              0.0     0.0\n",
              "50%            29.0             70.0      1419.0              0.0     0.0\n",
              "75%            55.0             90.0      3809.0              0.0     1.0\n",
              "max            72.0            119.0      8685.0              1.0     1.0"
            ],
            "text/html": [
              "\n",
              "  <div id=\"df-3a3621ef-b54b-43f4-8508-b6e1945d7342\" class=\"colab-df-container\">\n",
              "    <div>\n",
              "<style scoped>\n",
              "    .dataframe tbody tr th:only-of-type {\n",
              "        vertical-align: middle;\n",
              "    }\n",
              "\n",
              "    .dataframe tbody tr th {\n",
              "        vertical-align: top;\n",
              "    }\n",
              "\n",
              "    .dataframe thead th {\n",
              "        text-align: right;\n",
              "    }\n",
              "</style>\n",
              "<table border=\"1\" class=\"dataframe\">\n",
              "  <thead>\n",
              "    <tr style=\"text-align: right;\">\n",
              "      <th></th>\n",
              "      <th>ClientPeriod</th>\n",
              "      <th>MonthlySpending</th>\n",
              "      <th>TotalSpent</th>\n",
              "      <th>IsSeniorCitizen</th>\n",
              "      <th>Churn</th>\n",
              "    </tr>\n",
              "  </thead>\n",
              "  <tbody>\n",
              "    <tr>\n",
              "      <th>count</th>\n",
              "      <td>5268.0</td>\n",
              "      <td>5268.0</td>\n",
              "      <td>5268.0</td>\n",
              "      <td>5268.0</td>\n",
              "      <td>5268.0</td>\n",
              "    </tr>\n",
              "    <tr>\n",
              "      <th>mean</th>\n",
              "      <td>32.0</td>\n",
              "      <td>65.0</td>\n",
              "      <td>2297.0</td>\n",
              "      <td>0.0</td>\n",
              "      <td>0.0</td>\n",
              "    </tr>\n",
              "    <tr>\n",
              "      <th>std</th>\n",
              "      <td>25.0</td>\n",
              "      <td>30.0</td>\n",
              "      <td>2267.0</td>\n",
              "      <td>0.0</td>\n",
              "      <td>0.0</td>\n",
              "    </tr>\n",
              "    <tr>\n",
              "      <th>min</th>\n",
              "      <td>0.0</td>\n",
              "      <td>18.0</td>\n",
              "      <td>19.0</td>\n",
              "      <td>0.0</td>\n",
              "      <td>0.0</td>\n",
              "    </tr>\n",
              "    <tr>\n",
              "      <th>25%</th>\n",
              "      <td>9.0</td>\n",
              "      <td>36.0</td>\n",
              "      <td>405.0</td>\n",
              "      <td>0.0</td>\n",
              "      <td>0.0</td>\n",
              "    </tr>\n",
              "    <tr>\n",
              "      <th>50%</th>\n",
              "      <td>29.0</td>\n",
              "      <td>70.0</td>\n",
              "      <td>1419.0</td>\n",
              "      <td>0.0</td>\n",
              "      <td>0.0</td>\n",
              "    </tr>\n",
              "    <tr>\n",
              "      <th>75%</th>\n",
              "      <td>55.0</td>\n",
              "      <td>90.0</td>\n",
              "      <td>3809.0</td>\n",
              "      <td>0.0</td>\n",
              "      <td>1.0</td>\n",
              "    </tr>\n",
              "    <tr>\n",
              "      <th>max</th>\n",
              "      <td>72.0</td>\n",
              "      <td>119.0</td>\n",
              "      <td>8685.0</td>\n",
              "      <td>1.0</td>\n",
              "      <td>1.0</td>\n",
              "    </tr>\n",
              "  </tbody>\n",
              "</table>\n",
              "</div>\n",
              "    <div class=\"colab-df-buttons\">\n",
              "\n",
              "  <div class=\"colab-df-container\">\n",
              "    <button class=\"colab-df-convert\" onclick=\"convertToInteractive('df-3a3621ef-b54b-43f4-8508-b6e1945d7342')\"\n",
              "            title=\"Convert this dataframe to an interactive table.\"\n",
              "            style=\"display:none;\">\n",
              "\n",
              "  <svg xmlns=\"http://www.w3.org/2000/svg\" height=\"24px\" viewBox=\"0 -960 960 960\">\n",
              "    <path d=\"M120-120v-720h720v720H120Zm60-500h600v-160H180v160Zm220 220h160v-160H400v160Zm0 220h160v-160H400v160ZM180-400h160v-160H180v160Zm440 0h160v-160H620v160ZM180-180h160v-160H180v160Zm440 0h160v-160H620v160Z\"/>\n",
              "  </svg>\n",
              "    </button>\n",
              "\n",
              "  <style>\n",
              "    .colab-df-container {\n",
              "      display:flex;\n",
              "      gap: 12px;\n",
              "    }\n",
              "\n",
              "    .colab-df-convert {\n",
              "      background-color: #E8F0FE;\n",
              "      border: none;\n",
              "      border-radius: 50%;\n",
              "      cursor: pointer;\n",
              "      display: none;\n",
              "      fill: #1967D2;\n",
              "      height: 32px;\n",
              "      padding: 0 0 0 0;\n",
              "      width: 32px;\n",
              "    }\n",
              "\n",
              "    .colab-df-convert:hover {\n",
              "      background-color: #E2EBFA;\n",
              "      box-shadow: 0px 1px 2px rgba(60, 64, 67, 0.3), 0px 1px 3px 1px rgba(60, 64, 67, 0.15);\n",
              "      fill: #174EA6;\n",
              "    }\n",
              "\n",
              "    .colab-df-buttons div {\n",
              "      margin-bottom: 4px;\n",
              "    }\n",
              "\n",
              "    [theme=dark] .colab-df-convert {\n",
              "      background-color: #3B4455;\n",
              "      fill: #D2E3FC;\n",
              "    }\n",
              "\n",
              "    [theme=dark] .colab-df-convert:hover {\n",
              "      background-color: #434B5C;\n",
              "      box-shadow: 0px 1px 3px 1px rgba(0, 0, 0, 0.15);\n",
              "      filter: drop-shadow(0px 1px 2px rgba(0, 0, 0, 0.3));\n",
              "      fill: #FFFFFF;\n",
              "    }\n",
              "  </style>\n",
              "\n",
              "    <script>\n",
              "      const buttonEl =\n",
              "        document.querySelector('#df-3a3621ef-b54b-43f4-8508-b6e1945d7342 button.colab-df-convert');\n",
              "      buttonEl.style.display =\n",
              "        google.colab.kernel.accessAllowed ? 'block' : 'none';\n",
              "\n",
              "      async function convertToInteractive(key) {\n",
              "        const element = document.querySelector('#df-3a3621ef-b54b-43f4-8508-b6e1945d7342');\n",
              "        const dataTable =\n",
              "          await google.colab.kernel.invokeFunction('convertToInteractive',\n",
              "                                                    [key], {});\n",
              "        if (!dataTable) return;\n",
              "\n",
              "        const docLinkHtml = 'Like what you see? Visit the ' +\n",
              "          '<a target=\"_blank\" href=https://colab.research.google.com/notebooks/data_table.ipynb>data table notebook</a>'\n",
              "          + ' to learn more about interactive tables.';\n",
              "        element.innerHTML = '';\n",
              "        dataTable['output_type'] = 'display_data';\n",
              "        await google.colab.output.renderOutput(dataTable, element);\n",
              "        const docLink = document.createElement('div');\n",
              "        docLink.innerHTML = docLinkHtml;\n",
              "        element.appendChild(docLink);\n",
              "      }\n",
              "    </script>\n",
              "  </div>\n",
              "\n",
              "\n",
              "<div id=\"df-be5dff61-4507-4d73-85f4-531ff3e8c3dd\">\n",
              "  <button class=\"colab-df-quickchart\" onclick=\"quickchart('df-be5dff61-4507-4d73-85f4-531ff3e8c3dd')\"\n",
              "            title=\"Suggest charts.\"\n",
              "            style=\"display:none;\">\n",
              "\n",
              "<svg xmlns=\"http://www.w3.org/2000/svg\" height=\"24px\"viewBox=\"0 0 24 24\"\n",
              "     width=\"24px\">\n",
              "    <g>\n",
              "        <path d=\"M19 3H5c-1.1 0-2 .9-2 2v14c0 1.1.9 2 2 2h14c1.1 0 2-.9 2-2V5c0-1.1-.9-2-2-2zM9 17H7v-7h2v7zm4 0h-2V7h2v10zm4 0h-2v-4h2v4z\"/>\n",
              "    </g>\n",
              "</svg>\n",
              "  </button>\n",
              "\n",
              "<style>\n",
              "  .colab-df-quickchart {\n",
              "      --bg-color: #E8F0FE;\n",
              "      --fill-color: #1967D2;\n",
              "      --hover-bg-color: #E2EBFA;\n",
              "      --hover-fill-color: #174EA6;\n",
              "      --disabled-fill-color: #AAA;\n",
              "      --disabled-bg-color: #DDD;\n",
              "  }\n",
              "\n",
              "  [theme=dark] .colab-df-quickchart {\n",
              "      --bg-color: #3B4455;\n",
              "      --fill-color: #D2E3FC;\n",
              "      --hover-bg-color: #434B5C;\n",
              "      --hover-fill-color: #FFFFFF;\n",
              "      --disabled-bg-color: #3B4455;\n",
              "      --disabled-fill-color: #666;\n",
              "  }\n",
              "\n",
              "  .colab-df-quickchart {\n",
              "    background-color: var(--bg-color);\n",
              "    border: none;\n",
              "    border-radius: 50%;\n",
              "    cursor: pointer;\n",
              "    display: none;\n",
              "    fill: var(--fill-color);\n",
              "    height: 32px;\n",
              "    padding: 0;\n",
              "    width: 32px;\n",
              "  }\n",
              "\n",
              "  .colab-df-quickchart:hover {\n",
              "    background-color: var(--hover-bg-color);\n",
              "    box-shadow: 0 1px 2px rgba(60, 64, 67, 0.3), 0 1px 3px 1px rgba(60, 64, 67, 0.15);\n",
              "    fill: var(--button-hover-fill-color);\n",
              "  }\n",
              "\n",
              "  .colab-df-quickchart-complete:disabled,\n",
              "  .colab-df-quickchart-complete:disabled:hover {\n",
              "    background-color: var(--disabled-bg-color);\n",
              "    fill: var(--disabled-fill-color);\n",
              "    box-shadow: none;\n",
              "  }\n",
              "\n",
              "  .colab-df-spinner {\n",
              "    border: 2px solid var(--fill-color);\n",
              "    border-color: transparent;\n",
              "    border-bottom-color: var(--fill-color);\n",
              "    animation:\n",
              "      spin 1s steps(1) infinite;\n",
              "  }\n",
              "\n",
              "  @keyframes spin {\n",
              "    0% {\n",
              "      border-color: transparent;\n",
              "      border-bottom-color: var(--fill-color);\n",
              "      border-left-color: var(--fill-color);\n",
              "    }\n",
              "    20% {\n",
              "      border-color: transparent;\n",
              "      border-left-color: var(--fill-color);\n",
              "      border-top-color: var(--fill-color);\n",
              "    }\n",
              "    30% {\n",
              "      border-color: transparent;\n",
              "      border-left-color: var(--fill-color);\n",
              "      border-top-color: var(--fill-color);\n",
              "      border-right-color: var(--fill-color);\n",
              "    }\n",
              "    40% {\n",
              "      border-color: transparent;\n",
              "      border-right-color: var(--fill-color);\n",
              "      border-top-color: var(--fill-color);\n",
              "    }\n",
              "    60% {\n",
              "      border-color: transparent;\n",
              "      border-right-color: var(--fill-color);\n",
              "    }\n",
              "    80% {\n",
              "      border-color: transparent;\n",
              "      border-right-color: var(--fill-color);\n",
              "      border-bottom-color: var(--fill-color);\n",
              "    }\n",
              "    90% {\n",
              "      border-color: transparent;\n",
              "      border-bottom-color: var(--fill-color);\n",
              "    }\n",
              "  }\n",
              "</style>\n",
              "\n",
              "  <script>\n",
              "    async function quickchart(key) {\n",
              "      const quickchartButtonEl =\n",
              "        document.querySelector('#' + key + ' button');\n",
              "      quickchartButtonEl.disabled = true;  // To prevent multiple clicks.\n",
              "      quickchartButtonEl.classList.add('colab-df-spinner');\n",
              "      try {\n",
              "        const charts = await google.colab.kernel.invokeFunction(\n",
              "            'suggestCharts', [key], {});\n",
              "      } catch (error) {\n",
              "        console.error('Error during call to suggestCharts:', error);\n",
              "      }\n",
              "      quickchartButtonEl.classList.remove('colab-df-spinner');\n",
              "      quickchartButtonEl.classList.add('colab-df-quickchart-complete');\n",
              "    }\n",
              "    (() => {\n",
              "      let quickchartButtonEl =\n",
              "        document.querySelector('#df-be5dff61-4507-4d73-85f4-531ff3e8c3dd button');\n",
              "      quickchartButtonEl.style.display =\n",
              "        google.colab.kernel.accessAllowed ? 'block' : 'none';\n",
              "    })();\n",
              "  </script>\n",
              "</div>\n",
              "    </div>\n",
              "  </div>\n"
            ]
          },
          "metadata": {},
          "execution_count": 13
        }
      ]
    },
    {
      "cell_type": "code",
      "source": [
        "X_train[num_cols].corr().style.background_gradient(cmap='coolwarm')"
      ],
      "metadata": {
        "execution": {
          "iopub.status.busy": "2023-10-31T09:31:47.540946Z",
          "iopub.execute_input": "2023-10-31T09:31:47.541257Z",
          "iopub.status.idle": "2023-10-31T09:31:47.561768Z",
          "shell.execute_reply.started": "2023-10-31T09:31:47.541229Z",
          "shell.execute_reply": "2023-10-31T09:31:47.560581Z"
        },
        "trusted": true,
        "colab": {
          "base_uri": "https://localhost:8080/",
          "height": 175
        },
        "id": "SuOv_xXuHQNW",
        "outputId": "105837f2-8c2b-48c6-951a-2b52c3472a8b"
      },
      "execution_count": 14,
      "outputs": [
        {
          "output_type": "execute_result",
          "data": {
            "text/plain": [
              "<pandas.io.formats.style.Styler at 0x7c9381256c50>"
            ],
            "text/html": [
              "<style type=\"text/css\">\n",
              "#T_ee077_row0_col0, #T_ee077_row1_col1, #T_ee077_row2_col2, #T_ee077_row3_col3 {\n",
              "  background-color: #b40426;\n",
              "  color: #f1f1f1;\n",
              "}\n",
              "#T_ee077_row0_col1 {\n",
              "  background-color: #465ecf;\n",
              "  color: #f1f1f1;\n",
              "}\n",
              "#T_ee077_row0_col2, #T_ee077_row2_col0, #T_ee077_row2_col1, #T_ee077_row2_col3 {\n",
              "  background-color: #3b4cc0;\n",
              "  color: #f1f1f1;\n",
              "}\n",
              "#T_ee077_row0_col3 {\n",
              "  background-color: #ec8165;\n",
              "  color: #f1f1f1;\n",
              "}\n",
              "#T_ee077_row1_col0 {\n",
              "  background-color: #89acfd;\n",
              "  color: #000000;\n",
              "}\n",
              "#T_ee077_row1_col2 {\n",
              "  background-color: #7da0f9;\n",
              "  color: #f1f1f1;\n",
              "}\n",
              "#T_ee077_row1_col3 {\n",
              "  background-color: #f3c7b1;\n",
              "  color: #000000;\n",
              "}\n",
              "#T_ee077_row3_col0 {\n",
              "  background-color: #e97a5f;\n",
              "  color: #f1f1f1;\n",
              "}\n",
              "#T_ee077_row3_col1 {\n",
              "  background-color: #ead4c8;\n",
              "  color: #000000;\n",
              "}\n",
              "#T_ee077_row3_col2 {\n",
              "  background-color: #5470de;\n",
              "  color: #f1f1f1;\n",
              "}\n",
              "</style>\n",
              "<table id=\"T_ee077\" class=\"dataframe\">\n",
              "  <thead>\n",
              "    <tr>\n",
              "      <th class=\"blank level0\" >&nbsp;</th>\n",
              "      <th id=\"T_ee077_level0_col0\" class=\"col_heading level0 col0\" >ClientPeriod</th>\n",
              "      <th id=\"T_ee077_level0_col1\" class=\"col_heading level0 col1\" >MonthlySpending</th>\n",
              "      <th id=\"T_ee077_level0_col2\" class=\"col_heading level0 col2\" >IsSeniorCitizen</th>\n",
              "      <th id=\"T_ee077_level0_col3\" class=\"col_heading level0 col3\" >TotalSpent</th>\n",
              "    </tr>\n",
              "  </thead>\n",
              "  <tbody>\n",
              "    <tr>\n",
              "      <th id=\"T_ee077_level0_row0\" class=\"row_heading level0 row0\" >ClientPeriod</th>\n",
              "      <td id=\"T_ee077_row0_col0\" class=\"data row0 col0\" >1.000000</td>\n",
              "      <td id=\"T_ee077_row0_col1\" class=\"data row0 col1\" >0.248047</td>\n",
              "      <td id=\"T_ee077_row0_col2\" class=\"data row0 col2\" >0.010775</td>\n",
              "      <td id=\"T_ee077_row0_col3\" class=\"data row0 col3\" >0.824598</td>\n",
              "    </tr>\n",
              "    <tr>\n",
              "      <th id=\"T_ee077_level0_row1\" class=\"row_heading level0 row1\" >MonthlySpending</th>\n",
              "      <td id=\"T_ee077_row1_col0\" class=\"data row1 col0\" >0.248047</td>\n",
              "      <td id=\"T_ee077_row1_col1\" class=\"data row1 col1\" >1.000000</td>\n",
              "      <td id=\"T_ee077_row1_col2\" class=\"data row1 col2\" >0.215061</td>\n",
              "      <td id=\"T_ee077_row1_col3\" class=\"data row1 col3\" >0.651475</td>\n",
              "    </tr>\n",
              "    <tr>\n",
              "      <th id=\"T_ee077_level0_row2\" class=\"row_heading level0 row2\" >IsSeniorCitizen</th>\n",
              "      <td id=\"T_ee077_row2_col0\" class=\"data row2 col0\" >0.010775</td>\n",
              "      <td id=\"T_ee077_row2_col1\" class=\"data row2 col1\" >0.215061</td>\n",
              "      <td id=\"T_ee077_row2_col2\" class=\"data row2 col2\" >1.000000</td>\n",
              "      <td id=\"T_ee077_row2_col3\" class=\"data row2 col3\" >0.093522</td>\n",
              "    </tr>\n",
              "    <tr>\n",
              "      <th id=\"T_ee077_level0_row3\" class=\"row_heading level0 row3\" >TotalSpent</th>\n",
              "      <td id=\"T_ee077_row3_col0\" class=\"data row3 col0\" >0.824598</td>\n",
              "      <td id=\"T_ee077_row3_col1\" class=\"data row3 col1\" >0.651475</td>\n",
              "      <td id=\"T_ee077_row3_col2\" class=\"data row3 col2\" >0.093522</td>\n",
              "      <td id=\"T_ee077_row3_col3\" class=\"data row3 col3\" >1.000000</td>\n",
              "    </tr>\n",
              "  </tbody>\n",
              "</table>\n"
            ]
          },
          "metadata": {},
          "execution_count": 14
        }
      ]
    },
    {
      "cell_type": "code",
      "source": [
        "X_train[cat_cols].nunique()"
      ],
      "metadata": {
        "execution": {
          "iopub.status.busy": "2023-10-31T09:31:47.570534Z",
          "iopub.execute_input": "2023-10-31T09:31:47.570825Z",
          "iopub.status.idle": "2023-10-31T09:31:47.595148Z",
          "shell.execute_reply.started": "2023-10-31T09:31:47.570798Z",
          "shell.execute_reply": "2023-10-31T09:31:47.593977Z"
        },
        "trusted": true,
        "colab": {
          "base_uri": "https://localhost:8080/"
        },
        "id": "vVlbD6_fHQNW",
        "outputId": "28a1d53c-f395-4a4a-e0f8-3139c73fd56c"
      },
      "execution_count": 15,
      "outputs": [
        {
          "output_type": "execute_result",
          "data": {
            "text/plain": [
              "Sex                         2\n",
              "HasPartner                  2\n",
              "HasChild                    2\n",
              "HasPhoneService             2\n",
              "HasMultiplePhoneNumbers     3\n",
              "HasInternetService          3\n",
              "HasOnlineSecurityService    3\n",
              "HasOnlineBackup             3\n",
              "HasDeviceProtection         3\n",
              "HasTechSupportAccess        3\n",
              "HasOnlineTV                 3\n",
              "HasMovieSubscription        3\n",
              "HasContractPhone            3\n",
              "IsBillingPaperless          2\n",
              "PaymentMethod               4\n",
              "dtype: int64"
            ]
          },
          "metadata": {},
          "execution_count": 15
        }
      ]
    },
    {
      "cell_type": "code",
      "source": [
        "from sklearn.metrics import mutual_info_score\n",
        "def mutual_info_churn_score(series):\n",
        "    return mutual_info_score(series, X_train.Churn)\n",
        "mi = X_train[cat_cols].apply(mutual_info_churn_score)\n",
        "mi.sort_values(ascending=False)"
      ],
      "metadata": {
        "execution": {
          "iopub.status.busy": "2023-10-31T09:31:47.596433Z",
          "iopub.execute_input": "2023-10-31T09:31:47.596787Z",
          "iopub.status.idle": "2023-10-31T09:31:47.775536Z",
          "shell.execute_reply.started": "2023-10-31T09:31:47.596759Z",
          "shell.execute_reply": "2023-10-31T09:31:47.774422Z"
        },
        "trusted": true,
        "colab": {
          "base_uri": "https://localhost:8080/"
        },
        "id": "sIFDJ6SoHQNX",
        "outputId": "598eaae1-46a4-4583-ce59-b21c0168cefb"
      },
      "execution_count": 16,
      "outputs": [
        {
          "output_type": "execute_result",
          "data": {
            "text/plain": [
              "HasContractPhone            0.097955\n",
              "HasOnlineSecurityService    0.067773\n",
              "HasTechSupportAccess        0.062849\n",
              "HasInternetService          0.053713\n",
              "HasOnlineBackup             0.047331\n",
              "HasDeviceProtection         0.044004\n",
              "PaymentMethod               0.043035\n",
              "HasMovieSubscription        0.032343\n",
              "HasOnlineTV                 0.031956\n",
              "IsBillingPaperless          0.019481\n",
              "HasChild                    0.014120\n",
              "HasPartner                  0.010809\n",
              "HasMultiplePhoneNumbers     0.000885\n",
              "HasPhoneService             0.000050\n",
              "Sex                         0.000033\n",
              "dtype: float64"
            ]
          },
          "metadata": {},
          "execution_count": 16
        }
      ]
    },
    {
      "cell_type": "markdown",
      "source": [
        "## Logistic Regression"
      ],
      "metadata": {
        "id": "PIoZWQ2rHQNX"
      }
    },
    {
      "cell_type": "code",
      "source": [
        "def train(df_train, y_train, C):\n",
        "    dicts = df_train.to_dict(orient='records')\n",
        "\n",
        "    dv = DictVectorizer(sparse=False)\n",
        "    X_train = dv.fit_transform(dicts)\n",
        "\n",
        "    model = LogisticRegression(C=C, max_iter=1000)\n",
        "    model.fit(X_train, y_train)\n",
        "\n",
        "    return dv, model"
      ],
      "metadata": {
        "execution": {
          "iopub.status.busy": "2023-10-31T09:31:47.776937Z",
          "iopub.execute_input": "2023-10-31T09:31:47.777282Z",
          "iopub.status.idle": "2023-10-31T09:31:47.783369Z",
          "shell.execute_reply.started": "2023-10-31T09:31:47.777251Z",
          "shell.execute_reply": "2023-10-31T09:31:47.782316Z"
        },
        "trusted": true,
        "id": "KlvPaUpUHQNX"
      },
      "execution_count": 17,
      "outputs": []
    },
    {
      "cell_type": "code",
      "source": [
        "def predict(df, dv, model):\n",
        "    dicts = df.to_dict(orient='records')\n",
        "    X = dv.transform(dicts)\n",
        "    y_pred = model.predict_proba(X)[:, 1]\n",
        "    return y_pred"
      ],
      "metadata": {
        "execution": {
          "iopub.status.busy": "2023-10-31T09:31:47.785443Z",
          "iopub.execute_input": "2023-10-31T09:31:47.785925Z",
          "iopub.status.idle": "2023-10-31T09:31:47.797832Z",
          "shell.execute_reply.started": "2023-10-31T09:31:47.785885Z",
          "shell.execute_reply": "2023-10-31T09:31:47.796606Z"
        },
        "trusted": true,
        "id": "qbJKAbg9HQNX"
      },
      "execution_count": 18,
      "outputs": []
    },
    {
      "cell_type": "code",
      "source": [
        "df_train, df_val = train_test_split(X_train, test_size=0.2, random_state=11)\n",
        "\n",
        "df_train = df_train.reset_index(drop=True)\n",
        "df_val = df_val.reset_index(drop=True)\n",
        "X_test = X_test.reset_index(drop=True)\n",
        "\n",
        "y_train = df_train.Churn\n",
        "y_val = df_val.Churn\n",
        "\n",
        "del df_train['Churn']\n",
        "del df_val['Churn']\n",
        "\n",
        "\n",
        "# for C in tqdm([0.001, 0.01, 0.1, 0.5, 1, 5, 10]):\n",
        "\n",
        "#     dv, model = train(df_train, y_train, C=C)\n",
        "#     y_pred = predict(df_train, dv, model)\n",
        "\n",
        "\n",
        "#     y_pred_v = predict(df_val, dv, model)\n",
        "#     auc = roc_auc_score( y_train, y_pred)\n",
        "#     auc_v = roc_auc_score( y_val, y_pred_v)\n",
        "#     print(C, auc, auc_v)"
      ],
      "metadata": {
        "execution": {
          "iopub.status.busy": "2023-10-31T09:31:47.799566Z",
          "iopub.execute_input": "2023-10-31T09:31:47.800008Z",
          "iopub.status.idle": "2023-10-31T09:31:47.819594Z",
          "shell.execute_reply.started": "2023-10-31T09:31:47.799976Z",
          "shell.execute_reply": "2023-10-31T09:31:47.818450Z"
        },
        "trusted": true,
        "id": "hXQ-jfm9HQNX"
      },
      "execution_count": 19,
      "outputs": []
    },
    {
      "cell_type": "code",
      "source": [
        "x_tr = X_train\n",
        "y_tr = X_train.Churn\n",
        "\n",
        "del x_tr['Churn']\n",
        "\n",
        "dv, model = train(x_tr, y_tr, C=1)\n",
        "y_pred = predict(x_tr, dv, model)\n"
      ],
      "metadata": {
        "execution": {
          "iopub.status.busy": "2023-10-31T09:31:47.821090Z",
          "iopub.execute_input": "2023-10-31T09:31:47.821496Z",
          "iopub.status.idle": "2023-10-31T09:31:47.829761Z",
          "shell.execute_reply.started": "2023-10-31T09:31:47.821455Z",
          "shell.execute_reply": "2023-10-31T09:31:47.828474Z"
        },
        "trusted": true,
        "id": "J0mYvtLbHQNX"
      },
      "execution_count": 20,
      "outputs": []
    },
    {
      "cell_type": "code",
      "source": [
        "\n",
        "dv, model = train(df_train, y_train, C=1)\n",
        "\n",
        "y_pred = predict(df_train, dv, model)\n",
        "y_pred_v = predict(df_val, dv, model)\n",
        "auc = roc_auc_score( y_train, y_pred)\n",
        "auc_v = roc_auc_score( y_val, y_pred_v)\n",
        "print(auc, auc_v)"
      ],
      "metadata": {
        "execution": {
          "iopub.status.busy": "2023-10-31T09:31:47.831256Z",
          "iopub.execute_input": "2023-10-31T09:31:47.831733Z",
          "iopub.status.idle": "2023-10-31T09:31:47.843091Z",
          "shell.execute_reply.started": "2023-10-31T09:31:47.831703Z",
          "shell.execute_reply": "2023-10-31T09:31:47.841675Z"
        },
        "trusted": true,
        "colab": {
          "base_uri": "https://localhost:8080/"
        },
        "id": "_S1hLbqnHQNX",
        "outputId": "22e721eb-2748-4318-838c-4b71a4d4bfa4"
      },
      "execution_count": 21,
      "outputs": [
        {
          "output_type": "stream",
          "name": "stdout",
          "text": [
            "0.8537228801508974 0.8225723959936542\n"
          ]
        }
      ]
    },
    {
      "cell_type": "markdown",
      "source": [
        "### ROC-AUC on test for contest: 0.84435"
      ],
      "metadata": {
        "id": "NO0KWaEeHQNX"
      }
    },
    {
      "cell_type": "markdown",
      "source": [
        "## DecisionTreeClassifier"
      ],
      "metadata": {
        "id": "0AzcHiT0HQNY"
      }
    },
    {
      "cell_type": "code",
      "source": [
        "from sklearn.tree import DecisionTreeClassifier\n",
        "from sklearn.feature_extraction import DictVectorizer\n",
        "from sklearn.metrics import roc_auc_score\n",
        "from sklearn.tree import export_text"
      ],
      "metadata": {
        "execution": {
          "iopub.status.busy": "2023-10-31T09:31:47.844426Z",
          "iopub.execute_input": "2023-10-31T09:31:47.845605Z",
          "iopub.status.idle": "2023-10-31T09:31:47.856158Z",
          "shell.execute_reply.started": "2023-10-31T09:31:47.845445Z",
          "shell.execute_reply": "2023-10-31T09:31:47.854736Z"
        },
        "trusted": true,
        "id": "-IGI4KRsHQNY"
      },
      "execution_count": 22,
      "outputs": []
    },
    {
      "cell_type": "code",
      "source": [
        "def train_tree(df_train, y_train, depth):\n",
        "    dicts = df_train.to_dict(orient='records')\n",
        "\n",
        "    dv = DictVectorizer(sparse=False)\n",
        "    X_train = dv.fit_transform(dicts)\n",
        "\n",
        "    dt = DecisionTreeClassifier(max_depth=depth)\n",
        "    dt.fit(X_train, y_train)\n",
        "\n",
        "    return dv, dt\n",
        "\n",
        "def predict_tree(df, dv, model):\n",
        "    dicts = df.to_dict(orient='records')\n",
        "    X = dv.transform(dicts)\n",
        "    y_pred = model.predict_proba(X)[:, 1]\n",
        "    return y_pred\n",
        "\n",
        "# for depth in tqdm([1, 2, 3, 4, 5, 6, 10, 15, 20, None]):\n",
        "\n",
        "#     dv, model = train_tree(df_train, y_train, depth)\n",
        "#     y_pred = predict_tree(df_train, dv, model)\n",
        "\n",
        "#     y_pred_v = predict_tree(df_val, dv, model)\n",
        "#     auc = roc_auc_score( y_train, y_pred)\n",
        "#     auc_v = roc_auc_score( y_val, y_pred_v)\n",
        "#     print(depth, auc, auc_v)"
      ],
      "metadata": {
        "execution": {
          "iopub.status.busy": "2023-10-31T09:31:47.857786Z",
          "iopub.execute_input": "2023-10-31T09:31:47.858156Z",
          "iopub.status.idle": "2023-10-31T09:31:47.869713Z",
          "shell.execute_reply.started": "2023-10-31T09:31:47.858125Z",
          "shell.execute_reply": "2023-10-31T09:31:47.868438Z"
        },
        "trusted": true,
        "id": "iMvEIJcEHQNY"
      },
      "execution_count": 23,
      "outputs": []
    },
    {
      "cell_type": "code",
      "source": [
        "def train_tree_l(df_train, y_train, depth, leaf):\n",
        "    dicts = df_train.to_dict(orient='records')\n",
        "\n",
        "    dv = DictVectorizer(sparse=False)\n",
        "    X_train = dv.fit_transform(dicts)\n",
        "\n",
        "    dt = DecisionTreeClassifier(max_depth=depth, min_samples_leaf=leaf)\n",
        "    dt.fit(X_train, y_train)\n",
        "\n",
        "    return dv, dt\n",
        "\n",
        "def predict_tree_l(df, dv, model):\n",
        "    dicts = df.to_dict(orient='records')\n",
        "    X = dv.transform(dicts)\n",
        "    y_pred = model.predict_proba(X)[:, 1]\n",
        "    return y_pred\n",
        "\n",
        "# scores = []\n",
        "\n",
        "# for depth in [4, 5, 6]:\n",
        "#     for s in [1, 5, 10, 15, 20, 500, 100, 200]:\n",
        "#         dv, model = train_tree_l(df_train, y_train, depth, s)\n",
        "#         y_pred = predict_tree_l(df_train, dv, model)\n",
        "\n",
        "#         y_pred_v = predict_tree_l(df_val, dv, model)\n",
        "#         auc = roc_auc_score( y_train, y_pred)\n",
        "#         auc_v = roc_auc_score( y_val, y_pred_v)\n",
        "#         scores.append((depth, s, auc, auc_v))"
      ],
      "metadata": {
        "execution": {
          "iopub.status.busy": "2023-10-31T09:31:47.871477Z",
          "iopub.execute_input": "2023-10-31T09:31:47.871927Z",
          "iopub.status.idle": "2023-10-31T09:31:47.885886Z",
          "shell.execute_reply.started": "2023-10-31T09:31:47.871894Z",
          "shell.execute_reply": "2023-10-31T09:31:47.884671Z"
        },
        "trusted": true,
        "id": "nnJGctfLHQNY"
      },
      "execution_count": 24,
      "outputs": []
    },
    {
      "cell_type": "code",
      "source": [
        "# columns = ['max_depth', 'min_samples_leaf', 'auc', 'auc_val']\n",
        "# df_scores = pd.DataFrame(scores, columns=columns)\n",
        "# df_scores_pivot = df_scores.pivot(index='min_samples_leaf', columns=['max_depth'], values=['auc_val'])\n",
        "# df_scores_pivot.round(3)"
      ],
      "metadata": {
        "execution": {
          "iopub.status.busy": "2023-10-31T09:31:47.887596Z",
          "iopub.execute_input": "2023-10-31T09:31:47.888198Z",
          "iopub.status.idle": "2023-10-31T09:31:47.902846Z",
          "shell.execute_reply.started": "2023-10-31T09:31:47.888161Z",
          "shell.execute_reply": "2023-10-31T09:31:47.901896Z"
        },
        "trusted": true,
        "id": "Nsh_KLWSHQNY"
      },
      "execution_count": 25,
      "outputs": []
    },
    {
      "cell_type": "code",
      "source": [
        "# sns.heatmap(df_scores_pivot, annot=True, fmt=\".3f\")"
      ],
      "metadata": {
        "execution": {
          "iopub.status.busy": "2023-10-31T09:31:47.904028Z",
          "iopub.execute_input": "2023-10-31T09:31:47.904989Z",
          "iopub.status.idle": "2023-10-31T09:31:47.912691Z",
          "shell.execute_reply.started": "2023-10-31T09:31:47.904916Z",
          "shell.execute_reply": "2023-10-31T09:31:47.911781Z"
        },
        "trusted": true,
        "id": "IqQoIzOTHQNY"
      },
      "execution_count": 26,
      "outputs": []
    },
    {
      "cell_type": "code",
      "source": [
        "dv, model = train_tree_l(df_train, y_train, 5, 15)\n",
        "y_pred = predict(df_train, dv, model)\n",
        "y_pred_v = predict(df_val, dv, model)\n",
        "auc = roc_auc_score( y_train, y_pred)\n",
        "auc_v = roc_auc_score( y_val, y_pred_v)\n",
        "print(auc, auc_v)\n",
        "\n"
      ],
      "metadata": {
        "execution": {
          "iopub.status.busy": "2023-10-31T09:31:47.913818Z",
          "iopub.execute_input": "2023-10-31T09:31:47.914745Z",
          "iopub.status.idle": "2023-10-31T09:31:47.924545Z",
          "shell.execute_reply.started": "2023-10-31T09:31:47.914713Z",
          "shell.execute_reply": "2023-10-31T09:31:47.923233Z"
        },
        "trusted": true,
        "colab": {
          "base_uri": "https://localhost:8080/"
        },
        "id": "ErwjwKN2HQNY",
        "outputId": "64eb1499-bb7f-44b9-b7bb-17eb3911a58f"
      },
      "execution_count": 27,
      "outputs": [
        {
          "output_type": "stream",
          "name": "stdout",
          "text": [
            "0.856755820570552 0.8192171998200459\n"
          ]
        }
      ]
    },
    {
      "cell_type": "markdown",
      "source": [
        "### ROC-AUC on test for contest for decision tree: 0.84058\n"
      ],
      "metadata": {
        "id": "D6Lo-HZBHQNY"
      }
    },
    {
      "cell_type": "markdown",
      "source": [
        "## Random Forest Classifier"
      ],
      "metadata": {
        "id": "OWzd87TIHQNY"
      }
    },
    {
      "cell_type": "code",
      "source": [
        "from sklearn.ensemble import RandomForestClassifier"
      ],
      "metadata": {
        "execution": {
          "iopub.status.busy": "2023-10-31T09:31:47.925960Z",
          "iopub.execute_input": "2023-10-31T09:31:47.926576Z",
          "iopub.status.idle": "2023-10-31T09:31:47.934888Z",
          "shell.execute_reply.started": "2023-10-31T09:31:47.926534Z",
          "shell.execute_reply": "2023-10-31T09:31:47.933796Z"
        },
        "trusted": true,
        "id": "f6R0L8ibHQNZ"
      },
      "execution_count": 28,
      "outputs": []
    },
    {
      "cell_type": "code",
      "source": [
        "def train_randtree(df_train, y_train, estimators, d, leaf, feat, b):\n",
        "    dicts = df_train.to_dict(orient='records')\n",
        "\n",
        "    dv = DictVectorizer(sparse=False)\n",
        "    X_train = dv.fit_transform(dicts)\n",
        "\n",
        "    dt = RandomForestClassifier(max_features = feat,\n",
        "                                n_estimators=estimators,\n",
        "                                max_depth=d,\n",
        "                                min_samples_leaf=leaf,\n",
        "                                bootstrap = b,\n",
        "                                random_state=1)\n",
        "    dt.fit(X_train, y_train)\n",
        "\n",
        "    return dv, dt\n",
        "\n",
        "def predict_randtree(df, dv, model):\n",
        "    dicts = df.to_dict(orient='records')\n",
        "    X = dv.transform(dicts)\n",
        "    y_pred = model.predict_proba(X)[:, 1]\n",
        "    return y_pred\n",
        "\n",
        "scores = []\n",
        "\n",
        "for b in [True, False]:\n",
        "    dv, model = train_randtree(df_train, y_train, 50, 5, 10, 'sqrt',True)\n",
        "    y_pred = predict_randtree(df_train, dv, model)\n",
        "\n",
        "    y_pred_v = predict_randtree(df_val, dv, model)\n",
        "    auc = roc_auc_score( y_train, y_pred)\n",
        "    auc_v = roc_auc_score( y_val, y_pred_v)\n",
        "#     scores.append(( f, auc, auc_v))\n",
        "    print(( b, auc, auc_v))\n"
      ],
      "metadata": {
        "execution": {
          "iopub.status.busy": "2023-10-31T09:31:47.938608Z",
          "iopub.execute_input": "2023-10-31T09:31:47.939148Z",
          "iopub.status.idle": "2023-10-31T09:31:47.947604Z",
          "shell.execute_reply.started": "2023-10-31T09:31:47.939114Z",
          "shell.execute_reply": "2023-10-31T09:31:47.946347Z"
        },
        "trusted": true,
        "colab": {
          "base_uri": "https://localhost:8080/"
        },
        "id": "6NU9IG-kHQNZ",
        "outputId": "ad780c34-d770-415e-a278-ad826d8998fa"
      },
      "execution_count": 29,
      "outputs": [
        {
          "output_type": "stream",
          "name": "stdout",
          "text": [
            "(True, 0.862451880324092, 0.829529041271044)\n",
            "(False, 0.862451880324092, 0.829529041271044)\n"
          ]
        }
      ]
    },
    {
      "cell_type": "code",
      "source": [
        "dv, model = train_randtree(x_tr, y_tr, 50, 5, 10, 'sqrt',True)\n",
        "submission = pd.read_csv('/content/submission.csv')\n",
        "submission['Churn'] = predict_randtree(X_test, dv, model)"
      ],
      "metadata": {
        "execution": {
          "iopub.status.busy": "2023-10-31T09:31:47.961225Z",
          "iopub.execute_input": "2023-10-31T09:31:47.962300Z",
          "iopub.status.idle": "2023-10-31T09:31:47.969840Z",
          "shell.execute_reply.started": "2023-10-31T09:31:47.962262Z",
          "shell.execute_reply": "2023-10-31T09:31:47.968892Z"
        },
        "trusted": true,
        "id": "P5wSCP3mHQNZ"
      },
      "execution_count": 30,
      "outputs": []
    },
    {
      "cell_type": "code",
      "source": [
        "dv, model = train_randtree(df_train, y_train, 50, 5, 10, 'sqrt',True)\n",
        "y_pred = predict(df_train, dv, model)\n",
        "y_pred_v = predict(df_val, dv, model)\n",
        "auc = roc_auc_score( y_train, y_pred)\n",
        "auc_v = roc_auc_score( y_val, y_pred_v)\n",
        "print(auc, auc_v)"
      ],
      "metadata": {
        "execution": {
          "iopub.status.busy": "2023-10-31T09:31:47.971275Z",
          "iopub.execute_input": "2023-10-31T09:31:47.971902Z",
          "iopub.status.idle": "2023-10-31T09:31:47.980038Z",
          "shell.execute_reply.started": "2023-10-31T09:31:47.971869Z",
          "shell.execute_reply": "2023-10-31T09:31:47.978855Z"
        },
        "trusted": true,
        "colab": {
          "base_uri": "https://localhost:8080/"
        },
        "id": "L-8QMWaCHQNZ",
        "outputId": "530512ef-0261-44b6-ab0b-afa51aa1a3b4"
      },
      "execution_count": 31,
      "outputs": [
        {
          "output_type": "stream",
          "name": "stdout",
          "text": [
            "0.862451880324092 0.829529041271044\n"
          ]
        }
      ]
    },
    {
      "cell_type": "markdown",
      "source": [
        "### ROC-AUC on test for contest for decision tree: 0.84478"
      ],
      "metadata": {
        "id": "SpZl0oKBHQNZ"
      }
    },
    {
      "cell_type": "markdown",
      "source": [
        "## Gradient boosting and XGBoost"
      ],
      "metadata": {
        "id": "sUoh8DSMHQNZ"
      }
    },
    {
      "cell_type": "code",
      "source": [
        "!pip install xgboost"
      ],
      "metadata": {
        "execution": {
          "iopub.status.busy": "2023-10-31T09:31:47.981581Z",
          "iopub.execute_input": "2023-10-31T09:31:47.982341Z",
          "iopub.status.idle": "2023-10-31T09:31:47.991937Z",
          "shell.execute_reply.started": "2023-10-31T09:31:47.982303Z",
          "shell.execute_reply": "2023-10-31T09:31:47.990568Z"
        },
        "trusted": true,
        "colab": {
          "base_uri": "https://localhost:8080/"
        },
        "id": "RKjNaKcXHQNZ",
        "outputId": "2947b45a-04ba-4fde-9a88-b3ef077c67fd"
      },
      "execution_count": 32,
      "outputs": [
        {
          "output_type": "stream",
          "name": "stdout",
          "text": [
            "Requirement already satisfied: xgboost in /usr/local/lib/python3.10/dist-packages (2.0.1)\n",
            "Requirement already satisfied: numpy in /usr/local/lib/python3.10/dist-packages (from xgboost) (1.23.5)\n",
            "Requirement already satisfied: scipy in /usr/local/lib/python3.10/dist-packages (from xgboost) (1.11.3)\n"
          ]
        }
      ]
    },
    {
      "cell_type": "code",
      "source": [
        "import xgboost as xgb"
      ],
      "metadata": {
        "execution": {
          "iopub.status.busy": "2023-10-31T09:31:47.993772Z",
          "iopub.execute_input": "2023-10-31T09:31:47.994875Z",
          "iopub.status.idle": "2023-10-31T09:31:48.003709Z",
          "shell.execute_reply.started": "2023-10-31T09:31:47.994837Z",
          "shell.execute_reply": "2023-10-31T09:31:48.002588Z"
        },
        "trusted": true,
        "id": "2XGdueLzHQNa"
      },
      "execution_count": 33,
      "outputs": []
    },
    {
      "cell_type": "code",
      "source": [
        "dv = DictVectorizer(sparse=False)\n",
        "\n",
        "dicts = df_train.to_dict(orient='records')\n",
        "df_tr = dv.fit_transform(dicts)\n",
        "\n",
        "dicts = df_val.to_dict(orient='records')\n",
        "df_v = dv.transform(dicts)\n",
        "\n",
        "features = dv.get_feature_names_out()\n",
        "dtrain = xgb.DMatrix(df_tr, label=y_train)\n",
        "dval = xgb.DMatrix(df_v, label=y_val)"
      ],
      "metadata": {
        "execution": {
          "iopub.status.busy": "2023-10-31T09:31:48.005317Z",
          "iopub.execute_input": "2023-10-31T09:31:48.005871Z",
          "iopub.status.idle": "2023-10-31T09:31:48.324592Z",
          "shell.execute_reply.started": "2023-10-31T09:31:48.005837Z",
          "shell.execute_reply": "2023-10-31T09:31:48.323594Z"
        },
        "trusted": true,
        "id": "vaRl8HLXHQNa"
      },
      "execution_count": 34,
      "outputs": []
    },
    {
      "cell_type": "code",
      "source": [
        "scores = {}"
      ],
      "metadata": {
        "execution": {
          "iopub.status.busy": "2023-10-31T09:31:48.326055Z",
          "iopub.execute_input": "2023-10-31T09:31:48.326711Z",
          "iopub.status.idle": "2023-10-31T09:31:48.336846Z",
          "shell.execute_reply.started": "2023-10-31T09:31:48.326672Z",
          "shell.execute_reply": "2023-10-31T09:31:48.335564Z"
        },
        "trusted": true,
        "id": "wCawXADCHQNa"
      },
      "execution_count": 35,
      "outputs": []
    },
    {
      "cell_type": "code",
      "source": [
        "\n",
        "def parse_xgb_output(output):\n",
        "    results = []\n",
        "    for line in output.stdout.strip().split('\\n'):\n",
        "        it_line, train_line, val_line = line.split('\\t')\n",
        "\n",
        "        it = int(it_line.strip('[]'))\n",
        "        train = float(train_line.split(':')[1])\n",
        "        val = float(val_line.split(':')[1])\n",
        "\n",
        "        results.append((it, train, val))\n",
        "\n",
        "    columns = ['num_iter', 'train_auc', 'val_auc']\n",
        "    df_results = pd.DataFrame(results, columns=columns)\n",
        "    return df_results\n",
        "\n",
        "watchlist = [(dtrain, 'train'), (dval, 'val')]"
      ],
      "metadata": {
        "execution": {
          "iopub.status.busy": "2023-10-31T09:31:48.338523Z",
          "iopub.execute_input": "2023-10-31T09:31:48.339158Z",
          "iopub.status.idle": "2023-10-31T09:31:48.347418Z",
          "shell.execute_reply.started": "2023-10-31T09:31:48.339122Z",
          "shell.execute_reply": "2023-10-31T09:31:48.346322Z"
        },
        "trusted": true,
        "id": "77qN-c_2HQNa"
      },
      "execution_count": 36,
      "outputs": []
    },
    {
      "cell_type": "code",
      "source": [
        "%%capture output\n",
        "\n",
        "xgb_params = {\n",
        "    'eta':0.006,\n",
        "    'max_depth': 5,\n",
        "    'min_child_weight': 6,\n",
        "\n",
        "    'objective': 'binary:logistic',\n",
        "    'eval_metric': 'auc',\n",
        "\n",
        "    'nthread': 8,\n",
        "    'seed': 1,\n",
        "    'verbosity': 1,\n",
        "}\n",
        "\n",
        "model = xgb.train(xgb_params, dtrain, num_boost_round=250,\n",
        "                  verbose_eval=5,\n",
        "                  evals=watchlist)\n"
      ],
      "metadata": {
        "execution": {
          "iopub.status.busy": "2023-10-31T09:31:48.349020Z",
          "iopub.execute_input": "2023-10-31T09:31:48.349378Z",
          "iopub.status.idle": "2023-10-31T09:31:56.379482Z",
          "shell.execute_reply.started": "2023-10-31T09:31:48.349348Z",
          "shell.execute_reply": "2023-10-31T09:31:56.378544Z"
        },
        "trusted": true,
        "id": "vcS9pTNhHQNa"
      },
      "execution_count": 37,
      "outputs": []
    },
    {
      "cell_type": "code",
      "source": [
        "key = 'eta = %s dep=%s''child=%s'% (xgb_params['eta'], xgb_params['max_depth'], xgb_params['min_child_weight'])\n",
        "scores[key] = parse_xgb_output(output)\n",
        "key"
      ],
      "metadata": {
        "execution": {
          "iopub.status.busy": "2023-10-31T09:31:56.380901Z",
          "iopub.execute_input": "2023-10-31T09:31:56.384884Z",
          "iopub.status.idle": "2023-10-31T09:31:56.394791Z",
          "shell.execute_reply.started": "2023-10-31T09:31:56.384838Z",
          "shell.execute_reply": "2023-10-31T09:31:56.393597Z"
        },
        "trusted": true,
        "colab": {
          "base_uri": "https://localhost:8080/",
          "height": 35
        },
        "id": "2JzTHFD7HQNa",
        "outputId": "0200dc23-d150-4c88-f200-bb1897851ea5"
      },
      "execution_count": 38,
      "outputs": [
        {
          "output_type": "execute_result",
          "data": {
            "text/plain": [
              "'eta = 0.006 dep=5child=6'"
            ],
            "application/vnd.google.colaboratory.intrinsic+json": {
              "type": "string"
            }
          },
          "metadata": {},
          "execution_count": 38
        }
      ]
    },
    {
      "cell_type": "code",
      "source": [
        "for max_depth, df_score in scores.items():\n",
        "    plt.plot(df_score.num_iter, df_score.val_auc, label=max_depth)\n",
        "# plt.ylim(0.82, 0.83)\n",
        "# plt.xlim(10, 40)\n",
        "plt.legend()"
      ],
      "metadata": {
        "execution": {
          "iopub.status.busy": "2023-10-31T09:31:56.396576Z",
          "iopub.execute_input": "2023-10-31T09:31:56.397016Z",
          "iopub.status.idle": "2023-10-31T09:31:56.725598Z",
          "shell.execute_reply.started": "2023-10-31T09:31:56.396982Z",
          "shell.execute_reply": "2023-10-31T09:31:56.724275Z"
        },
        "trusted": true,
        "colab": {
          "base_uri": "https://localhost:8080/",
          "height": 447
        },
        "id": "rZdikISFHQNa",
        "outputId": "83364eee-bef6-4dcf-d044-1dffeecccb6a"
      },
      "execution_count": 39,
      "outputs": [
        {
          "output_type": "execute_result",
          "data": {
            "text/plain": [
              "<matplotlib.legend.Legend at 0x7c933eb9ed10>"
            ]
          },
          "metadata": {},
          "execution_count": 39
        },
        {
          "output_type": "display_data",
          "data": {
            "text/plain": [
              "<Figure size 640x480 with 1 Axes>"
            ],
            "image/png": "[encoded data removed]"
          },
          "metadata": {}
        }
      ]
    },
    {
      "cell_type": "code",
      "source": [
        "dicts = X_test.to_dict(orient='records')\n",
        "df_test = dv.transform(dicts)\n",
        "\n",
        "features = dv.get_feature_names_out()\n",
        "dtest = xgb.DMatrix(df_test)\n",
        "submission['Churn'] = model.predict(dtest)"
      ],
      "metadata": {
        "execution": {
          "iopub.status.busy": "2023-10-31T09:31:56.733872Z",
          "iopub.execute_input": "2023-10-31T09:31:56.734444Z",
          "iopub.status.idle": "2023-10-31T09:31:56.870802Z",
          "shell.execute_reply.started": "2023-10-31T09:31:56.734412Z",
          "shell.execute_reply": "2023-10-31T09:31:56.869824Z"
        },
        "trusted": true,
        "id": "8nbTbm5wHQNb"
      },
      "execution_count": 40,
      "outputs": []
    },
    {
      "cell_type": "markdown",
      "source": [
        "For all X_train"
      ],
      "metadata": {
        "id": "xS01krbRHQNb"
      }
    },
    {
      "cell_type": "code",
      "source": [
        "df_train_all = x_tr\n",
        "\n",
        "dv = DictVectorizer(sparse=False)\n",
        "\n",
        "dicts = df_train_all.to_dict(orient='records')\n",
        "df_tr = dv.fit_transform(dicts)\n",
        "\n",
        "features = dv.get_feature_names_out()\n",
        "dtrain = xgb.DMatrix(df_tr, label=y_tr)\n",
        "\n",
        "model = xgb.train(xgb_params, dtrain, num_boost_round=800,\n",
        "                  verbose_eval=5,\n",
        "                  evals=watchlist)\n",
        "\n",
        "\n",
        "dtest = xgb.DMatrix(df_test)\n",
        "submission['Churn'] = model.predict(dtest)"
      ],
      "metadata": {
        "execution": {
          "iopub.status.busy": "2023-10-31T09:31:56.884095Z",
          "iopub.execute_input": "2023-10-31T09:31:56.884472Z",
          "iopub.status.idle": "2023-10-31T09:32:26.063206Z",
          "shell.execute_reply.started": "2023-10-31T09:31:56.884440Z",
          "shell.execute_reply": "2023-10-31T09:32:26.061805Z"
        },
        "trusted": true,
        "id": "EZeA-7KFHQNb"
      },
      "execution_count": null,
      "outputs": []
    },
    {
      "cell_type": "code",
      "source": [
        "submission['Churn']"
      ],
      "metadata": {
        "execution": {
          "iopub.status.busy": "2023-10-31T09:32:26.064960Z",
          "iopub.execute_input": "2023-10-31T09:32:26.065437Z",
          "iopub.status.idle": "2023-10-31T09:32:26.076287Z",
          "shell.execute_reply.started": "2023-10-31T09:32:26.065391Z",
          "shell.execute_reply": "2023-10-31T09:32:26.074993Z"
        },
        "trusted": true,
        "colab": {
          "base_uri": "https://localhost:8080/"
        },
        "id": "iyvvYtOgHQNb",
        "outputId": "034e916a-35d3-4a65-fe02-6c29fe50c1ef"
      },
      "execution_count": 42,
      "outputs": [
        {
          "output_type": "execute_result",
          "data": {
            "text/plain": [
              "0       0.042336\n",
              "1       0.635492\n",
              "2       0.666194\n",
              "3       0.020385\n",
              "4       0.008010\n",
              "          ...   \n",
              "1756    0.208136\n",
              "1757    0.013438\n",
              "1758    0.843022\n",
              "1759    0.598301\n",
              "1760    0.009069\n",
              "Name: Churn, Length: 1761, dtype: float32"
            ]
          },
          "metadata": {},
          "execution_count": 42
        }
      ]
    },
    {
      "cell_type": "markdown",
      "source": [
        "### ROC-AUC on test for contest: 0.85198"
      ],
      "metadata": {
        "id": "f28varhuJCds"
      }
    },
    {
      "cell_type": "code",
      "source": [
        "submission.to_csv('/content/submission.csv', index=False)"
      ],
      "metadata": {
        "execution": {
          "iopub.status.busy": "2023-10-31T09:32:26.104477Z",
          "iopub.execute_input": "2023-10-31T09:32:26.104901Z",
          "iopub.status.idle": "2023-10-31T09:32:26.118490Z",
          "shell.execute_reply.started": "2023-10-31T09:32:26.104868Z",
          "shell.execute_reply": "2023-10-31T09:32:26.117102Z"
        },
        "trusted": true,
        "id": "t1PeJfZiHQNc"
      },
      "execution_count": 43,
      "outputs": []
    },
    {
      "cell_type": "markdown",
      "source": [
        "#### Save model"
      ],
      "metadata": {
        "id": "yXH9WLjcOLuR"
      }
    },
    {
      "cell_type": "code",
      "source": [
        "import pickle\n",
        "output_file = 'model_tree.bin'\n",
        "with open(output_file, 'wb') as f_out:\n",
        "    pickle.dump((dv, model), f_out)"
      ],
      "metadata": {
        "id": "Qy8nVF7uOP8h"
      },
      "execution_count": 44,
      "outputs": []
    },
    {
      "cell_type": "code",
      "source": [
        "stoppp"
      ],
      "metadata": {
        "colab": {
          "base_uri": "https://localhost:8080/",
          "height": 175
        },
        "id": "vIAp2cIVPZh9",
        "outputId": "406c68a3-4fa0-4d14-91a2-3c6a96c4b397"
      },
      "execution_count": 45,
      "outputs": [
        {
          "output_type": "error",
          "ename": "NameError",
          "evalue": "ignored",
          "traceback": [
            "\u001b[0;31m---------------------------------------------------------------------------\u001b[0m",
            "\u001b[0;31mNameError\u001b[0m                                 Traceback (most recent call last)",
            "\u001b[0;32m<ipython-input-45-76e368fc58ea>\u001b[0m in \u001b[0;36m<cell line: 1>\u001b[0;34m()\u001b[0m\n\u001b[0;32m----> 1\u001b[0;31m \u001b[0mstoppp\u001b[0m\u001b[0;34m\u001b[0m\u001b[0;34m\u001b[0m\u001b[0m\n\u001b[0m",
            "\u001b[0;31mNameError\u001b[0m: name 'stoppp' is not defined"
          ]
        }
      ]
    },
    {
      "cell_type": "markdown",
      "source": [],
      "metadata": {
        "id": "bQCphYB9TJVJ"
      }
    },
    {
      "cell_type": "markdown",
      "source": [
        "Load model"
      ],
      "metadata": {
        "id": "dw2UAiOsQBdr"
      }
    },
    {
      "cell_type": "code",
      "source": [
        "# import numpy as np\n",
        "import pandas as pd\n",
        "# from matplotlib import pyplot as plt\n",
        "# from sklearn.model_selection import train_test_split\n",
        "# import seaborn as sns\n",
        "# from sklearn.linear_model import LogisticRegression\n",
        "# from sklearn.metrics import roc_auc_score\n",
        "# from sklearn.metrics import accuracy_score\n",
        "# from sklearn.model_selection import train_test_split\n",
        "# from sklearn.feature_extraction import DictVectorizer\n",
        "# from tqdm import tqdm,trange,tqdm_notebook"
      ],
      "metadata": {
        "id": "nfZM40chS-pI"
      },
      "execution_count": 2,
      "outputs": []
    },
    {
      "cell_type": "code",
      "source": [
        "X_train = pd.read_csv('/content/train.csv')\n",
        "X_test = pd.read_csv('/content/test.csv')"
      ],
      "metadata": {
        "colab": {
          "base_uri": "https://localhost:8080/",
          "height": 193
        },
        "id": "_MWimhVWQAfC",
        "outputId": "c61073d0-832c-48de-92f8-fb311485df62"
      },
      "execution_count": 1,
      "outputs": [
        {
          "output_type": "error",
          "ename": "NameError",
          "evalue": "ignored",
          "traceback": [
            "\u001b[0;31m---------------------------------------------------------------------------\u001b[0m",
            "\u001b[0;31mNameError\u001b[0m                                 Traceback (most recent call last)",
            "\u001b[0;32m<ipython-input-1-e83840c8bfd0>\u001b[0m in \u001b[0;36m<cell line: 1>\u001b[0;34m()\u001b[0m\n\u001b[0;32m----> 1\u001b[0;31m \u001b[0mX_train\u001b[0m \u001b[0;34m=\u001b[0m \u001b[0mpd\u001b[0m\u001b[0;34m.\u001b[0m\u001b[0mread_csv\u001b[0m\u001b[0;34m(\u001b[0m\u001b[0;34m'/content/train.csv'\u001b[0m\u001b[0;34m)\u001b[0m\u001b[0;34m\u001b[0m\u001b[0;34m\u001b[0m\u001b[0m\n\u001b[0m\u001b[1;32m      2\u001b[0m \u001b[0mX_test\u001b[0m \u001b[0;34m=\u001b[0m \u001b[0mpd\u001b[0m\u001b[0;34m.\u001b[0m\u001b[0mread_csv\u001b[0m\u001b[0;34m(\u001b[0m\u001b[0;34m'/content/test.csv'\u001b[0m\u001b[0;34m)\u001b[0m\u001b[0;34m\u001b[0m\u001b[0;34m\u001b[0m\u001b[0m\n",
            "\u001b[0;31mNameError\u001b[0m: name 'pd' is not defined"
          ]
        }
      ]
    },
    {
      "cell_type": "code",
      "source": [
        "X_train = X_train.drop_duplicates()\n",
        "X_train['TotalSpent'] = pd.to_numeric(X_train['TotalSpent'], errors='coerce')\n",
        "X_test['TotalSpent'] = pd.to_numeric(X_test['TotalSpent'], errors='coerce')\n",
        "# X_train['TotalSpent'] = X_train['TotalSpent'].fillna(X_train['TotalSpent'].mean())\n",
        "# X_test['TotalSpent'] = X_test['TotalSpent'].fillna(X_test['TotalSpent'].mean())\n",
        "\n",
        "x_tr = X_train\n",
        "y_tr = X_train.Churn\n",
        "\n",
        "del x_tr['Churn']\n",
        "\n",
        "\n"
      ],
      "metadata": {
        "colab": {
          "base_uri": "https://localhost:8080/"
        },
        "id": "DEDHOQwaQS2O",
        "outputId": "88038359-083d-4f01-eaf0-79543b5927d5"
      },
      "execution_count": 55,
      "outputs": [
        {
          "output_type": "stream",
          "name": "stderr",
          "text": [
            "<ipython-input-55-412f46f44526>:2: SettingWithCopyWarning: \n",
            "A value is trying to be set on a copy of a slice from a DataFrame.\n",
            "Try using .loc[row_indexer,col_indexer] = value instead\n",
            "\n",
            "See the caveats in the documentation: https://pandas.pydata.org/pandas-docs/stable/user_guide/indexing.html#returning-a-view-versus-a-copy\n",
            "  X_train['TotalSpent'] = pd.to_numeric(X_train['TotalSpent'], errors='coerce')\n"
          ]
        }
      ]
    },
    {
      "cell_type": "code",
      "source": [
        "dicts = df_train_all.to_dict(orient='records')\n",
        "df_tr = dv.transform(dicts)\n",
        "\n",
        "dtest = xgb.DMatrix(df_test)\n",
        "submission = pd.read_csv('/content/submission.csv')\n",
        "# submission['Churn']\n",
        "model.predict(dtest)"
      ],
      "metadata": {
        "colab": {
          "base_uri": "https://localhost:8080/",
          "height": 494
        },
        "id": "jxeIYis_RVto",
        "outputId": "0badda7d-81a2-42ce-dcd2-e091f37204c0"
      },
      "execution_count": 63,
      "outputs": [
        {
          "output_type": "error",
          "ename": "ValueError",
          "evalue": "ignored",
          "traceback": [
            "\u001b[0;31m---------------------------------------------------------------------------\u001b[0m",
            "\u001b[0;31mValueError\u001b[0m                                Traceback (most recent call last)",
            "\u001b[0;32m<ipython-input-63-514580080f45>\u001b[0m in \u001b[0;36m<cell line: 7>\u001b[0;34m()\u001b[0m\n\u001b[1;32m      5\u001b[0m \u001b[0msubmission\u001b[0m \u001b[0;34m=\u001b[0m \u001b[0mpd\u001b[0m\u001b[0;34m.\u001b[0m\u001b[0mread_csv\u001b[0m\u001b[0;34m(\u001b[0m\u001b[0;34m'/content/submission.csv'\u001b[0m\u001b[0;34m)\u001b[0m\u001b[0;34m\u001b[0m\u001b[0;34m\u001b[0m\u001b[0m\n\u001b[1;32m      6\u001b[0m \u001b[0;31m# submission['Churn']\u001b[0m\u001b[0;34m\u001b[0m\u001b[0;34m\u001b[0m\u001b[0m\n\u001b[0;32m----> 7\u001b[0;31m \u001b[0mmodel\u001b[0m\u001b[0;34m.\u001b[0m\u001b[0mpredict\u001b[0m\u001b[0;34m(\u001b[0m\u001b[0mdtest\u001b[0m\u001b[0;34m)\u001b[0m\u001b[0;34m\u001b[0m\u001b[0;34m\u001b[0m\u001b[0m\n\u001b[0m",
            "\u001b[0;32m/usr/local/lib/python3.10/dist-packages/sklearn/linear_model/_base.py\u001b[0m in \u001b[0;36mpredict\u001b[0;34m(self, X)\u001b[0m\n\u001b[1;32m    417\u001b[0m         \"\"\"\n\u001b[1;32m    418\u001b[0m         \u001b[0mxp\u001b[0m\u001b[0;34m,\u001b[0m \u001b[0m_\u001b[0m \u001b[0;34m=\u001b[0m \u001b[0mget_namespace\u001b[0m\u001b[0;34m(\u001b[0m\u001b[0mX\u001b[0m\u001b[0;34m)\u001b[0m\u001b[0;34m\u001b[0m\u001b[0;34m\u001b[0m\u001b[0m\n\u001b[0;32m--> 419\u001b[0;31m         \u001b[0mscores\u001b[0m \u001b[0;34m=\u001b[0m \u001b[0mself\u001b[0m\u001b[0;34m.\u001b[0m\u001b[0mdecision_function\u001b[0m\u001b[0;34m(\u001b[0m\u001b[0mX\u001b[0m\u001b[0;34m)\u001b[0m\u001b[0;34m\u001b[0m\u001b[0;34m\u001b[0m\u001b[0m\n\u001b[0m\u001b[1;32m    420\u001b[0m         \u001b[0;32mif\u001b[0m \u001b[0mlen\u001b[0m\u001b[0;34m(\u001b[0m\u001b[0mscores\u001b[0m\u001b[0;34m.\u001b[0m\u001b[0mshape\u001b[0m\u001b[0;34m)\u001b[0m \u001b[0;34m==\u001b[0m \u001b[0;36m1\u001b[0m\u001b[0;34m:\u001b[0m\u001b[0;34m\u001b[0m\u001b[0;34m\u001b[0m\u001b[0m\n\u001b[1;32m    421\u001b[0m             \u001b[0mindices\u001b[0m \u001b[0;34m=\u001b[0m \u001b[0mxp\u001b[0m\u001b[0;34m.\u001b[0m\u001b[0mastype\u001b[0m\u001b[0;34m(\u001b[0m\u001b[0mscores\u001b[0m \u001b[0;34m>\u001b[0m \u001b[0;36m0\u001b[0m\u001b[0;34m,\u001b[0m \u001b[0mint\u001b[0m\u001b[0;34m)\u001b[0m\u001b[0;34m\u001b[0m\u001b[0;34m\u001b[0m\u001b[0m\n",
            "\u001b[0;32m/usr/local/lib/python3.10/dist-packages/sklearn/linear_model/_base.py\u001b[0m in \u001b[0;36mdecision_function\u001b[0;34m(self, X)\u001b[0m\n\u001b[1;32m    398\u001b[0m         \u001b[0mxp\u001b[0m\u001b[0;34m,\u001b[0m \u001b[0m_\u001b[0m \u001b[0;34m=\u001b[0m \u001b[0mget_namespace\u001b[0m\u001b[0;34m(\u001b[0m\u001b[0mX\u001b[0m\u001b[0;34m)\u001b[0m\u001b[0;34m\u001b[0m\u001b[0;34m\u001b[0m\u001b[0m\n\u001b[1;32m    399\u001b[0m \u001b[0;34m\u001b[0m\u001b[0m\n\u001b[0;32m--> 400\u001b[0;31m         \u001b[0mX\u001b[0m \u001b[0;34m=\u001b[0m \u001b[0mself\u001b[0m\u001b[0;34m.\u001b[0m\u001b[0m_validate_data\u001b[0m\u001b[0;34m(\u001b[0m\u001b[0mX\u001b[0m\u001b[0;34m,\u001b[0m \u001b[0maccept_sparse\u001b[0m\u001b[0;34m=\u001b[0m\u001b[0;34m\"csr\"\u001b[0m\u001b[0;34m,\u001b[0m \u001b[0mreset\u001b[0m\u001b[0;34m=\u001b[0m\u001b[0;32mFalse\u001b[0m\u001b[0;34m)\u001b[0m\u001b[0;34m\u001b[0m\u001b[0;34m\u001b[0m\u001b[0m\n\u001b[0m\u001b[1;32m    401\u001b[0m         \u001b[0mscores\u001b[0m \u001b[0;34m=\u001b[0m \u001b[0msafe_sparse_dot\u001b[0m\u001b[0;34m(\u001b[0m\u001b[0mX\u001b[0m\u001b[0;34m,\u001b[0m \u001b[0mself\u001b[0m\u001b[0;34m.\u001b[0m\u001b[0mcoef_\u001b[0m\u001b[0;34m.\u001b[0m\u001b[0mT\u001b[0m\u001b[0;34m,\u001b[0m \u001b[0mdense_output\u001b[0m\u001b[0;34m=\u001b[0m\u001b[0;32mTrue\u001b[0m\u001b[0;34m)\u001b[0m \u001b[0;34m+\u001b[0m \u001b[0mself\u001b[0m\u001b[0;34m.\u001b[0m\u001b[0mintercept_\u001b[0m\u001b[0;34m\u001b[0m\u001b[0;34m\u001b[0m\u001b[0m\n\u001b[1;32m    402\u001b[0m         \u001b[0;32mreturn\u001b[0m \u001b[0mxp\u001b[0m\u001b[0;34m.\u001b[0m\u001b[0mreshape\u001b[0m\u001b[0;34m(\u001b[0m\u001b[0mscores\u001b[0m\u001b[0;34m,\u001b[0m \u001b[0;34m-\u001b[0m\u001b[0;36m1\u001b[0m\u001b[0;34m)\u001b[0m \u001b[0;32mif\u001b[0m \u001b[0mscores\u001b[0m\u001b[0;34m.\u001b[0m\u001b[0mshape\u001b[0m\u001b[0;34m[\u001b[0m\u001b[0;36m1\u001b[0m\u001b[0;34m]\u001b[0m \u001b[0;34m==\u001b[0m \u001b[0;36m1\u001b[0m \u001b[0;32melse\u001b[0m \u001b[0mscores\u001b[0m\u001b[0;34m\u001b[0m\u001b[0;34m\u001b[0m\u001b[0m\n",
            "\u001b[0;32m/usr/local/lib/python3.10/dist-packages/sklearn/base.py\u001b[0m in \u001b[0;36m_validate_data\u001b[0;34m(self, X, y, reset, validate_separately, **check_params)\u001b[0m\n\u001b[1;32m    563\u001b[0m             \u001b[0;32mraise\u001b[0m \u001b[0mValueError\u001b[0m\u001b[0;34m(\u001b[0m\u001b[0;34m\"Validation should be done on X, y or both.\"\u001b[0m\u001b[0;34m)\u001b[0m\u001b[0;34m\u001b[0m\u001b[0;34m\u001b[0m\u001b[0m\n\u001b[1;32m    564\u001b[0m         \u001b[0;32melif\u001b[0m \u001b[0;32mnot\u001b[0m \u001b[0mno_val_X\u001b[0m \u001b[0;32mand\u001b[0m \u001b[0mno_val_y\u001b[0m\u001b[0;34m:\u001b[0m\u001b[0;34m\u001b[0m\u001b[0;34m\u001b[0m\u001b[0m\n\u001b[0;32m--> 565\u001b[0;31m             \u001b[0mX\u001b[0m \u001b[0;34m=\u001b[0m \u001b[0mcheck_array\u001b[0m\u001b[0;34m(\u001b[0m\u001b[0mX\u001b[0m\u001b[0;34m,\u001b[0m \u001b[0minput_name\u001b[0m\u001b[0;34m=\u001b[0m\u001b[0;34m\"X\"\u001b[0m\u001b[0;34m,\u001b[0m \u001b[0;34m**\u001b[0m\u001b[0mcheck_params\u001b[0m\u001b[0;34m)\u001b[0m\u001b[0;34m\u001b[0m\u001b[0;34m\u001b[0m\u001b[0m\n\u001b[0m\u001b[1;32m    566\u001b[0m             \u001b[0mout\u001b[0m \u001b[0;34m=\u001b[0m \u001b[0mX\u001b[0m\u001b[0;34m\u001b[0m\u001b[0;34m\u001b[0m\u001b[0m\n\u001b[1;32m    567\u001b[0m         \u001b[0;32melif\u001b[0m \u001b[0mno_val_X\u001b[0m \u001b[0;32mand\u001b[0m \u001b[0;32mnot\u001b[0m \u001b[0mno_val_y\u001b[0m\u001b[0;34m:\u001b[0m\u001b[0;34m\u001b[0m\u001b[0;34m\u001b[0m\u001b[0m\n",
            "\u001b[0;32m/usr/local/lib/python3.10/dist-packages/sklearn/utils/validation.py\u001b[0m in \u001b[0;36mcheck_array\u001b[0;34m(array, accept_sparse, accept_large_sparse, dtype, order, copy, force_all_finite, ensure_2d, allow_nd, ensure_min_samples, ensure_min_features, estimator, input_name)\u001b[0m\n\u001b[1;32m    892\u001b[0m             \u001b[0;31m# If input is scalar raise error\u001b[0m\u001b[0;34m\u001b[0m\u001b[0;34m\u001b[0m\u001b[0m\n\u001b[1;32m    893\u001b[0m             \u001b[0;32mif\u001b[0m \u001b[0marray\u001b[0m\u001b[0;34m.\u001b[0m\u001b[0mndim\u001b[0m \u001b[0;34m==\u001b[0m \u001b[0;36m0\u001b[0m\u001b[0;34m:\u001b[0m\u001b[0;34m\u001b[0m\u001b[0;34m\u001b[0m\u001b[0m\n\u001b[0;32m--> 894\u001b[0;31m                 raise ValueError(\n\u001b[0m\u001b[1;32m    895\u001b[0m                     \u001b[0;34m\"Expected 2D array, got scalar array instead:\\narray={}.\\n\"\u001b[0m\u001b[0;34m\u001b[0m\u001b[0;34m\u001b[0m\u001b[0m\n\u001b[1;32m    896\u001b[0m                     \u001b[0;34m\"Reshape your data either using array.reshape(-1, 1) if \"\u001b[0m\u001b[0;34m\u001b[0m\u001b[0;34m\u001b[0m\u001b[0m\n",
            "\u001b[0;31mValueError\u001b[0m: Expected 2D array, got scalar array instead:\narray=<xgboost.core.DMatrix object at 0x7c93245f5ba0>.\nReshape your data either using array.reshape(-1, 1) if your data has a single feature or array.reshape(1, -1) if it contains a single sample."
          ]
        }
      ]
    },
    {
      "cell_type": "code",
      "source": [
        "with open(output_file, 'rb') as f_in:\n",
        "    dv, model = pickle.load(f_in)\n",
        "\n"
      ],
      "metadata": {
        "id": "0zFuZH2HPThd"
      },
      "execution_count": 47,
      "outputs": []
    },
    {
      "cell_type": "code",
      "source": [
        "model"
      ],
      "metadata": {
        "colab": {
          "base_uri": "https://localhost:8080/"
        },
        "id": "11WV5MmBQJQR",
        "outputId": "82e5637e-1f10-4023-8d6b-4ef6fd1e72f5"
      },
      "execution_count": 48,
      "outputs": [
        {
          "output_type": "execute_result",
          "data": {
            "text/plain": [
              "<xgboost.core.Booster at 0x7c9341293490>"
            ]
          },
          "metadata": {},
          "execution_count": 48
        }
      ]
    },
    {
      "cell_type": "markdown",
      "source": [
        "## Catboost"
      ],
      "metadata": {
        "id": "4UEBGfaCJPpT"
      }
    },
    {
      "cell_type": "code",
      "source": [
        "!pip install catboost\n",
        "import catboost\n",
        "\n",
        "boosting_model = catboost.CatBoostClassifier(n_estimators=50, silent=True,\n",
        "                                             cat_features=cat_cols,\n",
        "                                             eval_metric='AUC')\n",
        "\n",
        "boosting_model.fit(df_train, y_train)\n",
        "\n",
        "y_train_predicted = boosting_model.predict_proba(df_train)[:, 1]\n",
        "y_val_predicted = boosting_model.predict_proba(df_val) [:, 1]\n",
        "\n",
        "from sklearn.metrics import roc_auc_score, roc_curve\n",
        "\n",
        "train_auc = roc_auc_score(y_train, y_train_predicted)\n",
        "val_auc = roc_auc_score(y_val, y_val_predicted)\n",
        "\n",
        "plt.figure(figsize=(10,7))\n",
        "plt.plot(*roc_curve(y_train, y_train_predicted)[:2], label='train AUC={:.4f}'.format(train_auc))\n",
        "plt.plot(*roc_curve(y_val, y_val_predicted)[:2], label='val AUC={:.4f}'.format(val_auc))\n",
        "legend_box = plt.legend(fontsize='large', framealpha=1).get_frame()\n",
        "legend_box.set_facecolor(\"white\")\n",
        "legend_box.set_edgecolor(\"black\")\n",
        "plt.plot(np.linspace(0,1,100), np.linspace(0,1,100))\n",
        "plt.show()"
      ],
      "metadata": {
        "execution": {
          "iopub.status.busy": "2023-10-31T09:32:26.120125Z",
          "iopub.execute_input": "2023-10-31T09:32:26.120543Z",
          "iopub.status.idle": "2023-10-31T09:32:26.751404Z",
          "shell.execute_reply.started": "2023-10-31T09:32:26.120483Z",
          "shell.execute_reply": "2023-10-31T09:32:26.750230Z"
        },
        "trusted": true,
        "id": "cRcMpc-UHQNc"
      },
      "execution_count": null,
      "outputs": []
    },
    {
      "cell_type": "markdown",
      "source": [
        "### ROC-AUC on test for contest for catboost: 0.84593"
      ],
      "metadata": {
        "id": "-XihR91YHQNd"
      }
    },
    {
      "cell_type": "code",
      "source": [
        "boosting_model.fit(x_tr, y_tr)\n",
        "# submission['Churn'] = boosting_model.predict_proba(X_test)[:, 1]"
      ],
      "metadata": {
        "execution": {
          "iopub.status.busy": "2023-10-31T09:32:26.759938Z",
          "iopub.execute_input": "2023-10-31T09:32:26.760266Z",
          "iopub.status.idle": "2023-10-31T09:32:27.081596Z",
          "shell.execute_reply.started": "2023-10-31T09:32:26.760236Z",
          "shell.execute_reply": "2023-10-31T09:32:27.080408Z"
        },
        "trusted": true,
        "id": "Hf78HUlnHQNd"
      },
      "execution_count": null,
      "outputs": []
    }
  ]
}