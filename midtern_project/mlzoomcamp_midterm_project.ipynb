{
  "cells": [
    {
      "cell_type": "markdown",
      "metadata": {
        "id": "view-in-github",
        "colab_type": "text"
      },
      "source": [
        "<a href=\"https://colab.research.google.com/github/difurka/mlbookcamp_learning/blob/main/mlzoomcamp_midterm_project.ipynb\" target=\"_parent\"><img src=\"https://colab.research.google.com/assets/colab-badge.svg\" alt=\"Open In Colab\"/></a>"
      ]
    },
    {
      "cell_type": "markdown",
      "metadata": {
        "id": "jkOcHxrTHQNR"
      },
      "source": [
        "# Description\n",
        "\n",
        "This competition is homework for module 3 of the advanced DLS stream (spring 2021). You will learn how to model customer churn for a telecom company. This task is very important in practice and algorithms for solving it are used in real telecom companies, because if we know that a client is going to leave us, then we will try to keep him by offering some kind of bonuses.(https://www.kaggle.com/competitions/advanced-dls-spring-2021/overview)\n",
        "\n",
        "\n",
        "Next models are used: Logistic Regression, DecisionTreeClassifier, Random Forest Classifier, and Gradient boosting, and CatBoost.\n",
        "\n",
        "Random Forest Classifier has given the best result for test dataset on Kaggle.\n"
      ]
    },
    {
      "cell_type": "markdown",
      "metadata": {
        "id": "zRkNNKWPH4kJ"
      },
      "source": [
        "Add datasets from kaggle:"
      ]
    },
    {
      "cell_type": "code",
      "execution_count": null,
      "metadata": {
        "colab": {
          "base_uri": "https://localhost:8080/"
        },
        "id": "MnMZuIYIHQNO",
        "outputId": "a4851db2-58d7-48d8-874f-b1611f78df5d"
      },
      "outputs": [
        {
          "output_type": "stream",
          "name": "stdout",
          "text": [
            "Mounted at /content/gdrive\n",
            "Downloading advanced-dls-spring-2021.zip to /content\n",
            "  0% 0.00/115k [00:00<?, ?B/s]\n",
            "100% 115k/115k [00:00<00:00, 70.1MB/s]\n",
            "Archive:  advanced-dls-spring-2021.zip\n",
            "  inflating: submission.csv          \n",
            "  inflating: test.csv                \n",
            "  inflating: train.csv               \n"
          ]
        }
      ],
      "source": [
        "from google.colab import drive\n",
        "drive.mount('/content/gdrive')\n",
        "\n",
        "import os\n",
        "os.environ['KAGGLE_CONFIG_DIR'] = \"/content/gdrive/My Drive/kaggle/\"\n",
        "!kaggle competitions download -c advanced-dls-spring-2021\n",
        "!unzip \\*.zip  && rm *.zip"
      ]
    },
    {
      "cell_type": "code",
      "execution_count": null,
      "metadata": {
        "id": "vW7G6fpXHQNS"
      },
      "outputs": [],
      "source": [
        "import numpy as np\n",
        "import pandas as pd\n",
        "from matplotlib import pyplot as plt\n",
        "from sklearn.model_selection import train_test_split\n",
        "import seaborn as sns\n",
        "from sklearn.linear_model import LogisticRegression\n",
        "from sklearn.metrics import roc_auc_score\n",
        "from sklearn.metrics import accuracy_score\n",
        "from sklearn.model_selection import train_test_split\n",
        "from sklearn.feature_extraction import DictVectorizer\n",
        "from tqdm import tqdm,trange,tqdm_notebook"
      ]
    },
    {
      "cell_type": "markdown",
      "metadata": {
        "id": "dnLb12f-HQNT"
      },
      "source": [
        " ## Load data"
      ]
    },
    {
      "cell_type": "code",
      "execution_count": null,
      "metadata": {
        "id": "Ng60qsvSHQNT"
      },
      "outputs": [],
      "source": [
        "X_train = pd.read_csv('/content/train.csv')\n",
        "X_test = pd.read_csv('/content/test.csv')"
      ]
    },
    {
      "cell_type": "markdown",
      "metadata": {
        "id": "m_C7fHpgHQNT"
      },
      "source": [
        "Look at random rows"
      ]
    },
    {
      "cell_type": "code",
      "execution_count": null,
      "metadata": {
        "colab": {
          "base_uri": "https://localhost:8080/",
          "height": 296
        },
        "id": "67Xy_FCiHQNT",
        "outputId": "1d26ccf7-1d8d-4445-f33c-dd3df898ec3b"
      },
      "outputs": [
        {
          "output_type": "execute_result",
          "data": {
            "text/plain": [
              "      ClientPeriod  MonthlySpending TotalSpent     Sex  IsSeniorCitizen  \\\n",
              "4805            42            74.15     3229.4  Female                1   \n",
              "1919            12            81.70      858.6    Male                0   \n",
              "106             31            20.10     589.25  Female                0   \n",
              "704             19            59.55     1144.6    Male                0   \n",
              "5023             1            19.55      19.55    Male                0   \n",
              "\n",
              "     HasPartner HasChild HasPhoneService HasMultiplePhoneNumbers  \\\n",
              "4805        Yes       No             Yes                      No   \n",
              "1919         No       No             Yes                      No   \n",
              "106          No      Yes             Yes                      No   \n",
              "704          No       No             Yes                     Yes   \n",
              "5023         No       No             Yes                      No   \n",
              "\n",
              "     HasInternetService HasOnlineSecurityService      HasOnlineBackup  \\\n",
              "4805        Fiber optic                      Yes                   No   \n",
              "1919        Fiber optic                      Yes                   No   \n",
              "106                  No      No internet service  No internet service   \n",
              "704                 DSL                       No                   No   \n",
              "5023                 No      No internet service  No internet service   \n",
              "\n",
              "      HasDeviceProtection HasTechSupportAccess          HasOnlineTV  \\\n",
              "4805                   No                   No                   No   \n",
              "1919                  Yes                   No                   No   \n",
              "106   No internet service  No internet service  No internet service   \n",
              "704                   Yes                  Yes                   No   \n",
              "5023  No internet service  No internet service  No internet service   \n",
              "\n",
              "     HasMovieSubscription HasContractPhone IsBillingPaperless  \\\n",
              "4805                   No   Month-to-month                Yes   \n",
              "1919                   No   Month-to-month                 No   \n",
              "106   No internet service         One year                 No   \n",
              "704                    No   Month-to-month                 No   \n",
              "5023  No internet service   Month-to-month                 No   \n",
              "\n",
              "                  PaymentMethod  Churn  \n",
              "4805    Credit card (automatic)      1  \n",
              "1919  Bank transfer (automatic)      1  \n",
              "106     Credit card (automatic)      0  \n",
              "704            Electronic check      0  \n",
              "5023               Mailed check      1  "
            ],
            "text/html": [
              "\n",
              "  <div id=\"df-db2def89-e104-4f33-aad1-c19510f20ba1\" class=\"colab-df-container\">\n",
              "    <div>\n",
              "<style scoped>\n",
              "    .dataframe tbody tr th:only-of-type {\n",
              "        vertical-align: middle;\n",
              "    }\n",
              "\n",
              "    .dataframe tbody tr th {\n",
              "        vertical-align: top;\n",
              "    }\n",
              "\n",
              "    .dataframe thead th {\n",
              "        text-align: right;\n",
              "    }\n",
              "</style>\n",
              "<table border=\"1\" class=\"dataframe\">\n",
              "  <thead>\n",
              "    <tr style=\"text-align: right;\">\n",
              "      <th></th>\n",
              "      <th>ClientPeriod</th>\n",
              "      <th>MonthlySpending</th>\n",
              "      <th>TotalSpent</th>\n",
              "      <th>Sex</th>\n",
              "      <th>IsSeniorCitizen</th>\n",
              "      <th>HasPartner</th>\n",
              "      <th>HasChild</th>\n",
              "      <th>HasPhoneService</th>\n",
              "      <th>HasMultiplePhoneNumbers</th>\n",
              "      <th>HasInternetService</th>\n",
              "      <th>HasOnlineSecurityService</th>\n",
              "      <th>HasOnlineBackup</th>\n",
              "      <th>HasDeviceProtection</th>\n",
              "      <th>HasTechSupportAccess</th>\n",
              "      <th>HasOnlineTV</th>\n",
              "      <th>HasMovieSubscription</th>\n",
              "      <th>HasContractPhone</th>\n",
              "      <th>IsBillingPaperless</th>\n",
              "      <th>PaymentMethod</th>\n",
              "      <th>Churn</th>\n",
              "    </tr>\n",
              "  </thead>\n",
              "  <tbody>\n",
              "    <tr>\n",
              "      <th>4805</th>\n",
              "      <td>42</td>\n",
              "      <td>74.15</td>\n",
              "      <td>3229.4</td>\n",
              "      <td>Female</td>\n",
              "      <td>1</td>\n",
              "      <td>Yes</td>\n",
              "      <td>No</td>\n",
              "      <td>Yes</td>\n",
              "      <td>No</td>\n",
              "      <td>Fiber optic</td>\n",
              "      <td>Yes</td>\n",
              "      <td>No</td>\n",
              "      <td>No</td>\n",
              "      <td>No</td>\n",
              "      <td>No</td>\n",
              "      <td>No</td>\n",
              "      <td>Month-to-month</td>\n",
              "      <td>Yes</td>\n",
              "      <td>Credit card (automatic)</td>\n",
              "      <td>1</td>\n",
              "    </tr>\n",
              "    <tr>\n",
              "      <th>1919</th>\n",
              "      <td>12</td>\n",
              "      <td>81.70</td>\n",
              "      <td>858.6</td>\n",
              "      <td>Male</td>\n",
              "      <td>0</td>\n",
              "      <td>No</td>\n",
              "      <td>No</td>\n",
              "      <td>Yes</td>\n",
              "      <td>No</td>\n",
              "      <td>Fiber optic</td>\n",
              "      <td>Yes</td>\n",
              "      <td>No</td>\n",
              "      <td>Yes</td>\n",
              "      <td>No</td>\n",
              "      <td>No</td>\n",
              "      <td>No</td>\n",
              "      <td>Month-to-month</td>\n",
              "      <td>No</td>\n",
              "      <td>Bank transfer (automatic)</td>\n",
              "      <td>1</td>\n",
              "    </tr>\n",
              "    <tr>\n",
              "      <th>106</th>\n",
              "      <td>31</td>\n",
              "      <td>20.10</td>\n",
              "      <td>589.25</td>\n",
              "      <td>Female</td>\n",
              "      <td>0</td>\n",
              "      <td>No</td>\n",
              "      <td>Yes</td>\n",
              "      <td>Yes</td>\n",
              "      <td>No</td>\n",
              "      <td>No</td>\n",
              "      <td>No internet service</td>\n",
              "      <td>No internet service</td>\n",
              "      <td>No internet service</td>\n",
              "      <td>No internet service</td>\n",
              "      <td>No internet service</td>\n",
              "      <td>No internet service</td>\n",
              "      <td>One year</td>\n",
              "      <td>No</td>\n",
              "      <td>Credit card (automatic)</td>\n",
              "      <td>0</td>\n",
              "    </tr>\n",
              "    <tr>\n",
              "      <th>704</th>\n",
              "      <td>19</td>\n",
              "      <td>59.55</td>\n",
              "      <td>1144.6</td>\n",
              "      <td>Male</td>\n",
              "      <td>0</td>\n",
              "      <td>No</td>\n",
              "      <td>No</td>\n",
              "      <td>Yes</td>\n",
              "      <td>Yes</td>\n",
              "      <td>DSL</td>\n",
              "      <td>No</td>\n",
              "      <td>No</td>\n",
              "      <td>Yes</td>\n",
              "      <td>Yes</td>\n",
              "      <td>No</td>\n",
              "      <td>No</td>\n",
              "      <td>Month-to-month</td>\n",
              "      <td>No</td>\n",
              "      <td>Electronic check</td>\n",
              "      <td>0</td>\n",
              "    </tr>\n",
              "    <tr>\n",
              "      <th>5023</th>\n",
              "      <td>1</td>\n",
              "      <td>19.55</td>\n",
              "      <td>19.55</td>\n",
              "      <td>Male</td>\n",
              "      <td>0</td>\n",
              "      <td>No</td>\n",
              "      <td>No</td>\n",
              "      <td>Yes</td>\n",
              "      <td>No</td>\n",
              "      <td>No</td>\n",
              "      <td>No internet service</td>\n",
              "      <td>No internet service</td>\n",
              "      <td>No internet service</td>\n",
              "      <td>No internet service</td>\n",
              "      <td>No internet service</td>\n",
              "      <td>No internet service</td>\n",
              "      <td>Month-to-month</td>\n",
              "      <td>No</td>\n",
              "      <td>Mailed check</td>\n",
              "      <td>1</td>\n",
              "    </tr>\n",
              "  </tbody>\n",
              "</table>\n",
              "</div>\n",
              "    <div class=\"colab-df-buttons\">\n",
              "\n",
              "  <div class=\"colab-df-container\">\n",
              "    <button class=\"colab-df-convert\" onclick=\"convertToInteractive('df-db2def89-e104-4f33-aad1-c19510f20ba1')\"\n",
              "            title=\"Convert this dataframe to an interactive table.\"\n",
              "            style=\"display:none;\">\n",
              "\n",
              "  <svg xmlns=\"http://www.w3.org/2000/svg\" height=\"24px\" viewBox=\"0 -960 960 960\">\n",
              "    <path d=\"M120-120v-720h720v720H120Zm60-500h600v-160H180v160Zm220 220h160v-160H400v160Zm0 220h160v-160H400v160ZM180-400h160v-160H180v160Zm440 0h160v-160H620v160ZM180-180h160v-160H180v160Zm440 0h160v-160H620v160Z\"/>\n",
              "  </svg>\n",
              "    </button>\n",
              "\n",
              "  <style>\n",
              "    .colab-df-container {\n",
              "      display:flex;\n",
              "      gap: 12px;\n",
              "    }\n",
              "\n",
              "    .colab-df-convert {\n",
              "      background-color: #E8F0FE;\n",
              "      border: none;\n",
              "      border-radius: 50%;\n",
              "      cursor: pointer;\n",
              "      display: none;\n",
              "      fill: #1967D2;\n",
              "      height: 32px;\n",
              "      padding: 0 0 0 0;\n",
              "      width: 32px;\n",
              "    }\n",
              "\n",
              "    .colab-df-convert:hover {\n",
              "      background-color: #E2EBFA;\n",
              "      box-shadow: 0px 1px 2px rgba(60, 64, 67, 0.3), 0px 1px 3px 1px rgba(60, 64, 67, 0.15);\n",
              "      fill: #174EA6;\n",
              "    }\n",
              "\n",
              "    .colab-df-buttons div {\n",
              "      margin-bottom: 4px;\n",
              "    }\n",
              "\n",
              "    [theme=dark] .colab-df-convert {\n",
              "      background-color: #3B4455;\n",
              "      fill: #D2E3FC;\n",
              "    }\n",
              "\n",
              "    [theme=dark] .colab-df-convert:hover {\n",
              "      background-color: #434B5C;\n",
              "      box-shadow: 0px 1px 3px 1px rgba(0, 0, 0, 0.15);\n",
              "      filter: drop-shadow(0px 1px 2px rgba(0, 0, 0, 0.3));\n",
              "      fill: #FFFFFF;\n",
              "    }\n",
              "  </style>\n",
              "\n",
              "    <script>\n",
              "      const buttonEl =\n",
              "        document.querySelector('#df-db2def89-e104-4f33-aad1-c19510f20ba1 button.colab-df-convert');\n",
              "      buttonEl.style.display =\n",
              "        google.colab.kernel.accessAllowed ? 'block' : 'none';\n",
              "\n",
              "      async function convertToInteractive(key) {\n",
              "        const element = document.querySelector('#df-db2def89-e104-4f33-aad1-c19510f20ba1');\n",
              "        const dataTable =\n",
              "          await google.colab.kernel.invokeFunction('convertToInteractive',\n",
              "                                                    [key], {});\n",
              "        if (!dataTable) return;\n",
              "\n",
              "        const docLinkHtml = 'Like what you see? Visit the ' +\n",
              "          '<a target=\"_blank\" href=https://colab.research.google.com/notebooks/data_table.ipynb>data table notebook</a>'\n",
              "          + ' to learn more about interactive tables.';\n",
              "        element.innerHTML = '';\n",
              "        dataTable['output_type'] = 'display_data';\n",
              "        await google.colab.output.renderOutput(dataTable, element);\n",
              "        const docLink = document.createElement('div');\n",
              "        docLink.innerHTML = docLinkHtml;\n",
              "        element.appendChild(docLink);\n",
              "      }\n",
              "    </script>\n",
              "  </div>\n",
              "\n",
              "\n",
              "<div id=\"df-542bcea0-7406-46d4-96a9-89e8e6caa99c\">\n",
              "  <button class=\"colab-df-quickchart\" onclick=\"quickchart('df-542bcea0-7406-46d4-96a9-89e8e6caa99c')\"\n",
              "            title=\"Suggest charts.\"\n",
              "            style=\"display:none;\">\n",
              "\n",
              "<svg xmlns=\"http://www.w3.org/2000/svg\" height=\"24px\"viewBox=\"0 0 24 24\"\n",
              "     width=\"24px\">\n",
              "    <g>\n",
              "        <path d=\"M19 3H5c-1.1 0-2 .9-2 2v14c0 1.1.9 2 2 2h14c1.1 0 2-.9 2-2V5c0-1.1-.9-2-2-2zM9 17H7v-7h2v7zm4 0h-2V7h2v10zm4 0h-2v-4h2v4z\"/>\n",
              "    </g>\n",
              "</svg>\n",
              "  </button>\n",
              "\n",
              "<style>\n",
              "  .colab-df-quickchart {\n",
              "      --bg-color: #E8F0FE;\n",
              "      --fill-color: #1967D2;\n",
              "      --hover-bg-color: #E2EBFA;\n",
              "      --hover-fill-color: #174EA6;\n",
              "      --disabled-fill-color: #AAA;\n",
              "      --disabled-bg-color: #DDD;\n",
              "  }\n",
              "\n",
              "  [theme=dark] .colab-df-quickchart {\n",
              "      --bg-color: #3B4455;\n",
              "      --fill-color: #D2E3FC;\n",
              "      --hover-bg-color: #434B5C;\n",
              "      --hover-fill-color: #FFFFFF;\n",
              "      --disabled-bg-color: #3B4455;\n",
              "      --disabled-fill-color: #666;\n",
              "  }\n",
              "\n",
              "  .colab-df-quickchart {\n",
              "    background-color: var(--bg-color);\n",
              "    border: none;\n",
              "    border-radius: 50%;\n",
              "    cursor: pointer;\n",
              "    display: none;\n",
              "    fill: var(--fill-color);\n",
              "    height: 32px;\n",
              "    padding: 0;\n",
              "    width: 32px;\n",
              "  }\n",
              "\n",
              "  .colab-df-quickchart:hover {\n",
              "    background-color: var(--hover-bg-color);\n",
              "    box-shadow: 0 1px 2px rgba(60, 64, 67, 0.3), 0 1px 3px 1px rgba(60, 64, 67, 0.15);\n",
              "    fill: var(--button-hover-fill-color);\n",
              "  }\n",
              "\n",
              "  .colab-df-quickchart-complete:disabled,\n",
              "  .colab-df-quickchart-complete:disabled:hover {\n",
              "    background-color: var(--disabled-bg-color);\n",
              "    fill: var(--disabled-fill-color);\n",
              "    box-shadow: none;\n",
              "  }\n",
              "\n",
              "  .colab-df-spinner {\n",
              "    border: 2px solid var(--fill-color);\n",
              "    border-color: transparent;\n",
              "    border-bottom-color: var(--fill-color);\n",
              "    animation:\n",
              "      spin 1s steps(1) infinite;\n",
              "  }\n",
              "\n",
              "  @keyframes spin {\n",
              "    0% {\n",
              "      border-color: transparent;\n",
              "      border-bottom-color: var(--fill-color);\n",
              "      border-left-color: var(--fill-color);\n",
              "    }\n",
              "    20% {\n",
              "      border-color: transparent;\n",
              "      border-left-color: var(--fill-color);\n",
              "      border-top-color: var(--fill-color);\n",
              "    }\n",
              "    30% {\n",
              "      border-color: transparent;\n",
              "      border-left-color: var(--fill-color);\n",
              "      border-top-color: var(--fill-color);\n",
              "      border-right-color: var(--fill-color);\n",
              "    }\n",
              "    40% {\n",
              "      border-color: transparent;\n",
              "      border-right-color: var(--fill-color);\n",
              "      border-top-color: var(--fill-color);\n",
              "    }\n",
              "    60% {\n",
              "      border-color: transparent;\n",
              "      border-right-color: var(--fill-color);\n",
              "    }\n",
              "    80% {\n",
              "      border-color: transparent;\n",
              "      border-right-color: var(--fill-color);\n",
              "      border-bottom-color: var(--fill-color);\n",
              "    }\n",
              "    90% {\n",
              "      border-color: transparent;\n",
              "      border-bottom-color: var(--fill-color);\n",
              "    }\n",
              "  }\n",
              "</style>\n",
              "\n",
              "  <script>\n",
              "    async function quickchart(key) {\n",
              "      const quickchartButtonEl =\n",
              "        document.querySelector('#' + key + ' button');\n",
              "      quickchartButtonEl.disabled = true;  // To prevent multiple clicks.\n",
              "      quickchartButtonEl.classList.add('colab-df-spinner');\n",
              "      try {\n",
              "        const charts = await google.colab.kernel.invokeFunction(\n",
              "            'suggestCharts', [key], {});\n",
              "      } catch (error) {\n",
              "        console.error('Error during call to suggestCharts:', error);\n",
              "      }\n",
              "      quickchartButtonEl.classList.remove('colab-df-spinner');\n",
              "      quickchartButtonEl.classList.add('colab-df-quickchart-complete');\n",
              "    }\n",
              "    (() => {\n",
              "      let quickchartButtonEl =\n",
              "        document.querySelector('#df-542bcea0-7406-46d4-96a9-89e8e6caa99c button');\n",
              "      quickchartButtonEl.style.display =\n",
              "        google.colab.kernel.accessAllowed ? 'block' : 'none';\n",
              "    })();\n",
              "  </script>\n",
              "</div>\n",
              "    </div>\n",
              "  </div>\n"
            ]
          },
          "metadata": {},
          "execution_count": 4
        }
      ],
      "source": [
        "X_train.sample(n=5)"
      ]
    },
    {
      "cell_type": "markdown",
      "metadata": {
        "id": "Meb5cE1jHQNU"
      },
      "source": [
        "Are there nulls?"
      ]
    },
    {
      "cell_type": "code",
      "execution_count": null,
      "metadata": {
        "colab": {
          "base_uri": "https://localhost:8080/"
        },
        "id": "2zYXGPwPHQNU",
        "outputId": "0f3fe1b9-5cd7-44b4-b2b7-0624a788eaf2"
      },
      "outputs": [
        {
          "output_type": "stream",
          "name": "stdout",
          "text": [
            "<class 'pandas.core.frame.DataFrame'>\n",
            "RangeIndex: 5282 entries, 0 to 5281\n",
            "Data columns (total 20 columns):\n",
            " #   Column                    Non-Null Count  Dtype  \n",
            "---  ------                    --------------  -----  \n",
            " 0   ClientPeriod              5282 non-null   int64  \n",
            " 1   MonthlySpending           5282 non-null   float64\n",
            " 2   TotalSpent                5282 non-null   object \n",
            " 3   Sex                       5282 non-null   object \n",
            " 4   IsSeniorCitizen           5282 non-null   int64  \n",
            " 5   HasPartner                5282 non-null   object \n",
            " 6   HasChild                  5282 non-null   object \n",
            " 7   HasPhoneService           5282 non-null   object \n",
            " 8   HasMultiplePhoneNumbers   5282 non-null   object \n",
            " 9   HasInternetService        5282 non-null   object \n",
            " 10  HasOnlineSecurityService  5282 non-null   object \n",
            " 11  HasOnlineBackup           5282 non-null   object \n",
            " 12  HasDeviceProtection       5282 non-null   object \n",
            " 13  HasTechSupportAccess      5282 non-null   object \n",
            " 14  HasOnlineTV               5282 non-null   object \n",
            " 15  HasMovieSubscription      5282 non-null   object \n",
            " 16  HasContractPhone          5282 non-null   object \n",
            " 17  IsBillingPaperless        5282 non-null   object \n",
            " 18  PaymentMethod             5282 non-null   object \n",
            " 19  Churn                     5282 non-null   int64  \n",
            "dtypes: float64(1), int64(3), object(16)\n",
            "memory usage: 825.4+ KB\n"
          ]
        }
      ],
      "source": [
        "X_train.info()"
      ]
    },
    {
      "cell_type": "code",
      "execution_count": null,
      "metadata": {
        "colab": {
          "base_uri": "https://localhost:8080/"
        },
        "id": "vWmEyobcHQNU",
        "outputId": "f8b12b81-b928-4865-e6e5-10284a38aae8"
      },
      "outputs": [
        {
          "output_type": "execute_result",
          "data": {
            "text/plain": [
              "ClientPeriod                0\n",
              "MonthlySpending             0\n",
              "TotalSpent                  0\n",
              "Sex                         0\n",
              "IsSeniorCitizen             0\n",
              "HasPartner                  0\n",
              "HasChild                    0\n",
              "HasPhoneService             0\n",
              "HasMultiplePhoneNumbers     0\n",
              "HasInternetService          0\n",
              "HasOnlineSecurityService    0\n",
              "HasOnlineBackup             0\n",
              "HasDeviceProtection         0\n",
              "HasTechSupportAccess        0\n",
              "HasOnlineTV                 0\n",
              "HasMovieSubscription        0\n",
              "HasContractPhone            0\n",
              "IsBillingPaperless          0\n",
              "PaymentMethod               0\n",
              "Churn                       0\n",
              "dtype: int64"
            ]
          },
          "metadata": {},
          "execution_count": 6
        }
      ],
      "source": [
        "X_train.isna().sum()"
      ]
    },
    {
      "cell_type": "markdown",
      "metadata": {
        "id": "u2x9aL2-IQ4Y"
      },
      "source": [
        "Delete duplicates:"
      ]
    },
    {
      "cell_type": "code",
      "execution_count": null,
      "metadata": {
        "colab": {
          "base_uri": "https://localhost:8080/"
        },
        "id": "nwFrP-f6HQNV",
        "outputId": "a1d674dd-9607-4e06-e72e-464ce21f274d"
      },
      "outputs": [
        {
          "output_type": "execute_result",
          "data": {
            "text/plain": [
              "14"
            ]
          },
          "metadata": {},
          "execution_count": 7
        }
      ],
      "source": [
        "X_train.duplicated().sum()"
      ]
    },
    {
      "cell_type": "code",
      "execution_count": null,
      "metadata": {
        "id": "AMHJKxd2HQNV"
      },
      "outputs": [],
      "source": [
        "X_train = X_train.drop_duplicates()"
      ]
    },
    {
      "cell_type": "code",
      "execution_count": null,
      "metadata": {
        "colab": {
          "base_uri": "https://localhost:8080/"
        },
        "id": "LSFCKE19HQNV",
        "outputId": "7b5a4c0d-2308-4cf0-b09b-b25590c2db0c"
      },
      "outputs": [
        {
          "output_type": "stream",
          "name": "stdout",
          "text": [
            "<class 'pandas.core.frame.DataFrame'>\n",
            "Int64Index: 5268 entries, 0 to 5281\n",
            "Data columns (total 20 columns):\n",
            " #   Column                    Non-Null Count  Dtype  \n",
            "---  ------                    --------------  -----  \n",
            " 0   ClientPeriod              5268 non-null   int64  \n",
            " 1   MonthlySpending           5268 non-null   float64\n",
            " 2   TotalSpent                5268 non-null   object \n",
            " 3   Sex                       5268 non-null   object \n",
            " 4   IsSeniorCitizen           5268 non-null   int64  \n",
            " 5   HasPartner                5268 non-null   object \n",
            " 6   HasChild                  5268 non-null   object \n",
            " 7   HasPhoneService           5268 non-null   object \n",
            " 8   HasMultiplePhoneNumbers   5268 non-null   object \n",
            " 9   HasInternetService        5268 non-null   object \n",
            " 10  HasOnlineSecurityService  5268 non-null   object \n",
            " 11  HasOnlineBackup           5268 non-null   object \n",
            " 12  HasDeviceProtection       5268 non-null   object \n",
            " 13  HasTechSupportAccess      5268 non-null   object \n",
            " 14  HasOnlineTV               5268 non-null   object \n",
            " 15  HasMovieSubscription      5268 non-null   object \n",
            " 16  HasContractPhone          5268 non-null   object \n",
            " 17  IsBillingPaperless        5268 non-null   object \n",
            " 18  PaymentMethod             5268 non-null   object \n",
            " 19  Churn                     5268 non-null   int64  \n",
            "dtypes: float64(1), int64(3), object(16)\n",
            "memory usage: 864.3+ KB\n"
          ]
        }
      ],
      "source": [
        "X_train.info()"
      ]
    },
    {
      "cell_type": "markdown",
      "metadata": {
        "id": "DN5hXpjgHQNV"
      },
      "source": [
        "## Data cleaning and preparation"
      ]
    },
    {
      "cell_type": "code",
      "execution_count": null,
      "metadata": {
        "colab": {
          "base_uri": "https://localhost:8080/"
        },
        "id": "osDpuD4BHQNW",
        "outputId": "f198d853-0cbd-4580-ca03-cdc716bdd187"
      },
      "outputs": [
        {
          "output_type": "execute_result",
          "data": {
            "text/plain": [
              "ClientPeriod                  73\n",
              "MonthlySpending             1468\n",
              "TotalSpent                  4978\n",
              "Sex                            2\n",
              "IsSeniorCitizen                2\n",
              "HasPartner                     2\n",
              "HasChild                       2\n",
              "HasPhoneService                2\n",
              "HasMultiplePhoneNumbers        3\n",
              "HasInternetService             3\n",
              "HasOnlineSecurityService       3\n",
              "HasOnlineBackup                3\n",
              "HasDeviceProtection            3\n",
              "HasTechSupportAccess           3\n",
              "HasOnlineTV                    3\n",
              "HasMovieSubscription           3\n",
              "HasContractPhone               3\n",
              "IsBillingPaperless             2\n",
              "PaymentMethod                  4\n",
              "Churn                          2\n",
              "dtype: int64"
            ]
          },
          "metadata": {},
          "execution_count": 10
        }
      ],
      "source": [
        "X_train.nunique()"
      ]
    },
    {
      "cell_type": "code",
      "execution_count": null,
      "metadata": {
        "colab": {
          "base_uri": "https://localhost:8080/"
        },
        "id": "Sdz5Utr6HQNW",
        "outputId": "4d4e5813-241d-44e4-9812-f72d0f19ebf8"
      },
      "outputs": [
        {
          "output_type": "stream",
          "name": "stderr",
          "text": [
            "<ipython-input-11-dbc0ea87551c>:30: SettingWithCopyWarning: \n",
            "A value is trying to be set on a copy of a slice from a DataFrame.\n",
            "Try using .loc[row_indexer,col_indexer] = value instead\n",
            "\n",
            "See the caveats in the documentation: https://pandas.pydata.org/pandas-docs/stable/user_guide/indexing.html#returning-a-view-versus-a-copy\n",
            "  X_train['TotalSpent'] = pd.to_numeric(X_train['TotalSpent'], errors='coerce')\n",
            "<ipython-input-11-dbc0ea87551c>:32: SettingWithCopyWarning: \n",
            "A value is trying to be set on a copy of a slice from a DataFrame.\n",
            "Try using .loc[row_indexer,col_indexer] = value instead\n",
            "\n",
            "See the caveats in the documentation: https://pandas.pydata.org/pandas-docs/stable/user_guide/indexing.html#returning-a-view-versus-a-copy\n",
            "  X_train['TotalSpent'] = X_train['TotalSpent'].fillna(X_train['TotalSpent'].mean())\n"
          ]
        }
      ],
      "source": [
        "num_cols = [\n",
        "    'ClientPeriod',\n",
        "    'MonthlySpending',\n",
        "    'IsSeniorCitizen',\n",
        "    'TotalSpent'\n",
        "]\n",
        "\n",
        "cat_cols = [\n",
        "    'Sex',\n",
        "    'HasPartner',\n",
        "    'HasChild',\n",
        "    'HasPhoneService',\n",
        "    'HasMultiplePhoneNumbers',\n",
        "    'HasInternetService',\n",
        "    'HasOnlineSecurityService',\n",
        "    'HasOnlineBackup',\n",
        "    'HasDeviceProtection',\n",
        "    'HasTechSupportAccess',\n",
        "    'HasOnlineTV',\n",
        "    'HasMovieSubscription',\n",
        "    'HasContractPhone',\n",
        "    'IsBillingPaperless',\n",
        "    'PaymentMethod',\n",
        "]\n",
        "\n",
        "feature_cols = num_cols + cat_cols\n",
        "target_col = 'Churn'\n",
        "\n",
        "\n",
        "X_train['TotalSpent'] = pd.to_numeric(X_train['TotalSpent'], errors='coerce')\n",
        "X_test['TotalSpent'] = pd.to_numeric(X_test['TotalSpent'], errors='coerce')\n",
        "X_train['TotalSpent'] = X_train['TotalSpent'].fillna(X_train['TotalSpent'].mean())\n",
        "X_test['TotalSpent'] = X_test['TotalSpent'].fillna(X_test['TotalSpent'].mean())\n"
      ]
    },
    {
      "cell_type": "code",
      "execution_count": null,
      "metadata": {
        "colab": {
          "base_uri": "https://localhost:8080/"
        },
        "id": "TiOUm0m9HQNW",
        "outputId": "94e0a15d-b6f6-490d-9c31-74a6ec6a9c83"
      },
      "outputs": [
        {
          "output_type": "stream",
          "name": "stdout",
          "text": [
            "<class 'pandas.core.frame.DataFrame'>\n",
            "Int64Index: 5268 entries, 0 to 5281\n",
            "Data columns (total 20 columns):\n",
            " #   Column                    Non-Null Count  Dtype  \n",
            "---  ------                    --------------  -----  \n",
            " 0   ClientPeriod              5268 non-null   int64  \n",
            " 1   MonthlySpending           5268 non-null   float64\n",
            " 2   TotalSpent                5268 non-null   float64\n",
            " 3   Sex                       5268 non-null   object \n",
            " 4   IsSeniorCitizen           5268 non-null   int64  \n",
            " 5   HasPartner                5268 non-null   object \n",
            " 6   HasChild                  5268 non-null   object \n",
            " 7   HasPhoneService           5268 non-null   object \n",
            " 8   HasMultiplePhoneNumbers   5268 non-null   object \n",
            " 9   HasInternetService        5268 non-null   object \n",
            " 10  HasOnlineSecurityService  5268 non-null   object \n",
            " 11  HasOnlineBackup           5268 non-null   object \n",
            " 12  HasDeviceProtection       5268 non-null   object \n",
            " 13  HasTechSupportAccess      5268 non-null   object \n",
            " 14  HasOnlineTV               5268 non-null   object \n",
            " 15  HasMovieSubscription      5268 non-null   object \n",
            " 16  HasContractPhone          5268 non-null   object \n",
            " 17  IsBillingPaperless        5268 non-null   object \n",
            " 18  PaymentMethod             5268 non-null   object \n",
            " 19  Churn                     5268 non-null   int64  \n",
            "dtypes: float64(2), int64(3), object(15)\n",
            "memory usage: 864.3+ KB\n"
          ]
        }
      ],
      "source": [
        "X_train.info()"
      ]
    },
    {
      "cell_type": "code",
      "execution_count": null,
      "metadata": {
        "colab": {
          "base_uri": "https://localhost:8080/",
          "height": 320
        },
        "id": "GPs4dqbSHQNW",
        "outputId": "85794afa-4841-4f2b-a6a2-ff13f1ac2f70"
      },
      "outputs": [
        {
          "output_type": "execute_result",
          "data": {
            "text/plain": [
              "       ClientPeriod  MonthlySpending  TotalSpent  IsSeniorCitizen   Churn\n",
              "count        5268.0           5268.0      5268.0           5268.0  5268.0\n",
              "mean           32.0             65.0      2297.0              0.0     0.0\n",
              "std            25.0             30.0      2267.0              0.0     0.0\n",
              "min             0.0             18.0        19.0              0.0     0.0\n",
              "25%             9.0             36.0       405.0              0.0     0.0\n",
              "50%            29.0             70.0      1419.0              0.0     0.0\n",
              "75%            55.0             90.0      3809.0              0.0     1.0\n",
              "max            72.0            119.0      8685.0              1.0     1.0"
            ],
            "text/html": [
              "\n",
              "  <div id=\"df-b0a3a22f-8f32-452b-9816-c1503bf15129\" class=\"colab-df-container\">\n",
              "    <div>\n",
              "<style scoped>\n",
              "    .dataframe tbody tr th:only-of-type {\n",
              "        vertical-align: middle;\n",
              "    }\n",
              "\n",
              "    .dataframe tbody tr th {\n",
              "        vertical-align: top;\n",
              "    }\n",
              "\n",
              "    .dataframe thead th {\n",
              "        text-align: right;\n",
              "    }\n",
              "</style>\n",
              "<table border=\"1\" class=\"dataframe\">\n",
              "  <thead>\n",
              "    <tr style=\"text-align: right;\">\n",
              "      <th></th>\n",
              "      <th>ClientPeriod</th>\n",
              "      <th>MonthlySpending</th>\n",
              "      <th>TotalSpent</th>\n",
              "      <th>IsSeniorCitizen</th>\n",
              "      <th>Churn</th>\n",
              "    </tr>\n",
              "  </thead>\n",
              "  <tbody>\n",
              "    <tr>\n",
              "      <th>count</th>\n",
              "      <td>5268.0</td>\n",
              "      <td>5268.0</td>\n",
              "      <td>5268.0</td>\n",
              "      <td>5268.0</td>\n",
              "      <td>5268.0</td>\n",
              "    </tr>\n",
              "    <tr>\n",
              "      <th>mean</th>\n",
              "      <td>32.0</td>\n",
              "      <td>65.0</td>\n",
              "      <td>2297.0</td>\n",
              "      <td>0.0</td>\n",
              "      <td>0.0</td>\n",
              "    </tr>\n",
              "    <tr>\n",
              "      <th>std</th>\n",
              "      <td>25.0</td>\n",
              "      <td>30.0</td>\n",
              "      <td>2267.0</td>\n",
              "      <td>0.0</td>\n",
              "      <td>0.0</td>\n",
              "    </tr>\n",
              "    <tr>\n",
              "      <th>min</th>\n",
              "      <td>0.0</td>\n",
              "      <td>18.0</td>\n",
              "      <td>19.0</td>\n",
              "      <td>0.0</td>\n",
              "      <td>0.0</td>\n",
              "    </tr>\n",
              "    <tr>\n",
              "      <th>25%</th>\n",
              "      <td>9.0</td>\n",
              "      <td>36.0</td>\n",
              "      <td>405.0</td>\n",
              "      <td>0.0</td>\n",
              "      <td>0.0</td>\n",
              "    </tr>\n",
              "    <tr>\n",
              "      <th>50%</th>\n",
              "      <td>29.0</td>\n",
              "      <td>70.0</td>\n",
              "      <td>1419.0</td>\n",
              "      <td>0.0</td>\n",
              "      <td>0.0</td>\n",
              "    </tr>\n",
              "    <tr>\n",
              "      <th>75%</th>\n",
              "      <td>55.0</td>\n",
              "      <td>90.0</td>\n",
              "      <td>3809.0</td>\n",
              "      <td>0.0</td>\n",
              "      <td>1.0</td>\n",
              "    </tr>\n",
              "    <tr>\n",
              "      <th>max</th>\n",
              "      <td>72.0</td>\n",
              "      <td>119.0</td>\n",
              "      <td>8685.0</td>\n",
              "      <td>1.0</td>\n",
              "      <td>1.0</td>\n",
              "    </tr>\n",
              "  </tbody>\n",
              "</table>\n",
              "</div>\n",
              "    <div class=\"colab-df-buttons\">\n",
              "\n",
              "  <div class=\"colab-df-container\">\n",
              "    <button class=\"colab-df-convert\" onclick=\"convertToInteractive('df-b0a3a22f-8f32-452b-9816-c1503bf15129')\"\n",
              "            title=\"Convert this dataframe to an interactive table.\"\n",
              "            style=\"display:none;\">\n",
              "\n",
              "  <svg xmlns=\"http://www.w3.org/2000/svg\" height=\"24px\" viewBox=\"0 -960 960 960\">\n",
              "    <path d=\"M120-120v-720h720v720H120Zm60-500h600v-160H180v160Zm220 220h160v-160H400v160Zm0 220h160v-160H400v160ZM180-400h160v-160H180v160Zm440 0h160v-160H620v160ZM180-180h160v-160H180v160Zm440 0h160v-160H620v160Z\"/>\n",
              "  </svg>\n",
              "    </button>\n",
              "\n",
              "  <style>\n",
              "    .colab-df-container {\n",
              "      display:flex;\n",
              "      gap: 12px;\n",
              "    }\n",
              "\n",
              "    .colab-df-convert {\n",
              "      background-color: #E8F0FE;\n",
              "      border: none;\n",
              "      border-radius: 50%;\n",
              "      cursor: pointer;\n",
              "      display: none;\n",
              "      fill: #1967D2;\n",
              "      height: 32px;\n",
              "      padding: 0 0 0 0;\n",
              "      width: 32px;\n",
              "    }\n",
              "\n",
              "    .colab-df-convert:hover {\n",
              "      background-color: #E2EBFA;\n",
              "      box-shadow: 0px 1px 2px rgba(60, 64, 67, 0.3), 0px 1px 3px 1px rgba(60, 64, 67, 0.15);\n",
              "      fill: #174EA6;\n",
              "    }\n",
              "\n",
              "    .colab-df-buttons div {\n",
              "      margin-bottom: 4px;\n",
              "    }\n",
              "\n",
              "    [theme=dark] .colab-df-convert {\n",
              "      background-color: #3B4455;\n",
              "      fill: #D2E3FC;\n",
              "    }\n",
              "\n",
              "    [theme=dark] .colab-df-convert:hover {\n",
              "      background-color: #434B5C;\n",
              "      box-shadow: 0px 1px 3px 1px rgba(0, 0, 0, 0.15);\n",
              "      filter: drop-shadow(0px 1px 2px rgba(0, 0, 0, 0.3));\n",
              "      fill: #FFFFFF;\n",
              "    }\n",
              "  </style>\n",
              "\n",
              "    <script>\n",
              "      const buttonEl =\n",
              "        document.querySelector('#df-b0a3a22f-8f32-452b-9816-c1503bf15129 button.colab-df-convert');\n",
              "      buttonEl.style.display =\n",
              "        google.colab.kernel.accessAllowed ? 'block' : 'none';\n",
              "\n",
              "      async function convertToInteractive(key) {\n",
              "        const element = document.querySelector('#df-b0a3a22f-8f32-452b-9816-c1503bf15129');\n",
              "        const dataTable =\n",
              "          await google.colab.kernel.invokeFunction('convertToInteractive',\n",
              "                                                    [key], {});\n",
              "        if (!dataTable) return;\n",
              "\n",
              "        const docLinkHtml = 'Like what you see? Visit the ' +\n",
              "          '<a target=\"_blank\" href=https://colab.research.google.com/notebooks/data_table.ipynb>data table notebook</a>'\n",
              "          + ' to learn more about interactive tables.';\n",
              "        element.innerHTML = '';\n",
              "        dataTable['output_type'] = 'display_data';\n",
              "        await google.colab.output.renderOutput(dataTable, element);\n",
              "        const docLink = document.createElement('div');\n",
              "        docLink.innerHTML = docLinkHtml;\n",
              "        element.appendChild(docLink);\n",
              "      }\n",
              "    </script>\n",
              "  </div>\n",
              "\n",
              "\n",
              "<div id=\"df-e5c407db-7104-4e9a-96be-e360015dc90f\">\n",
              "  <button class=\"colab-df-quickchart\" onclick=\"quickchart('df-e5c407db-7104-4e9a-96be-e360015dc90f')\"\n",
              "            title=\"Suggest charts.\"\n",
              "            style=\"display:none;\">\n",
              "\n",
              "<svg xmlns=\"http://www.w3.org/2000/svg\" height=\"24px\"viewBox=\"0 0 24 24\"\n",
              "     width=\"24px\">\n",
              "    <g>\n",
              "        <path d=\"M19 3H5c-1.1 0-2 .9-2 2v14c0 1.1.9 2 2 2h14c1.1 0 2-.9 2-2V5c0-1.1-.9-2-2-2zM9 17H7v-7h2v7zm4 0h-2V7h2v10zm4 0h-2v-4h2v4z\"/>\n",
              "    </g>\n",
              "</svg>\n",
              "  </button>\n",
              "\n",
              "<style>\n",
              "  .colab-df-quickchart {\n",
              "      --bg-color: #E8F0FE;\n",
              "      --fill-color: #1967D2;\n",
              "      --hover-bg-color: #E2EBFA;\n",
              "      --hover-fill-color: #174EA6;\n",
              "      --disabled-fill-color: #AAA;\n",
              "      --disabled-bg-color: #DDD;\n",
              "  }\n",
              "\n",
              "  [theme=dark] .colab-df-quickchart {\n",
              "      --bg-color: #3B4455;\n",
              "      --fill-color: #D2E3FC;\n",
              "      --hover-bg-color: #434B5C;\n",
              "      --hover-fill-color: #FFFFFF;\n",
              "      --disabled-bg-color: #3B4455;\n",
              "      --disabled-fill-color: #666;\n",
              "  }\n",
              "\n",
              "  .colab-df-quickchart {\n",
              "    background-color: var(--bg-color);\n",
              "    border: none;\n",
              "    border-radius: 50%;\n",
              "    cursor: pointer;\n",
              "    display: none;\n",
              "    fill: var(--fill-color);\n",
              "    height: 32px;\n",
              "    padding: 0;\n",
              "    width: 32px;\n",
              "  }\n",
              "\n",
              "  .colab-df-quickchart:hover {\n",
              "    background-color: var(--hover-bg-color);\n",
              "    box-shadow: 0 1px 2px rgba(60, 64, 67, 0.3), 0 1px 3px 1px rgba(60, 64, 67, 0.15);\n",
              "    fill: var(--button-hover-fill-color);\n",
              "  }\n",
              "\n",
              "  .colab-df-quickchart-complete:disabled,\n",
              "  .colab-df-quickchart-complete:disabled:hover {\n",
              "    background-color: var(--disabled-bg-color);\n",
              "    fill: var(--disabled-fill-color);\n",
              "    box-shadow: none;\n",
              "  }\n",
              "\n",
              "  .colab-df-spinner {\n",
              "    border: 2px solid var(--fill-color);\n",
              "    border-color: transparent;\n",
              "    border-bottom-color: var(--fill-color);\n",
              "    animation:\n",
              "      spin 1s steps(1) infinite;\n",
              "  }\n",
              "\n",
              "  @keyframes spin {\n",
              "    0% {\n",
              "      border-color: transparent;\n",
              "      border-bottom-color: var(--fill-color);\n",
              "      border-left-color: var(--fill-color);\n",
              "    }\n",
              "    20% {\n",
              "      border-color: transparent;\n",
              "      border-left-color: var(--fill-color);\n",
              "      border-top-color: var(--fill-color);\n",
              "    }\n",
              "    30% {\n",
              "      border-color: transparent;\n",
              "      border-left-color: var(--fill-color);\n",
              "      border-top-color: var(--fill-color);\n",
              "      border-right-color: var(--fill-color);\n",
              "    }\n",
              "    40% {\n",
              "      border-color: transparent;\n",
              "      border-right-color: var(--fill-color);\n",
              "      border-top-color: var(--fill-color);\n",
              "    }\n",
              "    60% {\n",
              "      border-color: transparent;\n",
              "      border-right-color: var(--fill-color);\n",
              "    }\n",
              "    80% {\n",
              "      border-color: transparent;\n",
              "      border-right-color: var(--fill-color);\n",
              "      border-bottom-color: var(--fill-color);\n",
              "    }\n",
              "    90% {\n",
              "      border-color: transparent;\n",
              "      border-bottom-color: var(--fill-color);\n",
              "    }\n",
              "  }\n",
              "</style>\n",
              "\n",
              "  <script>\n",
              "    async function quickchart(key) {\n",
              "      const quickchartButtonEl =\n",
              "        document.querySelector('#' + key + ' button');\n",
              "      quickchartButtonEl.disabled = true;  // To prevent multiple clicks.\n",
              "      quickchartButtonEl.classList.add('colab-df-spinner');\n",
              "      try {\n",
              "        const charts = await google.colab.kernel.invokeFunction(\n",
              "            'suggestCharts', [key], {});\n",
              "      } catch (error) {\n",
              "        console.error('Error during call to suggestCharts:', error);\n",
              "      }\n",
              "      quickchartButtonEl.classList.remove('colab-df-spinner');\n",
              "      quickchartButtonEl.classList.add('colab-df-quickchart-complete');\n",
              "    }\n",
              "    (() => {\n",
              "      let quickchartButtonEl =\n",
              "        document.querySelector('#df-e5c407db-7104-4e9a-96be-e360015dc90f button');\n",
              "      quickchartButtonEl.style.display =\n",
              "        google.colab.kernel.accessAllowed ? 'block' : 'none';\n",
              "    })();\n",
              "  </script>\n",
              "</div>\n",
              "    </div>\n",
              "  </div>\n"
            ]
          },
          "metadata": {},
          "execution_count": 13
        }
      ],
      "source": [
        "X_train.describe().round()"
      ]
    },
    {
      "cell_type": "code",
      "execution_count": null,
      "metadata": {
        "colab": {
          "base_uri": "https://localhost:8080/",
          "height": 175
        },
        "id": "SuOv_xXuHQNW",
        "outputId": "18169e75-e1d9-4363-94fa-a4483ff5fbe8"
      },
      "outputs": [
        {
          "output_type": "execute_result",
          "data": {
            "text/plain": [
              "<pandas.io.formats.style.Styler at 0x78f5f9c23dc0>"
            ],
            "text/html": [
              "<style type=\"text/css\">\n",
              "#T_5d2b3_row0_col0, #T_5d2b3_row1_col1, #T_5d2b3_row2_col2, #T_5d2b3_row3_col3 {\n",
              "  background-color: #b40426;\n",
              "  color: #f1f1f1;\n",
              "}\n",
              "#T_5d2b3_row0_col1 {\n",
              "  background-color: #465ecf;\n",
              "  color: #f1f1f1;\n",
              "}\n",
              "#T_5d2b3_row0_col2, #T_5d2b3_row2_col0, #T_5d2b3_row2_col1, #T_5d2b3_row2_col3 {\n",
              "  background-color: #3b4cc0;\n",
              "  color: #f1f1f1;\n",
              "}\n",
              "#T_5d2b3_row0_col3 {\n",
              "  background-color: #ec8165;\n",
              "  color: #f1f1f1;\n",
              "}\n",
              "#T_5d2b3_row1_col0 {\n",
              "  background-color: #89acfd;\n",
              "  color: #000000;\n",
              "}\n",
              "#T_5d2b3_row1_col2 {\n",
              "  background-color: #7da0f9;\n",
              "  color: #f1f1f1;\n",
              "}\n",
              "#T_5d2b3_row1_col3 {\n",
              "  background-color: #f3c7b1;\n",
              "  color: #000000;\n",
              "}\n",
              "#T_5d2b3_row3_col0 {\n",
              "  background-color: #e97a5f;\n",
              "  color: #f1f1f1;\n",
              "}\n",
              "#T_5d2b3_row3_col1 {\n",
              "  background-color: #ead4c8;\n",
              "  color: #000000;\n",
              "}\n",
              "#T_5d2b3_row3_col2 {\n",
              "  background-color: #5470de;\n",
              "  color: #f1f1f1;\n",
              "}\n",
              "</style>\n",
              "<table id=\"T_5d2b3\" class=\"dataframe\">\n",
              "  <thead>\n",
              "    <tr>\n",
              "      <th class=\"blank level0\" >&nbsp;</th>\n",
              "      <th id=\"T_5d2b3_level0_col0\" class=\"col_heading level0 col0\" >ClientPeriod</th>\n",
              "      <th id=\"T_5d2b3_level0_col1\" class=\"col_heading level0 col1\" >MonthlySpending</th>\n",
              "      <th id=\"T_5d2b3_level0_col2\" class=\"col_heading level0 col2\" >IsSeniorCitizen</th>\n",
              "      <th id=\"T_5d2b3_level0_col3\" class=\"col_heading level0 col3\" >TotalSpent</th>\n",
              "    </tr>\n",
              "  </thead>\n",
              "  <tbody>\n",
              "    <tr>\n",
              "      <th id=\"T_5d2b3_level0_row0\" class=\"row_heading level0 row0\" >ClientPeriod</th>\n",
              "      <td id=\"T_5d2b3_row0_col0\" class=\"data row0 col0\" >1.000000</td>\n",
              "      <td id=\"T_5d2b3_row0_col1\" class=\"data row0 col1\" >0.248047</td>\n",
              "      <td id=\"T_5d2b3_row0_col2\" class=\"data row0 col2\" >0.010775</td>\n",
              "      <td id=\"T_5d2b3_row0_col3\" class=\"data row0 col3\" >0.824598</td>\n",
              "    </tr>\n",
              "    <tr>\n",
              "      <th id=\"T_5d2b3_level0_row1\" class=\"row_heading level0 row1\" >MonthlySpending</th>\n",
              "      <td id=\"T_5d2b3_row1_col0\" class=\"data row1 col0\" >0.248047</td>\n",
              "      <td id=\"T_5d2b3_row1_col1\" class=\"data row1 col1\" >1.000000</td>\n",
              "      <td id=\"T_5d2b3_row1_col2\" class=\"data row1 col2\" >0.215061</td>\n",
              "      <td id=\"T_5d2b3_row1_col3\" class=\"data row1 col3\" >0.651475</td>\n",
              "    </tr>\n",
              "    <tr>\n",
              "      <th id=\"T_5d2b3_level0_row2\" class=\"row_heading level0 row2\" >IsSeniorCitizen</th>\n",
              "      <td id=\"T_5d2b3_row2_col0\" class=\"data row2 col0\" >0.010775</td>\n",
              "      <td id=\"T_5d2b3_row2_col1\" class=\"data row2 col1\" >0.215061</td>\n",
              "      <td id=\"T_5d2b3_row2_col2\" class=\"data row2 col2\" >1.000000</td>\n",
              "      <td id=\"T_5d2b3_row2_col3\" class=\"data row2 col3\" >0.093522</td>\n",
              "    </tr>\n",
              "    <tr>\n",
              "      <th id=\"T_5d2b3_level0_row3\" class=\"row_heading level0 row3\" >TotalSpent</th>\n",
              "      <td id=\"T_5d2b3_row3_col0\" class=\"data row3 col0\" >0.824598</td>\n",
              "      <td id=\"T_5d2b3_row3_col1\" class=\"data row3 col1\" >0.651475</td>\n",
              "      <td id=\"T_5d2b3_row3_col2\" class=\"data row3 col2\" >0.093522</td>\n",
              "      <td id=\"T_5d2b3_row3_col3\" class=\"data row3 col3\" >1.000000</td>\n",
              "    </tr>\n",
              "  </tbody>\n",
              "</table>\n"
            ]
          },
          "metadata": {},
          "execution_count": 14
        }
      ],
      "source": [
        "X_train[num_cols].corr().style.background_gradient(cmap='coolwarm')"
      ]
    },
    {
      "cell_type": "code",
      "execution_count": null,
      "metadata": {
        "colab": {
          "base_uri": "https://localhost:8080/"
        },
        "id": "vVlbD6_fHQNW",
        "outputId": "fd56ce1f-43c9-42f3-9532-5840f7c97005"
      },
      "outputs": [
        {
          "output_type": "execute_result",
          "data": {
            "text/plain": [
              "Sex                         2\n",
              "HasPartner                  2\n",
              "HasChild                    2\n",
              "HasPhoneService             2\n",
              "HasMultiplePhoneNumbers     3\n",
              "HasInternetService          3\n",
              "HasOnlineSecurityService    3\n",
              "HasOnlineBackup             3\n",
              "HasDeviceProtection         3\n",
              "HasTechSupportAccess        3\n",
              "HasOnlineTV                 3\n",
              "HasMovieSubscription        3\n",
              "HasContractPhone            3\n",
              "IsBillingPaperless          2\n",
              "PaymentMethod               4\n",
              "dtype: int64"
            ]
          },
          "metadata": {},
          "execution_count": 15
        }
      ],
      "source": [
        "X_train[cat_cols].nunique()"
      ]
    },
    {
      "cell_type": "code",
      "execution_count": null,
      "metadata": {
        "colab": {
          "base_uri": "https://localhost:8080/"
        },
        "id": "sIFDJ6SoHQNX",
        "outputId": "d3cf290f-0b95-46c5-84e2-d293f9acf7c4"
      },
      "outputs": [
        {
          "output_type": "execute_result",
          "data": {
            "text/plain": [
              "HasContractPhone            0.097955\n",
              "HasOnlineSecurityService    0.067773\n",
              "HasTechSupportAccess        0.062849\n",
              "HasInternetService          0.053713\n",
              "HasOnlineBackup             0.047331\n",
              "HasDeviceProtection         0.044004\n",
              "PaymentMethod               0.043035\n",
              "HasMovieSubscription        0.032343\n",
              "HasOnlineTV                 0.031956\n",
              "IsBillingPaperless          0.019481\n",
              "HasChild                    0.014120\n",
              "HasPartner                  0.010809\n",
              "HasMultiplePhoneNumbers     0.000885\n",
              "HasPhoneService             0.000050\n",
              "Sex                         0.000033\n",
              "dtype: float64"
            ]
          },
          "metadata": {},
          "execution_count": 16
        }
      ],
      "source": [
        "from sklearn.metrics import mutual_info_score\n",
        "def mutual_info_churn_score(series):\n",
        "    return mutual_info_score(series, X_train.Churn)\n",
        "mi = X_train[cat_cols].apply(mutual_info_churn_score)\n",
        "mi.sort_values(ascending=False)"
      ]
    },
    {
      "cell_type": "markdown",
      "metadata": {
        "id": "PIoZWQ2rHQNX"
      },
      "source": [
        "## Logistic Regression"
      ]
    },
    {
      "cell_type": "code",
      "execution_count": null,
      "metadata": {
        "id": "KlvPaUpUHQNX"
      },
      "outputs": [],
      "source": [
        "def train(df_train, y_train, C):\n",
        "    dicts = df_train.to_dict(orient='records')\n",
        "\n",
        "    dv = DictVectorizer(sparse=False)\n",
        "    X_train = dv.fit_transform(dicts)\n",
        "\n",
        "    model = LogisticRegression(C=C, max_iter=1000)\n",
        "    model.fit(X_train, y_train)\n",
        "\n",
        "    return dv, model"
      ]
    },
    {
      "cell_type": "code",
      "execution_count": null,
      "metadata": {
        "id": "qbJKAbg9HQNX"
      },
      "outputs": [],
      "source": [
        "def predict(df, dv, model):\n",
        "    dicts = df.to_dict(orient='records')\n",
        "    X = dv.transform(dicts)\n",
        "    y_pred = model.predict_proba(X)[:, 1]\n",
        "    return y_pred"
      ]
    },
    {
      "cell_type": "code",
      "execution_count": null,
      "metadata": {
        "id": "hXQ-jfm9HQNX"
      },
      "outputs": [],
      "source": [
        "df_train, df_val = train_test_split(X_train, test_size=0.2, random_state=11)\n",
        "\n",
        "df_train = df_train.reset_index(drop=True)\n",
        "df_val = df_val.reset_index(drop=True)\n",
        "X_test = X_test.reset_index(drop=True)\n",
        "\n",
        "y_train = df_train.Churn\n",
        "y_val = df_val.Churn\n",
        "\n",
        "del df_train['Churn']\n",
        "del df_val['Churn']\n",
        "\n",
        "\n",
        "# for C in tqdm([0.001, 0.01, 0.1, 0.5, 1, 5, 10]):\n",
        "\n",
        "#     dv, model = train(df_train, y_train, C=C)\n",
        "#     y_pred = predict(df_train, dv, model)\n",
        "\n",
        "\n",
        "#     y_pred_v = predict(df_val, dv, model)\n",
        "#     auc = roc_auc_score( y_train, y_pred)\n",
        "#     auc_v = roc_auc_score( y_val, y_pred_v)\n",
        "#     print(C, auc, auc_v)"
      ]
    },
    {
      "cell_type": "code",
      "execution_count": null,
      "metadata": {
        "id": "J0mYvtLbHQNX"
      },
      "outputs": [],
      "source": [
        "x_tr = X_train\n",
        "y_tr = X_train.Churn\n",
        "\n",
        "del x_tr['Churn']\n",
        "\n",
        "dv, model = train(x_tr, y_tr, C=1)\n",
        "y_pred = predict(x_tr, dv, model)\n"
      ]
    },
    {
      "cell_type": "code",
      "execution_count": null,
      "metadata": {
        "colab": {
          "base_uri": "https://localhost:8080/"
        },
        "id": "_S1hLbqnHQNX",
        "outputId": "cef589ef-75ca-4d82-c9a3-f29defc5a5c4"
      },
      "outputs": [
        {
          "output_type": "stream",
          "name": "stdout",
          "text": [
            "0.8537228801508974 0.8225723959936542\n"
          ]
        }
      ],
      "source": [
        "\n",
        "dv, model = train(df_train, y_train, C=1)\n",
        "\n",
        "y_pred = predict(df_train, dv, model)\n",
        "y_pred_v = predict(df_val, dv, model)\n",
        "auc = roc_auc_score( y_train, y_pred)\n",
        "auc_v = roc_auc_score( y_val, y_pred_v)\n",
        "print(auc, auc_v)"
      ]
    },
    {
      "cell_type": "markdown",
      "metadata": {
        "id": "NO0KWaEeHQNX"
      },
      "source": [
        "### ROC-AUC on test for contest: 0.84435"
      ]
    },
    {
      "cell_type": "markdown",
      "metadata": {
        "id": "0AzcHiT0HQNY"
      },
      "source": [
        "## DecisionTreeClassifier"
      ]
    },
    {
      "cell_type": "code",
      "execution_count": null,
      "metadata": {
        "id": "-IGI4KRsHQNY"
      },
      "outputs": [],
      "source": [
        "from sklearn.tree import DecisionTreeClassifier\n",
        "from sklearn.feature_extraction import DictVectorizer\n",
        "from sklearn.metrics import roc_auc_score\n",
        "from sklearn.tree import export_text"
      ]
    },
    {
      "cell_type": "code",
      "execution_count": null,
      "metadata": {
        "id": "iMvEIJcEHQNY"
      },
      "outputs": [],
      "source": [
        "def train_tree(df_train, y_train, depth):\n",
        "    dicts = df_train.to_dict(orient='records')\n",
        "\n",
        "    dv = DictVectorizer(sparse=False)\n",
        "    X_train = dv.fit_transform(dicts)\n",
        "\n",
        "    dt = DecisionTreeClassifier(max_depth=depth)\n",
        "    dt.fit(X_train, y_train)\n",
        "\n",
        "    return dv, dt\n",
        "\n",
        "def predict_tree(df, dv, model):\n",
        "    dicts = df.to_dict(orient='records')\n",
        "    X = dv.transform(dicts)\n",
        "    y_pred = model.predict_proba(X)[:, 1]\n",
        "    return y_pred\n",
        "\n",
        "# for depth in tqdm([1, 2, 3, 4, 5, 6, 10, 15, 20, None]):\n",
        "\n",
        "#     dv, model = train_tree(df_train, y_train, depth)\n",
        "#     y_pred = predict_tree(df_train, dv, model)\n",
        "\n",
        "#     y_pred_v = predict_tree(df_val, dv, model)\n",
        "#     auc = roc_auc_score( y_train, y_pred)\n",
        "#     auc_v = roc_auc_score( y_val, y_pred_v)\n",
        "#     print(depth, auc, auc_v)"
      ]
    },
    {
      "cell_type": "code",
      "execution_count": null,
      "metadata": {
        "id": "nnJGctfLHQNY"
      },
      "outputs": [],
      "source": [
        "def train_tree_l(df_train, y_train, depth, leaf):\n",
        "    dicts = df_train.to_dict(orient='records')\n",
        "\n",
        "    dv = DictVectorizer(sparse=False)\n",
        "    X_train = dv.fit_transform(dicts)\n",
        "\n",
        "    dt = DecisionTreeClassifier(max_depth=depth, min_samples_leaf=leaf)\n",
        "    dt.fit(X_train, y_train)\n",
        "\n",
        "    return dv, dt\n",
        "\n",
        "def predict_tree_l(df, dv, model):\n",
        "    dicts = df.to_dict(orient='records')\n",
        "    X = dv.transform(dicts)\n",
        "    y_pred = model.predict_proba(X)[:, 1]\n",
        "    return y_pred\n",
        "\n",
        "# scores = []\n",
        "\n",
        "# for depth in [4, 5, 6]:\n",
        "#     for s in [1, 5, 10, 15, 20, 500, 100, 200]:\n",
        "#         dv, model = train_tree_l(df_train, y_train, depth, s)\n",
        "#         y_pred = predict_tree_l(df_train, dv, model)\n",
        "\n",
        "#         y_pred_v = predict_tree_l(df_val, dv, model)\n",
        "#         auc = roc_auc_score( y_train, y_pred)\n",
        "#         auc_v = roc_auc_score( y_val, y_pred_v)\n",
        "#         scores.append((depth, s, auc, auc_v))"
      ]
    },
    {
      "cell_type": "code",
      "execution_count": null,
      "metadata": {
        "id": "Nsh_KLWSHQNY"
      },
      "outputs": [],
      "source": [
        "# columns = ['max_depth', 'min_samples_leaf', 'auc', 'auc_val']\n",
        "# df_scores = pd.DataFrame(scores, columns=columns)\n",
        "# df_scores_pivot = df_scores.pivot(index='min_samples_leaf', columns=['max_depth'], values=['auc_val'])\n",
        "# df_scores_pivot.round(3)"
      ]
    },
    {
      "cell_type": "code",
      "execution_count": null,
      "metadata": {
        "id": "IqQoIzOTHQNY"
      },
      "outputs": [],
      "source": [
        "# sns.heatmap(df_scores_pivot, annot=True, fmt=\".3f\")"
      ]
    },
    {
      "cell_type": "code",
      "execution_count": null,
      "metadata": {
        "colab": {
          "base_uri": "https://localhost:8080/"
        },
        "id": "ErwjwKN2HQNY",
        "outputId": "378c5684-dc1c-43cd-b8b7-44a9dc11fd62"
      },
      "outputs": [
        {
          "output_type": "stream",
          "name": "stdout",
          "text": [
            "0.856755820570552 0.8192171998200459\n"
          ]
        }
      ],
      "source": [
        "dv, model = train_tree_l(df_train, y_train, 5, 15)\n",
        "y_pred = predict(df_train, dv, model)\n",
        "y_pred_v = predict(df_val, dv, model)\n",
        "auc = roc_auc_score( y_train, y_pred)\n",
        "auc_v = roc_auc_score( y_val, y_pred_v)\n",
        "print(auc, auc_v)\n",
        "\n"
      ]
    },
    {
      "cell_type": "markdown",
      "metadata": {
        "id": "D6Lo-HZBHQNY"
      },
      "source": [
        "### ROC-AUC on test for contest for decision tree: 0.84058\n"
      ]
    },
    {
      "cell_type": "markdown",
      "metadata": {
        "id": "OWzd87TIHQNY"
      },
      "source": [
        "## Random Forest Classifier"
      ]
    },
    {
      "cell_type": "code",
      "execution_count": null,
      "metadata": {
        "id": "f6R0L8ibHQNZ"
      },
      "outputs": [],
      "source": [
        "from sklearn.ensemble import RandomForestClassifier"
      ]
    },
    {
      "cell_type": "code",
      "execution_count": null,
      "metadata": {
        "colab": {
          "base_uri": "https://localhost:8080/"
        },
        "id": "6NU9IG-kHQNZ",
        "outputId": "031619df-631d-43da-d051-869670c44b92"
      },
      "outputs": [
        {
          "output_type": "stream",
          "name": "stdout",
          "text": [
            "(True, 0.862451880324092, 0.829529041271044)\n",
            "(False, 0.862451880324092, 0.829529041271044)\n"
          ]
        }
      ],
      "source": [
        "def train_randtree(df_train, y_train, estimators, d, leaf, feat, b):\n",
        "    dicts = df_train.to_dict(orient='records')\n",
        "\n",
        "    dv = DictVectorizer(sparse=False)\n",
        "    X_train = dv.fit_transform(dicts)\n",
        "\n",
        "    dt = RandomForestClassifier(max_features = feat,\n",
        "                                n_estimators=estimators,\n",
        "                                max_depth=d,\n",
        "                                min_samples_leaf=leaf,\n",
        "                                bootstrap = b,\n",
        "                                random_state=1)\n",
        "    dt.fit(X_train, y_train)\n",
        "\n",
        "    return dv, dt\n",
        "\n",
        "def predict_randtree(df, dv, model):\n",
        "    dicts = df.to_dict(orient='records')\n",
        "    X = dv.transform(dicts)\n",
        "    y_pred = model.predict_proba(X)[:, 1]\n",
        "    return y_pred\n",
        "\n",
        "scores = []\n",
        "\n",
        "for b in [True, False]:\n",
        "    dv, model = train_randtree(df_train, y_train, 50, 5, 10, 'sqrt',True)\n",
        "    y_pred = predict_randtree(df_train, dv, model)\n",
        "\n",
        "    y_pred_v = predict_randtree(df_val, dv, model)\n",
        "    auc = roc_auc_score( y_train, y_pred)\n",
        "    auc_v = roc_auc_score( y_val, y_pred_v)\n",
        "#     scores.append(( f, auc, auc_v))\n",
        "    print(( b, auc, auc_v))\n"
      ]
    },
    {
      "cell_type": "code",
      "execution_count": null,
      "metadata": {
        "id": "P5wSCP3mHQNZ"
      },
      "outputs": [],
      "source": [
        "dv, model = train_randtree(x_tr, y_tr, 50, 5, 10, 'sqrt',True)\n",
        "submission = pd.read_csv('/content/submission.csv')\n",
        "submission['Churn'] = predict_randtree(X_test, dv, model)"
      ]
    },
    {
      "cell_type": "code",
      "execution_count": null,
      "metadata": {
        "colab": {
          "base_uri": "https://localhost:8080/"
        },
        "id": "L-8QMWaCHQNZ",
        "outputId": "38f849f6-89f7-4e42-cb9d-a813b3cda4f5"
      },
      "outputs": [
        {
          "output_type": "stream",
          "name": "stdout",
          "text": [
            "0.862451880324092 0.829529041271044\n"
          ]
        }
      ],
      "source": [
        "dv, model = train_randtree(df_train, y_train, 50, 5, 10, 'sqrt',True)\n",
        "y_pred = predict(df_train, dv, model)\n",
        "y_pred_v = predict(df_val, dv, model)\n",
        "auc = roc_auc_score( y_train, y_pred)\n",
        "auc_v = roc_auc_score( y_val, y_pred_v)\n",
        "print(auc, auc_v)"
      ]
    },
    {
      "cell_type": "markdown",
      "metadata": {
        "id": "SpZl0oKBHQNZ"
      },
      "source": [
        "### ROC-AUC on test for contest for decision tree: 0.84478"
      ]
    },
    {
      "cell_type": "markdown",
      "metadata": {
        "id": "sUoh8DSMHQNZ"
      },
      "source": [
        "## Gradient boosting and XGBoost"
      ]
    },
    {
      "cell_type": "code",
      "execution_count": null,
      "metadata": {
        "colab": {
          "base_uri": "https://localhost:8080/"
        },
        "id": "RKjNaKcXHQNZ",
        "outputId": "d3241824-725a-4862-c17a-1b5ffeb3d1f7"
      },
      "outputs": [
        {
          "output_type": "stream",
          "name": "stdout",
          "text": [
            "Requirement already satisfied: xgboost in /usr/local/lib/python3.10/dist-packages (2.0.1)\n",
            "Requirement already satisfied: numpy in /usr/local/lib/python3.10/dist-packages (from xgboost) (1.23.5)\n",
            "Requirement already satisfied: scipy in /usr/local/lib/python3.10/dist-packages (from xgboost) (1.11.3)\n"
          ]
        }
      ],
      "source": [
        "!pip install xgboost"
      ]
    },
    {
      "cell_type": "code",
      "execution_count": null,
      "metadata": {
        "id": "2XGdueLzHQNa"
      },
      "outputs": [],
      "source": [
        "import xgboost as xgb"
      ]
    },
    {
      "cell_type": "code",
      "execution_count": null,
      "metadata": {
        "id": "vaRl8HLXHQNa"
      },
      "outputs": [],
      "source": [
        "dv = DictVectorizer(sparse=False)\n",
        "\n",
        "dicts = df_train.to_dict(orient='records')\n",
        "df_tr = dv.fit_transform(dicts)\n",
        "\n",
        "dicts = df_val.to_dict(orient='records')\n",
        "df_v = dv.transform(dicts)\n",
        "\n",
        "features = dv.get_feature_names_out()\n",
        "dtrain = xgb.DMatrix(df_tr, label=y_train)\n",
        "dval = xgb.DMatrix(df_v, label=y_val)"
      ]
    },
    {
      "cell_type": "code",
      "execution_count": null,
      "metadata": {
        "id": "wCawXADCHQNa"
      },
      "outputs": [],
      "source": [
        "scores = {}"
      ]
    },
    {
      "cell_type": "code",
      "execution_count": null,
      "metadata": {
        "id": "77qN-c_2HQNa"
      },
      "outputs": [],
      "source": [
        "\n",
        "def parse_xgb_output(output):\n",
        "    results = []\n",
        "    for line in output.stdout.strip().split('\\n'):\n",
        "        it_line, train_line, val_line = line.split('\\t')\n",
        "\n",
        "        it = int(it_line.strip('[]'))\n",
        "        train = float(train_line.split(':')[1])\n",
        "        val = float(val_line.split(':')[1])\n",
        "\n",
        "        results.append((it, train, val))\n",
        "\n",
        "    columns = ['num_iter', 'train_auc', 'val_auc']\n",
        "    df_results = pd.DataFrame(results, columns=columns)\n",
        "    return df_results\n",
        "\n",
        "watchlist = [(dtrain, 'train'), (dval, 'val')]"
      ]
    },
    {
      "cell_type": "code",
      "execution_count": null,
      "metadata": {
        "id": "vcS9pTNhHQNa"
      },
      "outputs": [],
      "source": [
        "%%capture output\n",
        "\n",
        "xgb_params = {\n",
        "    'eta':0.006,\n",
        "    'max_depth': 5,\n",
        "    'min_child_weight': 6,\n",
        "\n",
        "    'objective': 'binary:logistic',\n",
        "    'eval_metric': 'auc',\n",
        "\n",
        "    'nthread': 8,\n",
        "    'seed': 1,\n",
        "    'verbosity': 1,\n",
        "}\n",
        "\n",
        "model = xgb.train(xgb_params, dtrain, num_boost_round=250,\n",
        "                  verbose_eval=5,\n",
        "                  evals=watchlist)\n"
      ]
    },
    {
      "cell_type": "code",
      "execution_count": null,
      "metadata": {
        "colab": {
          "base_uri": "https://localhost:8080/",
          "height": 35
        },
        "id": "2JzTHFD7HQNa",
        "outputId": "dccca309-4a9c-4803-efbf-3569c1cd1613"
      },
      "outputs": [
        {
          "output_type": "execute_result",
          "data": {
            "text/plain": [
              "'eta = 0.006 dep=5child=6'"
            ],
            "application/vnd.google.colaboratory.intrinsic+json": {
              "type": "string"
            }
          },
          "metadata": {},
          "execution_count": 38
        }
      ],
      "source": [
        "key = 'eta = %s dep=%s''child=%s'% (xgb_params['eta'], xgb_params['max_depth'], xgb_params['min_child_weight'])\n",
        "scores[key] = parse_xgb_output(output)\n",
        "key"
      ]
    },
    {
      "cell_type": "code",
      "execution_count": null,
      "metadata": {
        "colab": {
          "base_uri": "https://localhost:8080/",
          "height": 447
        },
        "id": "rZdikISFHQNa",
        "outputId": "92020624-b906-4044-f2f8-b34f5b9d047d"
      },
      "outputs": [
        {
          "output_type": "execute_result",
          "data": {
            "text/plain": [
              "<matplotlib.legend.Legend at 0x78f5f94964d0>"
            ]
          },
          "metadata": {},
          "execution_count": 39
        },
        {
          "output_type": "display_data",
          "data": {
            "text/plain": [
              "<Figure size 640x480 with 1 Axes>"
            ],
            "image/png": "[encoded data removed]"
          },
          "metadata": {}
        }
      ],
      "source": [
        "for max_depth, df_score in scores.items():\n",
        "    plt.plot(df_score.num_iter, df_score.val_auc, label=max_depth)\n",
        "# plt.ylim(0.82, 0.83)\n",
        "# plt.xlim(10, 40)\n",
        "plt.legend()"
      ]
    },
    {
      "cell_type": "code",
      "execution_count": null,
      "metadata": {
        "id": "8nbTbm5wHQNb"
      },
      "outputs": [],
      "source": [
        "dicts = X_test.to_dict(orient='records')\n",
        "df_test = dv.transform(dicts)\n",
        "\n",
        "features = dv.get_feature_names_out()\n",
        "dtest = xgb.DMatrix(df_test)\n",
        "submission['Churn'] = model.predict(dtest)"
      ]
    },
    {
      "cell_type": "markdown",
      "metadata": {
        "id": "xS01krbRHQNb"
      },
      "source": [
        "For all X_train"
      ]
    },
    {
      "cell_type": "code",
      "execution_count": null,
      "metadata": {
        "colab": {
          "base_uri": "https://localhost:8080/"
        },
        "id": "EZeA-7KFHQNb",
        "outputId": "b12fe1c0-b77f-4178-e9c4-44f90178ad32"
      },
      "outputs": [
        {
          "output_type": "stream",
          "name": "stdout",
          "text": [
            "[0]\ttrain-auc:0.85314\tval-auc:0.83786\n",
            "[5]\ttrain-auc:0.85810\tval-auc:0.84180\n",
            "[10]\ttrain-auc:0.85798\tval-auc:0.84135\n",
            "[15]\ttrain-auc:0.85797\tval-auc:0.84008\n",
            "[20]\ttrain-auc:0.85794\tval-auc:0.83982\n",
            "[25]\ttrain-auc:0.85812\tval-auc:0.83954\n",
            "[30]\ttrain-auc:0.85897\tval-auc:0.83970\n",
            "[35]\ttrain-auc:0.85903\tval-auc:0.83937\n",
            "[40]\ttrain-auc:0.85930\tval-auc:0.84010\n",
            "[45]\ttrain-auc:0.85979\tval-auc:0.84123\n",
            "[50]\ttrain-auc:0.86023\tval-auc:0.84203\n",
            "[55]\ttrain-auc:0.86085\tval-auc:0.84286\n",
            "[60]\ttrain-auc:0.86125\tval-auc:0.84263\n",
            "[65]\ttrain-auc:0.86146\tval-auc:0.84308\n",
            "[70]\ttrain-auc:0.86198\tval-auc:0.84354\n",
            "[75]\ttrain-auc:0.86234\tval-auc:0.84371\n",
            "[80]\ttrain-auc:0.86261\tval-auc:0.84428\n",
            "[85]\ttrain-auc:0.86283\tval-auc:0.84440\n",
            "[90]\ttrain-auc:0.86325\tval-auc:0.84491\n",
            "[95]\ttrain-auc:0.86394\tval-auc:0.84514\n",
            "[100]\ttrain-auc:0.86435\tval-auc:0.84574\n",
            "[105]\ttrain-auc:0.86476\tval-auc:0.84600\n",
            "[110]\ttrain-auc:0.86572\tval-auc:0.84694\n",
            "[115]\ttrain-auc:0.86645\tval-auc:0.84755\n",
            "[120]\ttrain-auc:0.86699\tval-auc:0.84785\n",
            "[125]\ttrain-auc:0.86743\tval-auc:0.84876\n",
            "[130]\ttrain-auc:0.86792\tval-auc:0.84934\n",
            "[135]\ttrain-auc:0.86834\tval-auc:0.84971\n",
            "[140]\ttrain-auc:0.86888\tval-auc:0.85031\n",
            "[145]\ttrain-auc:0.86937\tval-auc:0.85087\n",
            "[150]\ttrain-auc:0.86968\tval-auc:0.85100\n",
            "[155]\ttrain-auc:0.87003\tval-auc:0.85149\n",
            "[160]\ttrain-auc:0.87034\tval-auc:0.85152\n",
            "[165]\ttrain-auc:0.87066\tval-auc:0.85179\n",
            "[170]\ttrain-auc:0.87099\tval-auc:0.85229\n",
            "[175]\ttrain-auc:0.87124\tval-auc:0.85246\n",
            "[180]\ttrain-auc:0.87145\tval-auc:0.85255\n",
            "[185]\ttrain-auc:0.87177\tval-auc:0.85279\n",
            "[190]\ttrain-auc:0.87198\tval-auc:0.85312\n",
            "[195]\ttrain-auc:0.87222\tval-auc:0.85346\n",
            "[200]\ttrain-auc:0.87243\tval-auc:0.85392\n",
            "[205]\ttrain-auc:0.87282\tval-auc:0.85406\n",
            "[210]\ttrain-auc:0.87301\tval-auc:0.85438\n",
            "[215]\ttrain-auc:0.87317\tval-auc:0.85463\n",
            "[220]\ttrain-auc:0.87342\tval-auc:0.85491\n",
            "[225]\ttrain-auc:0.87362\tval-auc:0.85531\n",
            "[230]\ttrain-auc:0.87377\tval-auc:0.85563\n",
            "[235]\ttrain-auc:0.87399\tval-auc:0.85588\n",
            "[240]\ttrain-auc:0.87423\tval-auc:0.85614\n",
            "[245]\ttrain-auc:0.87447\tval-auc:0.85647\n",
            "[250]\ttrain-auc:0.87477\tval-auc:0.85698\n",
            "[255]\ttrain-auc:0.87495\tval-auc:0.85751\n",
            "[260]\ttrain-auc:0.87512\tval-auc:0.85793\n",
            "[265]\ttrain-auc:0.87534\tval-auc:0.85821\n",
            "[270]\ttrain-auc:0.87556\tval-auc:0.85855\n",
            "[275]\ttrain-auc:0.87572\tval-auc:0.85888\n",
            "[280]\ttrain-auc:0.87591\tval-auc:0.85919\n",
            "[285]\ttrain-auc:0.87612\tval-auc:0.85961\n",
            "[290]\ttrain-auc:0.87627\tval-auc:0.85988\n",
            "[295]\ttrain-auc:0.87647\tval-auc:0.86019\n",
            "[300]\ttrain-auc:0.87668\tval-auc:0.86050\n",
            "[305]\ttrain-auc:0.87686\tval-auc:0.86080\n",
            "[310]\ttrain-auc:0.87702\tval-auc:0.86113\n",
            "[315]\ttrain-auc:0.87718\tval-auc:0.86142\n",
            "[320]\ttrain-auc:0.87734\tval-auc:0.86161\n",
            "[325]\ttrain-auc:0.87751\tval-auc:0.86182\n",
            "[330]\ttrain-auc:0.87768\tval-auc:0.86207\n",
            "[335]\ttrain-auc:0.87779\tval-auc:0.86230\n",
            "[340]\ttrain-auc:0.87792\tval-auc:0.86260\n",
            "[345]\ttrain-auc:0.87809\tval-auc:0.86274\n",
            "[350]\ttrain-auc:0.87820\tval-auc:0.86288\n",
            "[355]\ttrain-auc:0.87830\tval-auc:0.86298\n",
            "[360]\ttrain-auc:0.87838\tval-auc:0.86307\n",
            "[365]\ttrain-auc:0.87851\tval-auc:0.86333\n",
            "[370]\ttrain-auc:0.87862\tval-auc:0.86353\n",
            "[375]\ttrain-auc:0.87875\tval-auc:0.86376\n",
            "[380]\ttrain-auc:0.87898\tval-auc:0.86396\n",
            "[385]\ttrain-auc:0.87916\tval-auc:0.86420\n",
            "[390]\ttrain-auc:0.87936\tval-auc:0.86434\n",
            "[395]\ttrain-auc:0.87955\tval-auc:0.86455\n",
            "[400]\ttrain-auc:0.87975\tval-auc:0.86464\n",
            "[405]\ttrain-auc:0.87994\tval-auc:0.86484\n",
            "[410]\ttrain-auc:0.88014\tval-auc:0.86502\n",
            "[415]\ttrain-auc:0.88034\tval-auc:0.86515\n",
            "[420]\ttrain-auc:0.88053\tval-auc:0.86546\n",
            "[425]\ttrain-auc:0.88072\tval-auc:0.86562\n",
            "[430]\ttrain-auc:0.88089\tval-auc:0.86584\n",
            "[435]\ttrain-auc:0.88104\tval-auc:0.86595\n",
            "[440]\ttrain-auc:0.88119\tval-auc:0.86619\n",
            "[445]\ttrain-auc:0.88136\tval-auc:0.86640\n",
            "[450]\ttrain-auc:0.88154\tval-auc:0.86667\n",
            "[455]\ttrain-auc:0.88170\tval-auc:0.86684\n",
            "[460]\ttrain-auc:0.88186\tval-auc:0.86704\n",
            "[465]\ttrain-auc:0.88205\tval-auc:0.86712\n",
            "[470]\ttrain-auc:0.88219\tval-auc:0.86728\n",
            "[475]\ttrain-auc:0.88241\tval-auc:0.86747\n",
            "[480]\ttrain-auc:0.88259\tval-auc:0.86769\n",
            "[485]\ttrain-auc:0.88282\tval-auc:0.86790\n",
            "[490]\ttrain-auc:0.88302\tval-auc:0.86809\n",
            "[495]\ttrain-auc:0.88328\tval-auc:0.86823\n",
            "[500]\ttrain-auc:0.88347\tval-auc:0.86839\n",
            "[505]\ttrain-auc:0.88367\tval-auc:0.86852\n",
            "[510]\ttrain-auc:0.88385\tval-auc:0.86872\n",
            "[515]\ttrain-auc:0.88404\tval-auc:0.86904\n",
            "[520]\ttrain-auc:0.88420\tval-auc:0.86922\n",
            "[525]\ttrain-auc:0.88434\tval-auc:0.86945\n",
            "[530]\ttrain-auc:0.88450\tval-auc:0.86972\n",
            "[535]\ttrain-auc:0.88462\tval-auc:0.86991\n",
            "[540]\ttrain-auc:0.88480\tval-auc:0.87011\n",
            "[545]\ttrain-auc:0.88499\tval-auc:0.87031\n",
            "[550]\ttrain-auc:0.88516\tval-auc:0.87062\n",
            "[555]\ttrain-auc:0.88537\tval-auc:0.87086\n",
            "[560]\ttrain-auc:0.88558\tval-auc:0.87112\n",
            "[565]\ttrain-auc:0.88581\tval-auc:0.87130\n",
            "[570]\ttrain-auc:0.88600\tval-auc:0.87145\n",
            "[575]\ttrain-auc:0.88612\tval-auc:0.87160\n",
            "[580]\ttrain-auc:0.88627\tval-auc:0.87176\n",
            "[585]\ttrain-auc:0.88639\tval-auc:0.87190\n",
            "[590]\ttrain-auc:0.88659\tval-auc:0.87211\n",
            "[595]\ttrain-auc:0.88673\tval-auc:0.87233\n",
            "[600]\ttrain-auc:0.88688\tval-auc:0.87256\n",
            "[605]\ttrain-auc:0.88705\tval-auc:0.87285\n",
            "[610]\ttrain-auc:0.88718\tval-auc:0.87313\n",
            "[615]\ttrain-auc:0.88734\tval-auc:0.87333\n",
            "[620]\ttrain-auc:0.88748\tval-auc:0.87349\n",
            "[625]\ttrain-auc:0.88763\tval-auc:0.87365\n",
            "[630]\ttrain-auc:0.88779\tval-auc:0.87383\n",
            "[635]\ttrain-auc:0.88794\tval-auc:0.87395\n",
            "[640]\ttrain-auc:0.88811\tval-auc:0.87417\n",
            "[645]\ttrain-auc:0.88825\tval-auc:0.87434\n",
            "[650]\ttrain-auc:0.88841\tval-auc:0.87445\n",
            "[655]\ttrain-auc:0.88856\tval-auc:0.87459\n",
            "[660]\ttrain-auc:0.88867\tval-auc:0.87465\n",
            "[665]\ttrain-auc:0.88882\tval-auc:0.87479\n",
            "[670]\ttrain-auc:0.88895\tval-auc:0.87496\n",
            "[675]\ttrain-auc:0.88906\tval-auc:0.87511\n",
            "[680]\ttrain-auc:0.88920\tval-auc:0.87522\n",
            "[685]\ttrain-auc:0.88933\tval-auc:0.87527\n",
            "[690]\ttrain-auc:0.88951\tval-auc:0.87544\n",
            "[695]\ttrain-auc:0.88967\tval-auc:0.87559\n",
            "[700]\ttrain-auc:0.88984\tval-auc:0.87579\n",
            "[705]\ttrain-auc:0.88999\tval-auc:0.87590\n",
            "[710]\ttrain-auc:0.89009\tval-auc:0.87596\n",
            "[715]\ttrain-auc:0.89023\tval-auc:0.87610\n",
            "[720]\ttrain-auc:0.89033\tval-auc:0.87627\n",
            "[725]\ttrain-auc:0.89044\tval-auc:0.87640\n",
            "[730]\ttrain-auc:0.89056\tval-auc:0.87659\n",
            "[735]\ttrain-auc:0.89067\tval-auc:0.87670\n",
            "[740]\ttrain-auc:0.89081\tval-auc:0.87690\n",
            "[745]\ttrain-auc:0.89089\tval-auc:0.87703\n",
            "[750]\ttrain-auc:0.89096\tval-auc:0.87715\n",
            "[755]\ttrain-auc:0.89110\tval-auc:0.87722\n",
            "[760]\ttrain-auc:0.89118\tval-auc:0.87729\n",
            "[765]\ttrain-auc:0.89131\tval-auc:0.87736\n",
            "[770]\ttrain-auc:0.89141\tval-auc:0.87751\n",
            "[775]\ttrain-auc:0.89154\tval-auc:0.87771\n",
            "[780]\ttrain-auc:0.89165\tval-auc:0.87788\n",
            "[785]\ttrain-auc:0.89178\tval-auc:0.87810\n",
            "[790]\ttrain-auc:0.89188\tval-auc:0.87821\n",
            "[795]\ttrain-auc:0.89198\tval-auc:0.87839\n",
            "[799]\ttrain-auc:0.89207\tval-auc:0.87851\n"
          ]
        }
      ],
      "source": [
        "df_train_all = x_tr\n",
        "\n",
        "dv = DictVectorizer(sparse=False)\n",
        "\n",
        "dicts = df_train_all.to_dict(orient='records')\n",
        "df_tr = dv.fit_transform(dicts)\n",
        "\n",
        "features = dv.get_feature_names_out()\n",
        "dtrain = xgb.DMatrix(df_tr, label=y_tr)\n",
        "\n",
        "model = xgb.train(xgb_params, dtrain, num_boost_round=800,\n",
        "                  verbose_eval=5,\n",
        "                  evals=watchlist)\n",
        "\n",
        "\n",
        "dtest = xgb.DMatrix(df_test)\n",
        "submission['Churn'] = model.predict(dtest)"
      ]
    },
    {
      "cell_type": "code",
      "execution_count": null,
      "metadata": {
        "colab": {
          "base_uri": "https://localhost:8080/"
        },
        "id": "iyvvYtOgHQNb",
        "outputId": "8388e1d1-0b8f-4c34-c56d-b65571eec526"
      },
      "outputs": [
        {
          "output_type": "execute_result",
          "data": {
            "text/plain": [
              "0       0.042336\n",
              "1       0.635492\n",
              "2       0.666194\n",
              "3       0.020385\n",
              "4       0.008010\n",
              "          ...   \n",
              "1756    0.208136\n",
              "1757    0.013438\n",
              "1758    0.843022\n",
              "1759    0.598301\n",
              "1760    0.009069\n",
              "Name: Churn, Length: 1761, dtype: float32"
            ]
          },
          "metadata": {},
          "execution_count": 42
        }
      ],
      "source": [
        "submission['Churn']"
      ]
    },
    {
      "cell_type": "markdown",
      "metadata": {
        "id": "f28varhuJCds"
      },
      "source": [
        "### ROC-AUC on test for contest: 0.85198"
      ]
    },
    {
      "cell_type": "code",
      "execution_count": null,
      "metadata": {
        "id": "t1PeJfZiHQNc"
      },
      "outputs": [],
      "source": [
        "submission.to_csv('/content/submission.csv', index=False)"
      ]
    },
    {
      "cell_type": "markdown",
      "metadata": {
        "id": "yXH9WLjcOLuR"
      },
      "source": [
        "#### Save model"
      ]
    },
    {
      "cell_type": "code",
      "execution_count": null,
      "metadata": {
        "id": "Qy8nVF7uOP8h"
      },
      "outputs": [],
      "source": [
        "import pickle\n",
        "output_file = 'model_tree.bin'\n",
        "with open(output_file, 'wb') as f_out:\n",
        "    pickle.dump((dv, model), f_out)"
      ]
    },
    {
      "cell_type": "markdown",
      "metadata": {
        "id": "4UEBGfaCJPpT"
      },
      "source": [
        "## Catboost"
      ]
    },
    {
      "cell_type": "code",
      "execution_count": null,
      "metadata": {
        "id": "cRcMpc-UHQNc"
      },
      "outputs": [],
      "source": [
        "!pip install catboost\n",
        "import catboost\n",
        "\n",
        "boosting_model = catboost.CatBoostClassifier(n_estimators=50, silent=True,\n",
        "                                             cat_features=cat_cols,\n",
        "                                             eval_metric='AUC')\n",
        "\n",
        "boosting_model.fit(df_train, y_train)\n",
        "\n",
        "y_train_predicted = boosting_model.predict_proba(df_train)[:, 1]\n",
        "y_val_predicted = boosting_model.predict_proba(df_val) [:, 1]\n",
        "\n",
        "from sklearn.metrics import roc_auc_score, roc_curve\n",
        "\n",
        "train_auc = roc_auc_score(y_train, y_train_predicted)\n",
        "val_auc = roc_auc_score(y_val, y_val_predicted)\n",
        "\n",
        "plt.figure(figsize=(10,7))\n",
        "plt.plot(*roc_curve(y_train, y_train_predicted)[:2], label='train AUC={:.4f}'.format(train_auc))\n",
        "plt.plot(*roc_curve(y_val, y_val_predicted)[:2], label='val AUC={:.4f}'.format(val_auc))\n",
        "legend_box = plt.legend(fontsize='large', framealpha=1).get_frame()\n",
        "legend_box.set_facecolor(\"white\")\n",
        "legend_box.set_edgecolor(\"black\")\n",
        "plt.plot(np.linspace(0,1,100), np.linspace(0,1,100))\n",
        "plt.show()"
      ]
    },
    {
      "cell_type": "markdown",
      "metadata": {
        "id": "-XihR91YHQNd"
      },
      "source": [
        "### ROC-AUC on test for contest for catboost: 0.84593"
      ]
    },
    {
      "cell_type": "code",
      "execution_count": null,
      "metadata": {
        "id": "Hf78HUlnHQNd"
      },
      "outputs": [],
      "source": [
        "boosting_model.fit(x_tr, y_tr)\n",
        "# submission['Churn'] = boosting_model.predict_proba(X_test)[:, 1]"
      ]
    }
  ],
  "metadata": {
    "colab": {
      "provenance": [],
      "toc_visible": true,
      "include_colab_link": true
    },
    "kernelspec": {
      "display_name": "Python 3",
      "language": "python",
      "name": "python3"
    },
    "language_info": {
      "codemirror_mode": {
        "name": "ipython",
        "version": 3
      },
      "file_extension": ".py",
      "mimetype": "text/x-python",
      "name": "python",
      "nbconvert_exporter": "python",
      "pygments_lexer": "ipython3",
      "version": "3.10.12"
    }
  },
  "nbformat": 4,
  "nbformat_minor": 0
}