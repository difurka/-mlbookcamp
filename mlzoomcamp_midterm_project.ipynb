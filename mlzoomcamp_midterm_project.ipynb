{
  "metadata": {
    "kernelspec": {
      "language": "python",
      "display_name": "Python 3",
      "name": "python3"
    },
    "language_info": {
      "name": "python",
      "version": "3.10.12",
      "mimetype": "text/x-python",
      "codemirror_mode": {
        "name": "ipython",
        "version": 3
      },
      "pygments_lexer": "ipython3",
      "nbconvert_exporter": "python",
      "file_extension": ".py"
    },
    "colab": {
      "provenance": [],
      "toc_visible": true,
      "include_colab_link": true
    }
  },
  "nbformat_minor": 0,
  "nbformat": 4,
  "cells": [
    {
      "cell_type": "markdown",
      "metadata": {
        "id": "view-in-github",
        "colab_type": "text"
      },
      "source": [
        "<a href=\"https://colab.research.google.com/github/difurka/mlbookcamp_learning/blob/main/mlzoomcamp_midterm_project.ipynb\" target=\"_parent\"><img src=\"https://colab.research.google.com/assets/colab-badge.svg\" alt=\"Open In Colab\"/></a>"
      ]
    },
    {
      "cell_type": "markdown",
      "source": [
        "# Description\n",
        "\n",
        "This competition is homework for module 3 of the advanced DLS stream (spring 2021). You will learn how to model customer churn for a telecom company. This task is very important in practice and algorithms for solving it are used in real telecom companies, because if we know that a client is going to leave us, then we will try to keep him by offering some kind of bonuses.(https://www.kaggle.com/competitions/advanced-dls-spring-2021/overview)\n",
        "\n",
        "\n",
        "Next models are used: Logistic Regression, DecisionTreeClassifier, Random Forest Classifier, and Gradient boosting, and CatBoost.\n",
        "\n",
        "Random Forest Classifier has given the best result for test dataset on Kaggle.\n"
      ],
      "metadata": {
        "id": "jkOcHxrTHQNR"
      }
    },
    {
      "cell_type": "markdown",
      "source": [
        "Add datasets from kaggle:"
      ],
      "metadata": {
        "id": "zRkNNKWPH4kJ"
      }
    },
    {
      "cell_type": "code",
      "source": [
        "from google.colab import drive\n",
        "drive.mount('/content/gdrive')\n",
        "\n",
        "import os\n",
        "os.environ['KAGGLE_CONFIG_DIR'] = \"/content/gdrive/My Drive/kaggle/\"\n",
        "!kaggle competitions download -c advanced-dls-spring-2021\n",
        "!unzip \\*.zip  && rm *.zip"
      ],
      "metadata": {
        "_uuid": "8f2839f25d086af736a60e9eeb907d3b93b6e0e5",
        "_cell_guid": "b1076dfc-b9ad-4769-8c92-a6c4dae69d19",
        "execution": {
          "iopub.status.busy": "2023-10-31T09:31:47.195314Z",
          "iopub.execute_input": "2023-10-31T09:31:47.195667Z",
          "iopub.status.idle": "2023-10-31T09:31:47.208275Z",
          "shell.execute_reply.started": "2023-10-31T09:31:47.195638Z",
          "shell.execute_reply": "2023-10-31T09:31:47.207045Z"
        },
        "trusted": true,
        "colab": {
          "base_uri": "https://localhost:8080/"
        },
        "id": "MnMZuIYIHQNO",
        "outputId": "4db75947-4045-44ed-932c-f7bceefea8c7"
      },
      "execution_count": 40,
      "outputs": [
        {
          "output_type": "stream",
          "name": "stdout",
          "text": [
            "Drive already mounted at /content/gdrive; to attempt to forcibly remount, call drive.mount(\"/content/gdrive\", force_remount=True).\n",
            "Downloading advanced-dls-spring-2021.zip to /content\n",
            "  0% 0.00/115k [00:00<?, ?B/s]\n",
            "100% 115k/115k [00:00<00:00, 110MB/s]\n",
            "Archive:  advanced-dls-spring-2021.zip\n",
            "replace submission.csv? [y]es, [n]o, [A]ll, [N]one, [r]ename: N\n"
          ]
        }
      ]
    },
    {
      "cell_type": "code",
      "source": [
        "import numpy as np\n",
        "import pandas as pd\n",
        "from matplotlib import pyplot as plt\n",
        "from sklearn.model_selection import train_test_split\n",
        "import seaborn as sns\n",
        "from sklearn.linear_model import LogisticRegression\n",
        "from sklearn.metrics import roc_auc_score\n",
        "from sklearn.metrics import accuracy_score\n",
        "from sklearn.model_selection import train_test_split\n",
        "from sklearn.feature_extraction import DictVectorizer\n",
        "from tqdm import tqdm,trange,tqdm_notebook"
      ],
      "metadata": {
        "execution": {
          "iopub.status.busy": "2023-10-31T09:31:47.210115Z",
          "iopub.execute_input": "2023-10-31T09:31:47.210668Z",
          "iopub.status.idle": "2023-10-31T09:31:47.217942Z",
          "shell.execute_reply.started": "2023-10-31T09:31:47.210635Z",
          "shell.execute_reply": "2023-10-31T09:31:47.216695Z"
        },
        "trusted": true,
        "id": "vW7G6fpXHQNS"
      },
      "execution_count": 41,
      "outputs": []
    },
    {
      "cell_type": "markdown",
      "source": [
        " ## Load data"
      ],
      "metadata": {
        "id": "dnLb12f-HQNT"
      }
    },
    {
      "cell_type": "code",
      "source": [
        "X_train = pd.read_csv('/content/train.csv')\n",
        "X_test = pd.read_csv('/content/test.csv')"
      ],
      "metadata": {
        "execution": {
          "iopub.status.busy": "2023-10-31T09:31:47.219315Z",
          "iopub.execute_input": "2023-10-31T09:31:47.219714Z",
          "iopub.status.idle": "2023-10-31T09:31:47.271042Z",
          "shell.execute_reply.started": "2023-10-31T09:31:47.219672Z",
          "shell.execute_reply": "2023-10-31T09:31:47.270107Z"
        },
        "trusted": true,
        "id": "Ng60qsvSHQNT"
      },
      "execution_count": 42,
      "outputs": []
    },
    {
      "cell_type": "markdown",
      "source": [
        "Look at random rows"
      ],
      "metadata": {
        "id": "m_C7fHpgHQNT"
      }
    },
    {
      "cell_type": "code",
      "source": [
        "X_train.sample(n=5)"
      ],
      "metadata": {
        "execution": {
          "iopub.status.busy": "2023-10-31T09:31:47.272296Z",
          "iopub.execute_input": "2023-10-31T09:31:47.273289Z",
          "iopub.status.idle": "2023-10-31T09:31:47.298957Z",
          "shell.execute_reply.started": "2023-10-31T09:31:47.273256Z",
          "shell.execute_reply": "2023-10-31T09:31:47.297522Z"
        },
        "trusted": true,
        "colab": {
          "base_uri": "https://localhost:8080/",
          "height": 261
        },
        "id": "67Xy_FCiHQNT",
        "outputId": "2aa9a6c1-fc6f-458c-ad0e-2d5965938775"
      },
      "execution_count": 43,
      "outputs": [
        {
          "output_type": "execute_result",
          "data": {
            "text/plain": [
              "      ClientPeriod  MonthlySpending TotalSpent     Sex  IsSeniorCitizen  \\\n",
              "2551            71           111.25    7984.15  Female                0   \n",
              "3513            27           100.50    2673.45    Male                0   \n",
              "4859             5            82.75     417.75  Female                0   \n",
              "3646             3            20.20      65.95  Female                0   \n",
              "1318            34            94.25    3217.55  Female                1   \n",
              "\n",
              "     HasPartner HasChild HasPhoneService HasMultiplePhoneNumbers  \\\n",
              "2551         No       No             Yes                     Yes   \n",
              "3513         No       No             Yes                     Yes   \n",
              "4859         No       No             Yes                     Yes   \n",
              "3646         No       No             Yes                      No   \n",
              "1318        Yes       No             Yes                     Yes   \n",
              "\n",
              "     HasInternetService HasOnlineSecurityService      HasOnlineBackup  \\\n",
              "2551        Fiber optic                       No                  Yes   \n",
              "3513        Fiber optic                       No                   No   \n",
              "4859        Fiber optic                       No                   No   \n",
              "3646                 No      No internet service  No internet service   \n",
              "1318        Fiber optic                       No                  Yes   \n",
              "\n",
              "      HasDeviceProtection HasTechSupportAccess          HasOnlineTV  \\\n",
              "2551                  Yes                  Yes                  Yes   \n",
              "3513                  Yes                   No                  Yes   \n",
              "4859                  Yes                  Yes                   No   \n",
              "3646  No internet service  No internet service  No internet service   \n",
              "1318                  Yes                   No                   No   \n",
              "\n",
              "     HasMovieSubscription HasContractPhone IsBillingPaperless  \\\n",
              "2551                  Yes         Two year                Yes   \n",
              "3513                  Yes         One year                Yes   \n",
              "4859                   No   Month-to-month                Yes   \n",
              "3646  No internet service   Month-to-month                 No   \n",
              "1318                  Yes   Month-to-month                Yes   \n",
              "\n",
              "                  PaymentMethod  Churn  \n",
              "2551           Electronic check      0  \n",
              "3513  Bank transfer (automatic)      0  \n",
              "4859           Electronic check      0  \n",
              "3646           Electronic check      0  \n",
              "1318           Electronic check      1  "
            ],
            "text/html": [
              "\n",
              "  <div id=\"df-3dbcb340-5169-4656-acb4-9312e59871d0\" class=\"colab-df-container\">\n",
              "    <div>\n",
              "<style scoped>\n",
              "    .dataframe tbody tr th:only-of-type {\n",
              "        vertical-align: middle;\n",
              "    }\n",
              "\n",
              "    .dataframe tbody tr th {\n",
              "        vertical-align: top;\n",
              "    }\n",
              "\n",
              "    .dataframe thead th {\n",
              "        text-align: right;\n",
              "    }\n",
              "</style>\n",
              "<table border=\"1\" class=\"dataframe\">\n",
              "  <thead>\n",
              "    <tr style=\"text-align: right;\">\n",
              "      <th></th>\n",
              "      <th>ClientPeriod</th>\n",
              "      <th>MonthlySpending</th>\n",
              "      <th>TotalSpent</th>\n",
              "      <th>Sex</th>\n",
              "      <th>IsSeniorCitizen</th>\n",
              "      <th>HasPartner</th>\n",
              "      <th>HasChild</th>\n",
              "      <th>HasPhoneService</th>\n",
              "      <th>HasMultiplePhoneNumbers</th>\n",
              "      <th>HasInternetService</th>\n",
              "      <th>HasOnlineSecurityService</th>\n",
              "      <th>HasOnlineBackup</th>\n",
              "      <th>HasDeviceProtection</th>\n",
              "      <th>HasTechSupportAccess</th>\n",
              "      <th>HasOnlineTV</th>\n",
              "      <th>HasMovieSubscription</th>\n",
              "      <th>HasContractPhone</th>\n",
              "      <th>IsBillingPaperless</th>\n",
              "      <th>PaymentMethod</th>\n",
              "      <th>Churn</th>\n",
              "    </tr>\n",
              "  </thead>\n",
              "  <tbody>\n",
              "    <tr>\n",
              "      <th>2551</th>\n",
              "      <td>71</td>\n",
              "      <td>111.25</td>\n",
              "      <td>7984.15</td>\n",
              "      <td>Female</td>\n",
              "      <td>0</td>\n",
              "      <td>No</td>\n",
              "      <td>No</td>\n",
              "      <td>Yes</td>\n",
              "      <td>Yes</td>\n",
              "      <td>Fiber optic</td>\n",
              "      <td>No</td>\n",
              "      <td>Yes</td>\n",
              "      <td>Yes</td>\n",
              "      <td>Yes</td>\n",
              "      <td>Yes</td>\n",
              "      <td>Yes</td>\n",
              "      <td>Two year</td>\n",
              "      <td>Yes</td>\n",
              "      <td>Electronic check</td>\n",
              "      <td>0</td>\n",
              "    </tr>\n",
              "    <tr>\n",
              "      <th>3513</th>\n",
              "      <td>27</td>\n",
              "      <td>100.50</td>\n",
              "      <td>2673.45</td>\n",
              "      <td>Male</td>\n",
              "      <td>0</td>\n",
              "      <td>No</td>\n",
              "      <td>No</td>\n",
              "      <td>Yes</td>\n",
              "      <td>Yes</td>\n",
              "      <td>Fiber optic</td>\n",
              "      <td>No</td>\n",
              "      <td>No</td>\n",
              "      <td>Yes</td>\n",
              "      <td>No</td>\n",
              "      <td>Yes</td>\n",
              "      <td>Yes</td>\n",
              "      <td>One year</td>\n",
              "      <td>Yes</td>\n",
              "      <td>Bank transfer (automatic)</td>\n",
              "      <td>0</td>\n",
              "    </tr>\n",
              "    <tr>\n",
              "      <th>4859</th>\n",
              "      <td>5</td>\n",
              "      <td>82.75</td>\n",
              "      <td>417.75</td>\n",
              "      <td>Female</td>\n",
              "      <td>0</td>\n",
              "      <td>No</td>\n",
              "      <td>No</td>\n",
              "      <td>Yes</td>\n",
              "      <td>Yes</td>\n",
              "      <td>Fiber optic</td>\n",
              "      <td>No</td>\n",
              "      <td>No</td>\n",
              "      <td>Yes</td>\n",
              "      <td>Yes</td>\n",
              "      <td>No</td>\n",
              "      <td>No</td>\n",
              "      <td>Month-to-month</td>\n",
              "      <td>Yes</td>\n",
              "      <td>Electronic check</td>\n",
              "      <td>0</td>\n",
              "    </tr>\n",
              "    <tr>\n",
              "      <th>3646</th>\n",
              "      <td>3</td>\n",
              "      <td>20.20</td>\n",
              "      <td>65.95</td>\n",
              "      <td>Female</td>\n",
              "      <td>0</td>\n",
              "      <td>No</td>\n",
              "      <td>No</td>\n",
              "      <td>Yes</td>\n",
              "      <td>No</td>\n",
              "      <td>No</td>\n",
              "      <td>No internet service</td>\n",
              "      <td>No internet service</td>\n",
              "      <td>No internet service</td>\n",
              "      <td>No internet service</td>\n",
              "      <td>No internet service</td>\n",
              "      <td>No internet service</td>\n",
              "      <td>Month-to-month</td>\n",
              "      <td>No</td>\n",
              "      <td>Electronic check</td>\n",
              "      <td>0</td>\n",
              "    </tr>\n",
              "    <tr>\n",
              "      <th>1318</th>\n",
              "      <td>34</td>\n",
              "      <td>94.25</td>\n",
              "      <td>3217.55</td>\n",
              "      <td>Female</td>\n",
              "      <td>1</td>\n",
              "      <td>Yes</td>\n",
              "      <td>No</td>\n",
              "      <td>Yes</td>\n",
              "      <td>Yes</td>\n",
              "      <td>Fiber optic</td>\n",
              "      <td>No</td>\n",
              "      <td>Yes</td>\n",
              "      <td>Yes</td>\n",
              "      <td>No</td>\n",
              "      <td>No</td>\n",
              "      <td>Yes</td>\n",
              "      <td>Month-to-month</td>\n",
              "      <td>Yes</td>\n",
              "      <td>Electronic check</td>\n",
              "      <td>1</td>\n",
              "    </tr>\n",
              "  </tbody>\n",
              "</table>\n",
              "</div>\n",
              "    <div class=\"colab-df-buttons\">\n",
              "\n",
              "  <div class=\"colab-df-container\">\n",
              "    <button class=\"colab-df-convert\" onclick=\"convertToInteractive('df-3dbcb340-5169-4656-acb4-9312e59871d0')\"\n",
              "            title=\"Convert this dataframe to an interactive table.\"\n",
              "            style=\"display:none;\">\n",
              "\n",
              "  <svg xmlns=\"http://www.w3.org/2000/svg\" height=\"24px\" viewBox=\"0 -960 960 960\">\n",
              "    <path d=\"M120-120v-720h720v720H120Zm60-500h600v-160H180v160Zm220 220h160v-160H400v160Zm0 220h160v-160H400v160ZM180-400h160v-160H180v160Zm440 0h160v-160H620v160ZM180-180h160v-160H180v160Zm440 0h160v-160H620v160Z\"/>\n",
              "  </svg>\n",
              "    </button>\n",
              "\n",
              "  <style>\n",
              "    .colab-df-container {\n",
              "      display:flex;\n",
              "      gap: 12px;\n",
              "    }\n",
              "\n",
              "    .colab-df-convert {\n",
              "      background-color: #E8F0FE;\n",
              "      border: none;\n",
              "      border-radius: 50%;\n",
              "      cursor: pointer;\n",
              "      display: none;\n",
              "      fill: #1967D2;\n",
              "      height: 32px;\n",
              "      padding: 0 0 0 0;\n",
              "      width: 32px;\n",
              "    }\n",
              "\n",
              "    .colab-df-convert:hover {\n",
              "      background-color: #E2EBFA;\n",
              "      box-shadow: 0px 1px 2px rgba(60, 64, 67, 0.3), 0px 1px 3px 1px rgba(60, 64, 67, 0.15);\n",
              "      fill: #174EA6;\n",
              "    }\n",
              "\n",
              "    .colab-df-buttons div {\n",
              "      margin-bottom: 4px;\n",
              "    }\n",
              "\n",
              "    [theme=dark] .colab-df-convert {\n",
              "      background-color: #3B4455;\n",
              "      fill: #D2E3FC;\n",
              "    }\n",
              "\n",
              "    [theme=dark] .colab-df-convert:hover {\n",
              "      background-color: #434B5C;\n",
              "      box-shadow: 0px 1px 3px 1px rgba(0, 0, 0, 0.15);\n",
              "      filter: drop-shadow(0px 1px 2px rgba(0, 0, 0, 0.3));\n",
              "      fill: #FFFFFF;\n",
              "    }\n",
              "  </style>\n",
              "\n",
              "    <script>\n",
              "      const buttonEl =\n",
              "        document.querySelector('#df-3dbcb340-5169-4656-acb4-9312e59871d0 button.colab-df-convert');\n",
              "      buttonEl.style.display =\n",
              "        google.colab.kernel.accessAllowed ? 'block' : 'none';\n",
              "\n",
              "      async function convertToInteractive(key) {\n",
              "        const element = document.querySelector('#df-3dbcb340-5169-4656-acb4-9312e59871d0');\n",
              "        const dataTable =\n",
              "          await google.colab.kernel.invokeFunction('convertToInteractive',\n",
              "                                                    [key], {});\n",
              "        if (!dataTable) return;\n",
              "\n",
              "        const docLinkHtml = 'Like what you see? Visit the ' +\n",
              "          '<a target=\"_blank\" href=https://colab.research.google.com/notebooks/data_table.ipynb>data table notebook</a>'\n",
              "          + ' to learn more about interactive tables.';\n",
              "        element.innerHTML = '';\n",
              "        dataTable['output_type'] = 'display_data';\n",
              "        await google.colab.output.renderOutput(dataTable, element);\n",
              "        const docLink = document.createElement('div');\n",
              "        docLink.innerHTML = docLinkHtml;\n",
              "        element.appendChild(docLink);\n",
              "      }\n",
              "    </script>\n",
              "  </div>\n",
              "\n",
              "\n",
              "<div id=\"df-d72c00ce-7463-41ff-9e0f-78ad04c85b28\">\n",
              "  <button class=\"colab-df-quickchart\" onclick=\"quickchart('df-d72c00ce-7463-41ff-9e0f-78ad04c85b28')\"\n",
              "            title=\"Suggest charts.\"\n",
              "            style=\"display:none;\">\n",
              "\n",
              "<svg xmlns=\"http://www.w3.org/2000/svg\" height=\"24px\"viewBox=\"0 0 24 24\"\n",
              "     width=\"24px\">\n",
              "    <g>\n",
              "        <path d=\"M19 3H5c-1.1 0-2 .9-2 2v14c0 1.1.9 2 2 2h14c1.1 0 2-.9 2-2V5c0-1.1-.9-2-2-2zM9 17H7v-7h2v7zm4 0h-2V7h2v10zm4 0h-2v-4h2v4z\"/>\n",
              "    </g>\n",
              "</svg>\n",
              "  </button>\n",
              "\n",
              "<style>\n",
              "  .colab-df-quickchart {\n",
              "      --bg-color: #E8F0FE;\n",
              "      --fill-color: #1967D2;\n",
              "      --hover-bg-color: #E2EBFA;\n",
              "      --hover-fill-color: #174EA6;\n",
              "      --disabled-fill-color: #AAA;\n",
              "      --disabled-bg-color: #DDD;\n",
              "  }\n",
              "\n",
              "  [theme=dark] .colab-df-quickchart {\n",
              "      --bg-color: #3B4455;\n",
              "      --fill-color: #D2E3FC;\n",
              "      --hover-bg-color: #434B5C;\n",
              "      --hover-fill-color: #FFFFFF;\n",
              "      --disabled-bg-color: #3B4455;\n",
              "      --disabled-fill-color: #666;\n",
              "  }\n",
              "\n",
              "  .colab-df-quickchart {\n",
              "    background-color: var(--bg-color);\n",
              "    border: none;\n",
              "    border-radius: 50%;\n",
              "    cursor: pointer;\n",
              "    display: none;\n",
              "    fill: var(--fill-color);\n",
              "    height: 32px;\n",
              "    padding: 0;\n",
              "    width: 32px;\n",
              "  }\n",
              "\n",
              "  .colab-df-quickchart:hover {\n",
              "    background-color: var(--hover-bg-color);\n",
              "    box-shadow: 0 1px 2px rgba(60, 64, 67, 0.3), 0 1px 3px 1px rgba(60, 64, 67, 0.15);\n",
              "    fill: var(--button-hover-fill-color);\n",
              "  }\n",
              "\n",
              "  .colab-df-quickchart-complete:disabled,\n",
              "  .colab-df-quickchart-complete:disabled:hover {\n",
              "    background-color: var(--disabled-bg-color);\n",
              "    fill: var(--disabled-fill-color);\n",
              "    box-shadow: none;\n",
              "  }\n",
              "\n",
              "  .colab-df-spinner {\n",
              "    border: 2px solid var(--fill-color);\n",
              "    border-color: transparent;\n",
              "    border-bottom-color: var(--fill-color);\n",
              "    animation:\n",
              "      spin 1s steps(1) infinite;\n",
              "  }\n",
              "\n",
              "  @keyframes spin {\n",
              "    0% {\n",
              "      border-color: transparent;\n",
              "      border-bottom-color: var(--fill-color);\n",
              "      border-left-color: var(--fill-color);\n",
              "    }\n",
              "    20% {\n",
              "      border-color: transparent;\n",
              "      border-left-color: var(--fill-color);\n",
              "      border-top-color: var(--fill-color);\n",
              "    }\n",
              "    30% {\n",
              "      border-color: transparent;\n",
              "      border-left-color: var(--fill-color);\n",
              "      border-top-color: var(--fill-color);\n",
              "      border-right-color: var(--fill-color);\n",
              "    }\n",
              "    40% {\n",
              "      border-color: transparent;\n",
              "      border-right-color: var(--fill-color);\n",
              "      border-top-color: var(--fill-color);\n",
              "    }\n",
              "    60% {\n",
              "      border-color: transparent;\n",
              "      border-right-color: var(--fill-color);\n",
              "    }\n",
              "    80% {\n",
              "      border-color: transparent;\n",
              "      border-right-color: var(--fill-color);\n",
              "      border-bottom-color: var(--fill-color);\n",
              "    }\n",
              "    90% {\n",
              "      border-color: transparent;\n",
              "      border-bottom-color: var(--fill-color);\n",
              "    }\n",
              "  }\n",
              "</style>\n",
              "\n",
              "  <script>\n",
              "    async function quickchart(key) {\n",
              "      const quickchartButtonEl =\n",
              "        document.querySelector('#' + key + ' button');\n",
              "      quickchartButtonEl.disabled = true;  // To prevent multiple clicks.\n",
              "      quickchartButtonEl.classList.add('colab-df-spinner');\n",
              "      try {\n",
              "        const charts = await google.colab.kernel.invokeFunction(\n",
              "            'suggestCharts', [key], {});\n",
              "      } catch (error) {\n",
              "        console.error('Error during call to suggestCharts:', error);\n",
              "      }\n",
              "      quickchartButtonEl.classList.remove('colab-df-spinner');\n",
              "      quickchartButtonEl.classList.add('colab-df-quickchart-complete');\n",
              "    }\n",
              "    (() => {\n",
              "      let quickchartButtonEl =\n",
              "        document.querySelector('#df-d72c00ce-7463-41ff-9e0f-78ad04c85b28 button');\n",
              "      quickchartButtonEl.style.display =\n",
              "        google.colab.kernel.accessAllowed ? 'block' : 'none';\n",
              "    })();\n",
              "  </script>\n",
              "</div>\n",
              "    </div>\n",
              "  </div>\n"
            ]
          },
          "metadata": {},
          "execution_count": 43
        }
      ]
    },
    {
      "cell_type": "markdown",
      "source": [
        "Are there nulls?"
      ],
      "metadata": {
        "id": "Meb5cE1jHQNU"
      }
    },
    {
      "cell_type": "code",
      "source": [
        "X_train.info()"
      ],
      "metadata": {
        "execution": {
          "iopub.status.busy": "2023-10-31T09:31:47.303311Z",
          "iopub.execute_input": "2023-10-31T09:31:47.303787Z",
          "iopub.status.idle": "2023-10-31T09:31:47.329068Z",
          "shell.execute_reply.started": "2023-10-31T09:31:47.303752Z",
          "shell.execute_reply": "2023-10-31T09:31:47.327597Z"
        },
        "trusted": true,
        "colab": {
          "base_uri": "https://localhost:8080/"
        },
        "id": "2zYXGPwPHQNU",
        "outputId": "ebe066bd-8595-47fc-e1dd-75d4eca1ad29"
      },
      "execution_count": 44,
      "outputs": [
        {
          "output_type": "stream",
          "name": "stdout",
          "text": [
            "<class 'pandas.core.frame.DataFrame'>\n",
            "RangeIndex: 5282 entries, 0 to 5281\n",
            "Data columns (total 20 columns):\n",
            " #   Column                    Non-Null Count  Dtype  \n",
            "---  ------                    --------------  -----  \n",
            " 0   ClientPeriod              5282 non-null   int64  \n",
            " 1   MonthlySpending           5282 non-null   float64\n",
            " 2   TotalSpent                5282 non-null   object \n",
            " 3   Sex                       5282 non-null   object \n",
            " 4   IsSeniorCitizen           5282 non-null   int64  \n",
            " 5   HasPartner                5282 non-null   object \n",
            " 6   HasChild                  5282 non-null   object \n",
            " 7   HasPhoneService           5282 non-null   object \n",
            " 8   HasMultiplePhoneNumbers   5282 non-null   object \n",
            " 9   HasInternetService        5282 non-null   object \n",
            " 10  HasOnlineSecurityService  5282 non-null   object \n",
            " 11  HasOnlineBackup           5282 non-null   object \n",
            " 12  HasDeviceProtection       5282 non-null   object \n",
            " 13  HasTechSupportAccess      5282 non-null   object \n",
            " 14  HasOnlineTV               5282 non-null   object \n",
            " 15  HasMovieSubscription      5282 non-null   object \n",
            " 16  HasContractPhone          5282 non-null   object \n",
            " 17  IsBillingPaperless        5282 non-null   object \n",
            " 18  PaymentMethod             5282 non-null   object \n",
            " 19  Churn                     5282 non-null   int64  \n",
            "dtypes: float64(1), int64(3), object(16)\n",
            "memory usage: 825.4+ KB\n"
          ]
        }
      ]
    },
    {
      "cell_type": "code",
      "source": [
        "X_train.isna().sum()"
      ],
      "metadata": {
        "execution": {
          "iopub.status.busy": "2023-10-31T09:31:47.330424Z",
          "iopub.execute_input": "2023-10-31T09:31:47.330811Z",
          "iopub.status.idle": "2023-10-31T09:31:47.350253Z",
          "shell.execute_reply.started": "2023-10-31T09:31:47.330779Z",
          "shell.execute_reply": "2023-10-31T09:31:47.349025Z"
        },
        "trusted": true,
        "colab": {
          "base_uri": "https://localhost:8080/"
        },
        "id": "vWmEyobcHQNU",
        "outputId": "e99af718-fe53-4cb1-ae9f-df9f89e0446e"
      },
      "execution_count": 45,
      "outputs": [
        {
          "output_type": "execute_result",
          "data": {
            "text/plain": [
              "ClientPeriod                0\n",
              "MonthlySpending             0\n",
              "TotalSpent                  0\n",
              "Sex                         0\n",
              "IsSeniorCitizen             0\n",
              "HasPartner                  0\n",
              "HasChild                    0\n",
              "HasPhoneService             0\n",
              "HasMultiplePhoneNumbers     0\n",
              "HasInternetService          0\n",
              "HasOnlineSecurityService    0\n",
              "HasOnlineBackup             0\n",
              "HasDeviceProtection         0\n",
              "HasTechSupportAccess        0\n",
              "HasOnlineTV                 0\n",
              "HasMovieSubscription        0\n",
              "HasContractPhone            0\n",
              "IsBillingPaperless          0\n",
              "PaymentMethod               0\n",
              "Churn                       0\n",
              "dtype: int64"
            ]
          },
          "metadata": {},
          "execution_count": 45
        }
      ]
    },
    {
      "cell_type": "markdown",
      "source": [
        "Delete duplicates:"
      ],
      "metadata": {
        "id": "u2x9aL2-IQ4Y"
      }
    },
    {
      "cell_type": "code",
      "source": [
        "X_train.duplicated().sum()"
      ],
      "metadata": {
        "execution": {
          "iopub.status.busy": "2023-10-31T09:31:47.352291Z",
          "iopub.execute_input": "2023-10-31T09:31:47.352909Z",
          "iopub.status.idle": "2023-10-31T09:31:47.373620Z",
          "shell.execute_reply.started": "2023-10-31T09:31:47.352874Z",
          "shell.execute_reply": "2023-10-31T09:31:47.372263Z"
        },
        "trusted": true,
        "colab": {
          "base_uri": "https://localhost:8080/"
        },
        "id": "nwFrP-f6HQNV",
        "outputId": "eadfe952-b975-4b92-8c36-79c83bff37e5"
      },
      "execution_count": 46,
      "outputs": [
        {
          "output_type": "execute_result",
          "data": {
            "text/plain": [
              "14"
            ]
          },
          "metadata": {},
          "execution_count": 46
        }
      ]
    },
    {
      "cell_type": "code",
      "source": [
        "X_train = X_train.drop_duplicates()"
      ],
      "metadata": {
        "execution": {
          "iopub.status.busy": "2023-10-31T09:31:47.376532Z",
          "iopub.execute_input": "2023-10-31T09:31:47.376979Z",
          "iopub.status.idle": "2023-10-31T09:31:47.396844Z",
          "shell.execute_reply.started": "2023-10-31T09:31:47.376945Z",
          "shell.execute_reply": "2023-10-31T09:31:47.395245Z"
        },
        "trusted": true,
        "id": "AMHJKxd2HQNV"
      },
      "execution_count": 47,
      "outputs": []
    },
    {
      "cell_type": "code",
      "source": [
        "X_train.info()"
      ],
      "metadata": {
        "execution": {
          "iopub.status.busy": "2023-10-31T09:31:47.398435Z",
          "iopub.execute_input": "2023-10-31T09:31:47.399058Z",
          "iopub.status.idle": "2023-10-31T09:31:47.425033Z",
          "shell.execute_reply.started": "2023-10-31T09:31:47.399022Z",
          "shell.execute_reply": "2023-10-31T09:31:47.422244Z"
        },
        "trusted": true,
        "colab": {
          "base_uri": "https://localhost:8080/"
        },
        "id": "LSFCKE19HQNV",
        "outputId": "ebd67626-c573-4575-e4a9-225645c6f2a0"
      },
      "execution_count": 48,
      "outputs": [
        {
          "output_type": "stream",
          "name": "stdout",
          "text": [
            "<class 'pandas.core.frame.DataFrame'>\n",
            "Int64Index: 5268 entries, 0 to 5281\n",
            "Data columns (total 20 columns):\n",
            " #   Column                    Non-Null Count  Dtype  \n",
            "---  ------                    --------------  -----  \n",
            " 0   ClientPeriod              5268 non-null   int64  \n",
            " 1   MonthlySpending           5268 non-null   float64\n",
            " 2   TotalSpent                5268 non-null   object \n",
            " 3   Sex                       5268 non-null   object \n",
            " 4   IsSeniorCitizen           5268 non-null   int64  \n",
            " 5   HasPartner                5268 non-null   object \n",
            " 6   HasChild                  5268 non-null   object \n",
            " 7   HasPhoneService           5268 non-null   object \n",
            " 8   HasMultiplePhoneNumbers   5268 non-null   object \n",
            " 9   HasInternetService        5268 non-null   object \n",
            " 10  HasOnlineSecurityService  5268 non-null   object \n",
            " 11  HasOnlineBackup           5268 non-null   object \n",
            " 12  HasDeviceProtection       5268 non-null   object \n",
            " 13  HasTechSupportAccess      5268 non-null   object \n",
            " 14  HasOnlineTV               5268 non-null   object \n",
            " 15  HasMovieSubscription      5268 non-null   object \n",
            " 16  HasContractPhone          5268 non-null   object \n",
            " 17  IsBillingPaperless        5268 non-null   object \n",
            " 18  PaymentMethod             5268 non-null   object \n",
            " 19  Churn                     5268 non-null   int64  \n",
            "dtypes: float64(1), int64(3), object(16)\n",
            "memory usage: 864.3+ KB\n"
          ]
        }
      ]
    },
    {
      "cell_type": "markdown",
      "source": [
        "## Data cleaning and preparation"
      ],
      "metadata": {
        "id": "DN5hXpjgHQNV"
      }
    },
    {
      "cell_type": "code",
      "source": [
        "X_train.nunique()"
      ],
      "metadata": {
        "execution": {
          "iopub.status.busy": "2023-10-31T09:31:47.426864Z",
          "iopub.execute_input": "2023-10-31T09:31:47.427346Z",
          "iopub.status.idle": "2023-10-31T09:31:47.450709Z",
          "shell.execute_reply.started": "2023-10-31T09:31:47.427301Z",
          "shell.execute_reply": "2023-10-31T09:31:47.449570Z"
        },
        "trusted": true,
        "colab": {
          "base_uri": "https://localhost:8080/"
        },
        "id": "osDpuD4BHQNW",
        "outputId": "2906ecd7-6ea1-4371-d4b3-8934a270d574"
      },
      "execution_count": 49,
      "outputs": [
        {
          "output_type": "execute_result",
          "data": {
            "text/plain": [
              "ClientPeriod                  73\n",
              "MonthlySpending             1468\n",
              "TotalSpent                  4978\n",
              "Sex                            2\n",
              "IsSeniorCitizen                2\n",
              "HasPartner                     2\n",
              "HasChild                       2\n",
              "HasPhoneService                2\n",
              "HasMultiplePhoneNumbers        3\n",
              "HasInternetService             3\n",
              "HasOnlineSecurityService       3\n",
              "HasOnlineBackup                3\n",
              "HasDeviceProtection            3\n",
              "HasTechSupportAccess           3\n",
              "HasOnlineTV                    3\n",
              "HasMovieSubscription           3\n",
              "HasContractPhone               3\n",
              "IsBillingPaperless             2\n",
              "PaymentMethod                  4\n",
              "Churn                          2\n",
              "dtype: int64"
            ]
          },
          "metadata": {},
          "execution_count": 49
        }
      ]
    },
    {
      "cell_type": "code",
      "source": [
        "num_cols = [\n",
        "    'ClientPeriod',\n",
        "    'MonthlySpending',\n",
        "    'IsSeniorCitizen',\n",
        "    'TotalSpent'\n",
        "]\n",
        "\n",
        "cat_cols = [\n",
        "    'Sex',\n",
        "    'HasPartner',\n",
        "    'HasChild',\n",
        "    'HasPhoneService',\n",
        "    'HasMultiplePhoneNumbers',\n",
        "    'HasInternetService',\n",
        "    'HasOnlineSecurityService',\n",
        "    'HasOnlineBackup',\n",
        "    'HasDeviceProtection',\n",
        "    'HasTechSupportAccess',\n",
        "    'HasOnlineTV',\n",
        "    'HasMovieSubscription',\n",
        "    'HasContractPhone',\n",
        "    'IsBillingPaperless',\n",
        "    'PaymentMethod',\n",
        "]\n",
        "\n",
        "feature_cols = num_cols + cat_cols\n",
        "target_col = 'Churn'\n",
        "\n",
        "\n",
        "X_train['TotalSpent'] = pd.to_numeric(X_train['TotalSpent'], errors='coerce')\n",
        "X_test['TotalSpent'] = pd.to_numeric(X_test['TotalSpent'], errors='coerce')\n",
        "X_train['TotalSpent'] = X_train['TotalSpent'].fillna(X_train['TotalSpent'].mean())\n",
        "X_test['TotalSpent'] = X_test['TotalSpent'].fillna(X_test['TotalSpent'].mean())\n"
      ],
      "metadata": {
        "execution": {
          "iopub.status.busy": "2023-10-31T09:31:47.452271Z",
          "iopub.execute_input": "2023-10-31T09:31:47.452627Z",
          "iopub.status.idle": "2023-10-31T09:31:47.470682Z",
          "shell.execute_reply.started": "2023-10-31T09:31:47.452595Z",
          "shell.execute_reply": "2023-10-31T09:31:47.469699Z"
        },
        "trusted": true,
        "colab": {
          "base_uri": "https://localhost:8080/"
        },
        "id": "Sdz5Utr6HQNW",
        "outputId": "92d5446d-a613-4b80-fb30-ffce27930e02"
      },
      "execution_count": 50,
      "outputs": [
        {
          "output_type": "stream",
          "name": "stderr",
          "text": [
            "<ipython-input-50-891f68509913>:30: SettingWithCopyWarning: \n",
            "A value is trying to be set on a copy of a slice from a DataFrame.\n",
            "Try using .loc[row_indexer,col_indexer] = value instead\n",
            "\n",
            "See the caveats in the documentation: https://pandas.pydata.org/pandas-docs/stable/user_guide/indexing.html#returning-a-view-versus-a-copy\n",
            "  X_train['TotalSpent'] = pd.to_numeric(X_train['TotalSpent'], errors='coerce')\n",
            "<ipython-input-50-891f68509913>:32: SettingWithCopyWarning: \n",
            "A value is trying to be set on a copy of a slice from a DataFrame.\n",
            "Try using .loc[row_indexer,col_indexer] = value instead\n",
            "\n",
            "See the caveats in the documentation: https://pandas.pydata.org/pandas-docs/stable/user_guide/indexing.html#returning-a-view-versus-a-copy\n",
            "  X_train['TotalSpent'] = X_train['TotalSpent'].fillna(X_train['TotalSpent'].mean())\n"
          ]
        }
      ]
    },
    {
      "cell_type": "code",
      "source": [
        "X_train.info()"
      ],
      "metadata": {
        "execution": {
          "iopub.status.busy": "2023-10-31T09:31:47.472127Z",
          "iopub.execute_input": "2023-10-31T09:31:47.473185Z",
          "iopub.status.idle": "2023-10-31T09:31:47.505863Z",
          "shell.execute_reply.started": "2023-10-31T09:31:47.473142Z",
          "shell.execute_reply": "2023-10-31T09:31:47.504818Z"
        },
        "trusted": true,
        "colab": {
          "base_uri": "https://localhost:8080/"
        },
        "id": "TiOUm0m9HQNW",
        "outputId": "ee13e00c-788d-4f05-9b31-18ac813159d9"
      },
      "execution_count": 51,
      "outputs": [
        {
          "output_type": "stream",
          "name": "stdout",
          "text": [
            "<class 'pandas.core.frame.DataFrame'>\n",
            "Int64Index: 5268 entries, 0 to 5281\n",
            "Data columns (total 20 columns):\n",
            " #   Column                    Non-Null Count  Dtype  \n",
            "---  ------                    --------------  -----  \n",
            " 0   ClientPeriod              5268 non-null   int64  \n",
            " 1   MonthlySpending           5268 non-null   float64\n",
            " 2   TotalSpent                5268 non-null   float64\n",
            " 3   Sex                       5268 non-null   object \n",
            " 4   IsSeniorCitizen           5268 non-null   int64  \n",
            " 5   HasPartner                5268 non-null   object \n",
            " 6   HasChild                  5268 non-null   object \n",
            " 7   HasPhoneService           5268 non-null   object \n",
            " 8   HasMultiplePhoneNumbers   5268 non-null   object \n",
            " 9   HasInternetService        5268 non-null   object \n",
            " 10  HasOnlineSecurityService  5268 non-null   object \n",
            " 11  HasOnlineBackup           5268 non-null   object \n",
            " 12  HasDeviceProtection       5268 non-null   object \n",
            " 13  HasTechSupportAccess      5268 non-null   object \n",
            " 14  HasOnlineTV               5268 non-null   object \n",
            " 15  HasMovieSubscription      5268 non-null   object \n",
            " 16  HasContractPhone          5268 non-null   object \n",
            " 17  IsBillingPaperless        5268 non-null   object \n",
            " 18  PaymentMethod             5268 non-null   object \n",
            " 19  Churn                     5268 non-null   int64  \n",
            "dtypes: float64(2), int64(3), object(15)\n",
            "memory usage: 864.3+ KB\n"
          ]
        }
      ]
    },
    {
      "cell_type": "code",
      "source": [
        "X_train.describe().round()"
      ],
      "metadata": {
        "execution": {
          "iopub.status.busy": "2023-10-31T09:31:47.507154Z",
          "iopub.execute_input": "2023-10-31T09:31:47.507497Z",
          "iopub.status.idle": "2023-10-31T09:31:47.539667Z",
          "shell.execute_reply.started": "2023-10-31T09:31:47.507466Z",
          "shell.execute_reply": "2023-10-31T09:31:47.538591Z"
        },
        "trusted": true,
        "colab": {
          "base_uri": "https://localhost:8080/",
          "height": 300
        },
        "id": "GPs4dqbSHQNW",
        "outputId": "5d0c3be4-e59e-4e29-ffdd-2e91a614f8d1"
      },
      "execution_count": 52,
      "outputs": [
        {
          "output_type": "execute_result",
          "data": {
            "text/plain": [
              "       ClientPeriod  MonthlySpending  TotalSpent  IsSeniorCitizen   Churn\n",
              "count        5268.0           5268.0      5268.0           5268.0  5268.0\n",
              "mean           32.0             65.0      2297.0              0.0     0.0\n",
              "std            25.0             30.0      2267.0              0.0     0.0\n",
              "min             0.0             18.0        19.0              0.0     0.0\n",
              "25%             9.0             36.0       405.0              0.0     0.0\n",
              "50%            29.0             70.0      1419.0              0.0     0.0\n",
              "75%            55.0             90.0      3809.0              0.0     1.0\n",
              "max            72.0            119.0      8685.0              1.0     1.0"
            ],
            "text/html": [
              "\n",
              "  <div id=\"df-91512e4a-c82e-41bf-ac39-d8aad66505d0\" class=\"colab-df-container\">\n",
              "    <div>\n",
              "<style scoped>\n",
              "    .dataframe tbody tr th:only-of-type {\n",
              "        vertical-align: middle;\n",
              "    }\n",
              "\n",
              "    .dataframe tbody tr th {\n",
              "        vertical-align: top;\n",
              "    }\n",
              "\n",
              "    .dataframe thead th {\n",
              "        text-align: right;\n",
              "    }\n",
              "</style>\n",
              "<table border=\"1\" class=\"dataframe\">\n",
              "  <thead>\n",
              "    <tr style=\"text-align: right;\">\n",
              "      <th></th>\n",
              "      <th>ClientPeriod</th>\n",
              "      <th>MonthlySpending</th>\n",
              "      <th>TotalSpent</th>\n",
              "      <th>IsSeniorCitizen</th>\n",
              "      <th>Churn</th>\n",
              "    </tr>\n",
              "  </thead>\n",
              "  <tbody>\n",
              "    <tr>\n",
              "      <th>count</th>\n",
              "      <td>5268.0</td>\n",
              "      <td>5268.0</td>\n",
              "      <td>5268.0</td>\n",
              "      <td>5268.0</td>\n",
              "      <td>5268.0</td>\n",
              "    </tr>\n",
              "    <tr>\n",
              "      <th>mean</th>\n",
              "      <td>32.0</td>\n",
              "      <td>65.0</td>\n",
              "      <td>2297.0</td>\n",
              "      <td>0.0</td>\n",
              "      <td>0.0</td>\n",
              "    </tr>\n",
              "    <tr>\n",
              "      <th>std</th>\n",
              "      <td>25.0</td>\n",
              "      <td>30.0</td>\n",
              "      <td>2267.0</td>\n",
              "      <td>0.0</td>\n",
              "      <td>0.0</td>\n",
              "    </tr>\n",
              "    <tr>\n",
              "      <th>min</th>\n",
              "      <td>0.0</td>\n",
              "      <td>18.0</td>\n",
              "      <td>19.0</td>\n",
              "      <td>0.0</td>\n",
              "      <td>0.0</td>\n",
              "    </tr>\n",
              "    <tr>\n",
              "      <th>25%</th>\n",
              "      <td>9.0</td>\n",
              "      <td>36.0</td>\n",
              "      <td>405.0</td>\n",
              "      <td>0.0</td>\n",
              "      <td>0.0</td>\n",
              "    </tr>\n",
              "    <tr>\n",
              "      <th>50%</th>\n",
              "      <td>29.0</td>\n",
              "      <td>70.0</td>\n",
              "      <td>1419.0</td>\n",
              "      <td>0.0</td>\n",
              "      <td>0.0</td>\n",
              "    </tr>\n",
              "    <tr>\n",
              "      <th>75%</th>\n",
              "      <td>55.0</td>\n",
              "      <td>90.0</td>\n",
              "      <td>3809.0</td>\n",
              "      <td>0.0</td>\n",
              "      <td>1.0</td>\n",
              "    </tr>\n",
              "    <tr>\n",
              "      <th>max</th>\n",
              "      <td>72.0</td>\n",
              "      <td>119.0</td>\n",
              "      <td>8685.0</td>\n",
              "      <td>1.0</td>\n",
              "      <td>1.0</td>\n",
              "    </tr>\n",
              "  </tbody>\n",
              "</table>\n",
              "</div>\n",
              "    <div class=\"colab-df-buttons\">\n",
              "\n",
              "  <div class=\"colab-df-container\">\n",
              "    <button class=\"colab-df-convert\" onclick=\"convertToInteractive('df-91512e4a-c82e-41bf-ac39-d8aad66505d0')\"\n",
              "            title=\"Convert this dataframe to an interactive table.\"\n",
              "            style=\"display:none;\">\n",
              "\n",
              "  <svg xmlns=\"http://www.w3.org/2000/svg\" height=\"24px\" viewBox=\"0 -960 960 960\">\n",
              "    <path d=\"M120-120v-720h720v720H120Zm60-500h600v-160H180v160Zm220 220h160v-160H400v160Zm0 220h160v-160H400v160ZM180-400h160v-160H180v160Zm440 0h160v-160H620v160ZM180-180h160v-160H180v160Zm440 0h160v-160H620v160Z\"/>\n",
              "  </svg>\n",
              "    </button>\n",
              "\n",
              "  <style>\n",
              "    .colab-df-container {\n",
              "      display:flex;\n",
              "      gap: 12px;\n",
              "    }\n",
              "\n",
              "    .colab-df-convert {\n",
              "      background-color: #E8F0FE;\n",
              "      border: none;\n",
              "      border-radius: 50%;\n",
              "      cursor: pointer;\n",
              "      display: none;\n",
              "      fill: #1967D2;\n",
              "      height: 32px;\n",
              "      padding: 0 0 0 0;\n",
              "      width: 32px;\n",
              "    }\n",
              "\n",
              "    .colab-df-convert:hover {\n",
              "      background-color: #E2EBFA;\n",
              "      box-shadow: 0px 1px 2px rgba(60, 64, 67, 0.3), 0px 1px 3px 1px rgba(60, 64, 67, 0.15);\n",
              "      fill: #174EA6;\n",
              "    }\n",
              "\n",
              "    .colab-df-buttons div {\n",
              "      margin-bottom: 4px;\n",
              "    }\n",
              "\n",
              "    [theme=dark] .colab-df-convert {\n",
              "      background-color: #3B4455;\n",
              "      fill: #D2E3FC;\n",
              "    }\n",
              "\n",
              "    [theme=dark] .colab-df-convert:hover {\n",
              "      background-color: #434B5C;\n",
              "      box-shadow: 0px 1px 3px 1px rgba(0, 0, 0, 0.15);\n",
              "      filter: drop-shadow(0px 1px 2px rgba(0, 0, 0, 0.3));\n",
              "      fill: #FFFFFF;\n",
              "    }\n",
              "  </style>\n",
              "\n",
              "    <script>\n",
              "      const buttonEl =\n",
              "        document.querySelector('#df-91512e4a-c82e-41bf-ac39-d8aad66505d0 button.colab-df-convert');\n",
              "      buttonEl.style.display =\n",
              "        google.colab.kernel.accessAllowed ? 'block' : 'none';\n",
              "\n",
              "      async function convertToInteractive(key) {\n",
              "        const element = document.querySelector('#df-91512e4a-c82e-41bf-ac39-d8aad66505d0');\n",
              "        const dataTable =\n",
              "          await google.colab.kernel.invokeFunction('convertToInteractive',\n",
              "                                                    [key], {});\n",
              "        if (!dataTable) return;\n",
              "\n",
              "        const docLinkHtml = 'Like what you see? Visit the ' +\n",
              "          '<a target=\"_blank\" href=https://colab.research.google.com/notebooks/data_table.ipynb>data table notebook</a>'\n",
              "          + ' to learn more about interactive tables.';\n",
              "        element.innerHTML = '';\n",
              "        dataTable['output_type'] = 'display_data';\n",
              "        await google.colab.output.renderOutput(dataTable, element);\n",
              "        const docLink = document.createElement('div');\n",
              "        docLink.innerHTML = docLinkHtml;\n",
              "        element.appendChild(docLink);\n",
              "      }\n",
              "    </script>\n",
              "  </div>\n",
              "\n",
              "\n",
              "<div id=\"df-2664747b-75c3-45a3-abbd-d698d1ca2fff\">\n",
              "  <button class=\"colab-df-quickchart\" onclick=\"quickchart('df-2664747b-75c3-45a3-abbd-d698d1ca2fff')\"\n",
              "            title=\"Suggest charts.\"\n",
              "            style=\"display:none;\">\n",
              "\n",
              "<svg xmlns=\"http://www.w3.org/2000/svg\" height=\"24px\"viewBox=\"0 0 24 24\"\n",
              "     width=\"24px\">\n",
              "    <g>\n",
              "        <path d=\"M19 3H5c-1.1 0-2 .9-2 2v14c0 1.1.9 2 2 2h14c1.1 0 2-.9 2-2V5c0-1.1-.9-2-2-2zM9 17H7v-7h2v7zm4 0h-2V7h2v10zm4 0h-2v-4h2v4z\"/>\n",
              "    </g>\n",
              "</svg>\n",
              "  </button>\n",
              "\n",
              "<style>\n",
              "  .colab-df-quickchart {\n",
              "      --bg-color: #E8F0FE;\n",
              "      --fill-color: #1967D2;\n",
              "      --hover-bg-color: #E2EBFA;\n",
              "      --hover-fill-color: #174EA6;\n",
              "      --disabled-fill-color: #AAA;\n",
              "      --disabled-bg-color: #DDD;\n",
              "  }\n",
              "\n",
              "  [theme=dark] .colab-df-quickchart {\n",
              "      --bg-color: #3B4455;\n",
              "      --fill-color: #D2E3FC;\n",
              "      --hover-bg-color: #434B5C;\n",
              "      --hover-fill-color: #FFFFFF;\n",
              "      --disabled-bg-color: #3B4455;\n",
              "      --disabled-fill-color: #666;\n",
              "  }\n",
              "\n",
              "  .colab-df-quickchart {\n",
              "    background-color: var(--bg-color);\n",
              "    border: none;\n",
              "    border-radius: 50%;\n",
              "    cursor: pointer;\n",
              "    display: none;\n",
              "    fill: var(--fill-color);\n",
              "    height: 32px;\n",
              "    padding: 0;\n",
              "    width: 32px;\n",
              "  }\n",
              "\n",
              "  .colab-df-quickchart:hover {\n",
              "    background-color: var(--hover-bg-color);\n",
              "    box-shadow: 0 1px 2px rgba(60, 64, 67, 0.3), 0 1px 3px 1px rgba(60, 64, 67, 0.15);\n",
              "    fill: var(--button-hover-fill-color);\n",
              "  }\n",
              "\n",
              "  .colab-df-quickchart-complete:disabled,\n",
              "  .colab-df-quickchart-complete:disabled:hover {\n",
              "    background-color: var(--disabled-bg-color);\n",
              "    fill: var(--disabled-fill-color);\n",
              "    box-shadow: none;\n",
              "  }\n",
              "\n",
              "  .colab-df-spinner {\n",
              "    border: 2px solid var(--fill-color);\n",
              "    border-color: transparent;\n",
              "    border-bottom-color: var(--fill-color);\n",
              "    animation:\n",
              "      spin 1s steps(1) infinite;\n",
              "  }\n",
              "\n",
              "  @keyframes spin {\n",
              "    0% {\n",
              "      border-color: transparent;\n",
              "      border-bottom-color: var(--fill-color);\n",
              "      border-left-color: var(--fill-color);\n",
              "    }\n",
              "    20% {\n",
              "      border-color: transparent;\n",
              "      border-left-color: var(--fill-color);\n",
              "      border-top-color: var(--fill-color);\n",
              "    }\n",
              "    30% {\n",
              "      border-color: transparent;\n",
              "      border-left-color: var(--fill-color);\n",
              "      border-top-color: var(--fill-color);\n",
              "      border-right-color: var(--fill-color);\n",
              "    }\n",
              "    40% {\n",
              "      border-color: transparent;\n",
              "      border-right-color: var(--fill-color);\n",
              "      border-top-color: var(--fill-color);\n",
              "    }\n",
              "    60% {\n",
              "      border-color: transparent;\n",
              "      border-right-color: var(--fill-color);\n",
              "    }\n",
              "    80% {\n",
              "      border-color: transparent;\n",
              "      border-right-color: var(--fill-color);\n",
              "      border-bottom-color: var(--fill-color);\n",
              "    }\n",
              "    90% {\n",
              "      border-color: transparent;\n",
              "      border-bottom-color: var(--fill-color);\n",
              "    }\n",
              "  }\n",
              "</style>\n",
              "\n",
              "  <script>\n",
              "    async function quickchart(key) {\n",
              "      const quickchartButtonEl =\n",
              "        document.querySelector('#' + key + ' button');\n",
              "      quickchartButtonEl.disabled = true;  // To prevent multiple clicks.\n",
              "      quickchartButtonEl.classList.add('colab-df-spinner');\n",
              "      try {\n",
              "        const charts = await google.colab.kernel.invokeFunction(\n",
              "            'suggestCharts', [key], {});\n",
              "      } catch (error) {\n",
              "        console.error('Error during call to suggestCharts:', error);\n",
              "      }\n",
              "      quickchartButtonEl.classList.remove('colab-df-spinner');\n",
              "      quickchartButtonEl.classList.add('colab-df-quickchart-complete');\n",
              "    }\n",
              "    (() => {\n",
              "      let quickchartButtonEl =\n",
              "        document.querySelector('#df-2664747b-75c3-45a3-abbd-d698d1ca2fff button');\n",
              "      quickchartButtonEl.style.display =\n",
              "        google.colab.kernel.accessAllowed ? 'block' : 'none';\n",
              "    })();\n",
              "  </script>\n",
              "</div>\n",
              "    </div>\n",
              "  </div>\n"
            ]
          },
          "metadata": {},
          "execution_count": 52
        }
      ]
    },
    {
      "cell_type": "code",
      "source": [
        "X_train[num_cols].corr().style.background_gradient(cmap='coolwarm')"
      ],
      "metadata": {
        "execution": {
          "iopub.status.busy": "2023-10-31T09:31:47.540946Z",
          "iopub.execute_input": "2023-10-31T09:31:47.541257Z",
          "iopub.status.idle": "2023-10-31T09:31:47.561768Z",
          "shell.execute_reply.started": "2023-10-31T09:31:47.541229Z",
          "shell.execute_reply": "2023-10-31T09:31:47.560581Z"
        },
        "trusted": true,
        "colab": {
          "base_uri": "https://localhost:8080/",
          "height": 175
        },
        "id": "SuOv_xXuHQNW",
        "outputId": "d26285dc-f885-4ef8-a140-134a2ecb51b8"
      },
      "execution_count": 53,
      "outputs": [
        {
          "output_type": "execute_result",
          "data": {
            "text/plain": [
              "<pandas.io.formats.style.Styler at 0x795cfb426560>"
            ],
            "text/html": [
              "<style type=\"text/css\">\n",
              "#T_8bd10_row0_col0, #T_8bd10_row1_col1, #T_8bd10_row2_col2, #T_8bd10_row3_col3 {\n",
              "  background-color: #b40426;\n",
              "  color: #f1f1f1;\n",
              "}\n",
              "#T_8bd10_row0_col1 {\n",
              "  background-color: #465ecf;\n",
              "  color: #f1f1f1;\n",
              "}\n",
              "#T_8bd10_row0_col2, #T_8bd10_row2_col0, #T_8bd10_row2_col1, #T_8bd10_row2_col3 {\n",
              "  background-color: #3b4cc0;\n",
              "  color: #f1f1f1;\n",
              "}\n",
              "#T_8bd10_row0_col3 {\n",
              "  background-color: #ec8165;\n",
              "  color: #f1f1f1;\n",
              "}\n",
              "#T_8bd10_row1_col0 {\n",
              "  background-color: #89acfd;\n",
              "  color: #000000;\n",
              "}\n",
              "#T_8bd10_row1_col2 {\n",
              "  background-color: #7da0f9;\n",
              "  color: #f1f1f1;\n",
              "}\n",
              "#T_8bd10_row1_col3 {\n",
              "  background-color: #f3c7b1;\n",
              "  color: #000000;\n",
              "}\n",
              "#T_8bd10_row3_col0 {\n",
              "  background-color: #e97a5f;\n",
              "  color: #f1f1f1;\n",
              "}\n",
              "#T_8bd10_row3_col1 {\n",
              "  background-color: #ead4c8;\n",
              "  color: #000000;\n",
              "}\n",
              "#T_8bd10_row3_col2 {\n",
              "  background-color: #5470de;\n",
              "  color: #f1f1f1;\n",
              "}\n",
              "</style>\n",
              "<table id=\"T_8bd10\" class=\"dataframe\">\n",
              "  <thead>\n",
              "    <tr>\n",
              "      <th class=\"blank level0\" >&nbsp;</th>\n",
              "      <th id=\"T_8bd10_level0_col0\" class=\"col_heading level0 col0\" >ClientPeriod</th>\n",
              "      <th id=\"T_8bd10_level0_col1\" class=\"col_heading level0 col1\" >MonthlySpending</th>\n",
              "      <th id=\"T_8bd10_level0_col2\" class=\"col_heading level0 col2\" >IsSeniorCitizen</th>\n",
              "      <th id=\"T_8bd10_level0_col3\" class=\"col_heading level0 col3\" >TotalSpent</th>\n",
              "    </tr>\n",
              "  </thead>\n",
              "  <tbody>\n",
              "    <tr>\n",
              "      <th id=\"T_8bd10_level0_row0\" class=\"row_heading level0 row0\" >ClientPeriod</th>\n",
              "      <td id=\"T_8bd10_row0_col0\" class=\"data row0 col0\" >1.000000</td>\n",
              "      <td id=\"T_8bd10_row0_col1\" class=\"data row0 col1\" >0.248047</td>\n",
              "      <td id=\"T_8bd10_row0_col2\" class=\"data row0 col2\" >0.010775</td>\n",
              "      <td id=\"T_8bd10_row0_col3\" class=\"data row0 col3\" >0.824598</td>\n",
              "    </tr>\n",
              "    <tr>\n",
              "      <th id=\"T_8bd10_level0_row1\" class=\"row_heading level0 row1\" >MonthlySpending</th>\n",
              "      <td id=\"T_8bd10_row1_col0\" class=\"data row1 col0\" >0.248047</td>\n",
              "      <td id=\"T_8bd10_row1_col1\" class=\"data row1 col1\" >1.000000</td>\n",
              "      <td id=\"T_8bd10_row1_col2\" class=\"data row1 col2\" >0.215061</td>\n",
              "      <td id=\"T_8bd10_row1_col3\" class=\"data row1 col3\" >0.651475</td>\n",
              "    </tr>\n",
              "    <tr>\n",
              "      <th id=\"T_8bd10_level0_row2\" class=\"row_heading level0 row2\" >IsSeniorCitizen</th>\n",
              "      <td id=\"T_8bd10_row2_col0\" class=\"data row2 col0\" >0.010775</td>\n",
              "      <td id=\"T_8bd10_row2_col1\" class=\"data row2 col1\" >0.215061</td>\n",
              "      <td id=\"T_8bd10_row2_col2\" class=\"data row2 col2\" >1.000000</td>\n",
              "      <td id=\"T_8bd10_row2_col3\" class=\"data row2 col3\" >0.093522</td>\n",
              "    </tr>\n",
              "    <tr>\n",
              "      <th id=\"T_8bd10_level0_row3\" class=\"row_heading level0 row3\" >TotalSpent</th>\n",
              "      <td id=\"T_8bd10_row3_col0\" class=\"data row3 col0\" >0.824598</td>\n",
              "      <td id=\"T_8bd10_row3_col1\" class=\"data row3 col1\" >0.651475</td>\n",
              "      <td id=\"T_8bd10_row3_col2\" class=\"data row3 col2\" >0.093522</td>\n",
              "      <td id=\"T_8bd10_row3_col3\" class=\"data row3 col3\" >1.000000</td>\n",
              "    </tr>\n",
              "  </tbody>\n",
              "</table>\n"
            ]
          },
          "metadata": {},
          "execution_count": 53
        }
      ]
    },
    {
      "cell_type": "code",
      "source": [
        "X_train[cat_cols].nunique()"
      ],
      "metadata": {
        "execution": {
          "iopub.status.busy": "2023-10-31T09:31:47.570534Z",
          "iopub.execute_input": "2023-10-31T09:31:47.570825Z",
          "iopub.status.idle": "2023-10-31T09:31:47.595148Z",
          "shell.execute_reply.started": "2023-10-31T09:31:47.570798Z",
          "shell.execute_reply": "2023-10-31T09:31:47.593977Z"
        },
        "trusted": true,
        "colab": {
          "base_uri": "https://localhost:8080/"
        },
        "id": "vVlbD6_fHQNW",
        "outputId": "e757193a-6a19-4697-fba4-589e60c2f31a"
      },
      "execution_count": 54,
      "outputs": [
        {
          "output_type": "execute_result",
          "data": {
            "text/plain": [
              "Sex                         2\n",
              "HasPartner                  2\n",
              "HasChild                    2\n",
              "HasPhoneService             2\n",
              "HasMultiplePhoneNumbers     3\n",
              "HasInternetService          3\n",
              "HasOnlineSecurityService    3\n",
              "HasOnlineBackup             3\n",
              "HasDeviceProtection         3\n",
              "HasTechSupportAccess        3\n",
              "HasOnlineTV                 3\n",
              "HasMovieSubscription        3\n",
              "HasContractPhone            3\n",
              "IsBillingPaperless          2\n",
              "PaymentMethod               4\n",
              "dtype: int64"
            ]
          },
          "metadata": {},
          "execution_count": 54
        }
      ]
    },
    {
      "cell_type": "code",
      "source": [
        "from sklearn.metrics import mutual_info_score\n",
        "def mutual_info_churn_score(series):\n",
        "    return mutual_info_score(series, X_train.Churn)\n",
        "mi = X_train[cat_cols].apply(mutual_info_churn_score)\n",
        "mi.sort_values(ascending=False)"
      ],
      "metadata": {
        "execution": {
          "iopub.status.busy": "2023-10-31T09:31:47.596433Z",
          "iopub.execute_input": "2023-10-31T09:31:47.596787Z",
          "iopub.status.idle": "2023-10-31T09:31:47.775536Z",
          "shell.execute_reply.started": "2023-10-31T09:31:47.596759Z",
          "shell.execute_reply": "2023-10-31T09:31:47.774422Z"
        },
        "trusted": true,
        "colab": {
          "base_uri": "https://localhost:8080/"
        },
        "id": "sIFDJ6SoHQNX",
        "outputId": "816d139c-17e1-43d3-82f2-5b2691b20569"
      },
      "execution_count": 55,
      "outputs": [
        {
          "output_type": "execute_result",
          "data": {
            "text/plain": [
              "HasContractPhone            0.097955\n",
              "HasOnlineSecurityService    0.067773\n",
              "HasTechSupportAccess        0.062849\n",
              "HasInternetService          0.053713\n",
              "HasOnlineBackup             0.047331\n",
              "HasDeviceProtection         0.044004\n",
              "PaymentMethod               0.043035\n",
              "HasMovieSubscription        0.032343\n",
              "HasOnlineTV                 0.031956\n",
              "IsBillingPaperless          0.019481\n",
              "HasChild                    0.014120\n",
              "HasPartner                  0.010809\n",
              "HasMultiplePhoneNumbers     0.000885\n",
              "HasPhoneService             0.000050\n",
              "Sex                         0.000033\n",
              "dtype: float64"
            ]
          },
          "metadata": {},
          "execution_count": 55
        }
      ]
    },
    {
      "cell_type": "markdown",
      "source": [
        "## Logistic Regression"
      ],
      "metadata": {
        "id": "PIoZWQ2rHQNX"
      }
    },
    {
      "cell_type": "code",
      "source": [
        "def train(df_train, y_train, C):\n",
        "    dicts = df_train.to_dict(orient='records')\n",
        "\n",
        "    dv = DictVectorizer(sparse=False)\n",
        "    X_train = dv.fit_transform(dicts)\n",
        "\n",
        "    model = LogisticRegression(C=C, max_iter=1000)\n",
        "    model.fit(X_train, y_train)\n",
        "\n",
        "    return dv, model"
      ],
      "metadata": {
        "execution": {
          "iopub.status.busy": "2023-10-31T09:31:47.776937Z",
          "iopub.execute_input": "2023-10-31T09:31:47.777282Z",
          "iopub.status.idle": "2023-10-31T09:31:47.783369Z",
          "shell.execute_reply.started": "2023-10-31T09:31:47.777251Z",
          "shell.execute_reply": "2023-10-31T09:31:47.782316Z"
        },
        "trusted": true,
        "id": "KlvPaUpUHQNX"
      },
      "execution_count": 56,
      "outputs": []
    },
    {
      "cell_type": "code",
      "source": [
        "def predict(df, dv, model):\n",
        "    dicts = df.to_dict(orient='records')\n",
        "    X = dv.transform(dicts)\n",
        "    y_pred = model.predict_proba(X)[:, 1]\n",
        "    return y_pred"
      ],
      "metadata": {
        "execution": {
          "iopub.status.busy": "2023-10-31T09:31:47.785443Z",
          "iopub.execute_input": "2023-10-31T09:31:47.785925Z",
          "iopub.status.idle": "2023-10-31T09:31:47.797832Z",
          "shell.execute_reply.started": "2023-10-31T09:31:47.785885Z",
          "shell.execute_reply": "2023-10-31T09:31:47.796606Z"
        },
        "trusted": true,
        "id": "qbJKAbg9HQNX"
      },
      "execution_count": 57,
      "outputs": []
    },
    {
      "cell_type": "code",
      "source": [
        "df_train, df_val = train_test_split(X_train, test_size=0.2, random_state=11)\n",
        "\n",
        "df_train = df_train.reset_index(drop=True)\n",
        "df_val = df_val.reset_index(drop=True)\n",
        "X_test = X_test.reset_index(drop=True)\n",
        "\n",
        "y_train = df_train.Churn\n",
        "y_val = df_val.Churn\n",
        "\n",
        "del df_train['Churn']\n",
        "del df_val['Churn']\n",
        "\n",
        "\n",
        "# for C in tqdm([0.001, 0.01, 0.1, 0.5, 1, 5, 10]):\n",
        "\n",
        "#     dv, model = train(df_train, y_train, C=C)\n",
        "#     y_pred = predict(df_train, dv, model)\n",
        "\n",
        "\n",
        "#     y_pred_v = predict(df_val, dv, model)\n",
        "#     auc = roc_auc_score( y_train, y_pred)\n",
        "#     auc_v = roc_auc_score( y_val, y_pred_v)\n",
        "#     print(C, auc, auc_v)"
      ],
      "metadata": {
        "execution": {
          "iopub.status.busy": "2023-10-31T09:31:47.799566Z",
          "iopub.execute_input": "2023-10-31T09:31:47.800008Z",
          "iopub.status.idle": "2023-10-31T09:31:47.819594Z",
          "shell.execute_reply.started": "2023-10-31T09:31:47.799976Z",
          "shell.execute_reply": "2023-10-31T09:31:47.818450Z"
        },
        "trusted": true,
        "id": "hXQ-jfm9HQNX"
      },
      "execution_count": 58,
      "outputs": []
    },
    {
      "cell_type": "code",
      "source": [
        "x_tr = X_train\n",
        "y_tr = X_train.Churn\n",
        "\n",
        "del x_tr['Churn']\n",
        "\n",
        "dv, model = train(x_tr, y_tr, C=1)\n",
        "y_pred = predict(x_tr, dv, model)\n"
      ],
      "metadata": {
        "execution": {
          "iopub.status.busy": "2023-10-31T09:31:47.821090Z",
          "iopub.execute_input": "2023-10-31T09:31:47.821496Z",
          "iopub.status.idle": "2023-10-31T09:31:47.829761Z",
          "shell.execute_reply.started": "2023-10-31T09:31:47.821455Z",
          "shell.execute_reply": "2023-10-31T09:31:47.828474Z"
        },
        "trusted": true,
        "id": "J0mYvtLbHQNX"
      },
      "execution_count": 59,
      "outputs": []
    },
    {
      "cell_type": "code",
      "source": [
        "\n",
        "dv, model = train(df_train, y_train, C=1)\n",
        "\n",
        "y_pred = predict(df_train, dv, model)\n",
        "y_pred_v = predict(df_val, dv, model)\n",
        "auc = roc_auc_score( y_train, y_pred)\n",
        "auc_v = roc_auc_score( y_val, y_pred_v)\n",
        "print(auc, auc_v)"
      ],
      "metadata": {
        "execution": {
          "iopub.status.busy": "2023-10-31T09:31:47.831256Z",
          "iopub.execute_input": "2023-10-31T09:31:47.831733Z",
          "iopub.status.idle": "2023-10-31T09:31:47.843091Z",
          "shell.execute_reply.started": "2023-10-31T09:31:47.831703Z",
          "shell.execute_reply": "2023-10-31T09:31:47.841675Z"
        },
        "trusted": true,
        "colab": {
          "base_uri": "https://localhost:8080/"
        },
        "id": "_S1hLbqnHQNX",
        "outputId": "ca880241-20a3-4d2b-85f6-7317fc4a0846"
      },
      "execution_count": 60,
      "outputs": [
        {
          "output_type": "stream",
          "name": "stdout",
          "text": [
            "0.8537228801508974 0.8225723959936542\n"
          ]
        }
      ]
    },
    {
      "cell_type": "markdown",
      "source": [
        "### ROC-AUC on test for contest: 0.84435"
      ],
      "metadata": {
        "id": "NO0KWaEeHQNX"
      }
    },
    {
      "cell_type": "markdown",
      "source": [
        "## DecisionTreeClassifier"
      ],
      "metadata": {
        "id": "0AzcHiT0HQNY"
      }
    },
    {
      "cell_type": "code",
      "source": [
        "from sklearn.tree import DecisionTreeClassifier\n",
        "from sklearn.feature_extraction import DictVectorizer\n",
        "from sklearn.metrics import roc_auc_score\n",
        "from sklearn.tree import export_text"
      ],
      "metadata": {
        "execution": {
          "iopub.status.busy": "2023-10-31T09:31:47.844426Z",
          "iopub.execute_input": "2023-10-31T09:31:47.845605Z",
          "iopub.status.idle": "2023-10-31T09:31:47.856158Z",
          "shell.execute_reply.started": "2023-10-31T09:31:47.845445Z",
          "shell.execute_reply": "2023-10-31T09:31:47.854736Z"
        },
        "trusted": true,
        "id": "-IGI4KRsHQNY"
      },
      "execution_count": 61,
      "outputs": []
    },
    {
      "cell_type": "code",
      "source": [
        "def train_tree(df_train, y_train, depth):\n",
        "    dicts = df_train.to_dict(orient='records')\n",
        "\n",
        "    dv = DictVectorizer(sparse=False)\n",
        "    X_train = dv.fit_transform(dicts)\n",
        "\n",
        "    dt = DecisionTreeClassifier(max_depth=depth)\n",
        "    dt.fit(X_train, y_train)\n",
        "\n",
        "    return dv, dt\n",
        "\n",
        "def predict_tree(df, dv, model):\n",
        "    dicts = df.to_dict(orient='records')\n",
        "    X = dv.transform(dicts)\n",
        "    y_pred = model.predict_proba(X)[:, 1]\n",
        "    return y_pred\n",
        "\n",
        "# for depth in tqdm([1, 2, 3, 4, 5, 6, 10, 15, 20, None]):\n",
        "\n",
        "#     dv, model = train_tree(df_train, y_train, depth)\n",
        "#     y_pred = predict_tree(df_train, dv, model)\n",
        "\n",
        "#     y_pred_v = predict_tree(df_val, dv, model)\n",
        "#     auc = roc_auc_score( y_train, y_pred)\n",
        "#     auc_v = roc_auc_score( y_val, y_pred_v)\n",
        "#     print(depth, auc, auc_v)"
      ],
      "metadata": {
        "execution": {
          "iopub.status.busy": "2023-10-31T09:31:47.857786Z",
          "iopub.execute_input": "2023-10-31T09:31:47.858156Z",
          "iopub.status.idle": "2023-10-31T09:31:47.869713Z",
          "shell.execute_reply.started": "2023-10-31T09:31:47.858125Z",
          "shell.execute_reply": "2023-10-31T09:31:47.868438Z"
        },
        "trusted": true,
        "id": "iMvEIJcEHQNY"
      },
      "execution_count": 62,
      "outputs": []
    },
    {
      "cell_type": "code",
      "source": [
        "def train_tree_l(df_train, y_train, depth, leaf):\n",
        "    dicts = df_train.to_dict(orient='records')\n",
        "\n",
        "    dv = DictVectorizer(sparse=False)\n",
        "    X_train = dv.fit_transform(dicts)\n",
        "\n",
        "    dt = DecisionTreeClassifier(max_depth=depth, min_samples_leaf=leaf)\n",
        "    dt.fit(X_train, y_train)\n",
        "\n",
        "    return dv, dt\n",
        "\n",
        "def predict_tree_l(df, dv, model):\n",
        "    dicts = df.to_dict(orient='records')\n",
        "    X = dv.transform(dicts)\n",
        "    y_pred = model.predict_proba(X)[:, 1]\n",
        "    return y_pred\n",
        "\n",
        "# scores = []\n",
        "\n",
        "# for depth in [4, 5, 6]:\n",
        "#     for s in [1, 5, 10, 15, 20, 500, 100, 200]:\n",
        "#         dv, model = train_tree_l(df_train, y_train, depth, s)\n",
        "#         y_pred = predict_tree_l(df_train, dv, model)\n",
        "\n",
        "#         y_pred_v = predict_tree_l(df_val, dv, model)\n",
        "#         auc = roc_auc_score( y_train, y_pred)\n",
        "#         auc_v = roc_auc_score( y_val, y_pred_v)\n",
        "#         scores.append((depth, s, auc, auc_v))"
      ],
      "metadata": {
        "execution": {
          "iopub.status.busy": "2023-10-31T09:31:47.871477Z",
          "iopub.execute_input": "2023-10-31T09:31:47.871927Z",
          "iopub.status.idle": "2023-10-31T09:31:47.885886Z",
          "shell.execute_reply.started": "2023-10-31T09:31:47.871894Z",
          "shell.execute_reply": "2023-10-31T09:31:47.884671Z"
        },
        "trusted": true,
        "id": "nnJGctfLHQNY"
      },
      "execution_count": 63,
      "outputs": []
    },
    {
      "cell_type": "code",
      "source": [
        "# columns = ['max_depth', 'min_samples_leaf', 'auc', 'auc_val']\n",
        "# df_scores = pd.DataFrame(scores, columns=columns)\n",
        "# df_scores_pivot = df_scores.pivot(index='min_samples_leaf', columns=['max_depth'], values=['auc_val'])\n",
        "# df_scores_pivot.round(3)"
      ],
      "metadata": {
        "execution": {
          "iopub.status.busy": "2023-10-31T09:31:47.887596Z",
          "iopub.execute_input": "2023-10-31T09:31:47.888198Z",
          "iopub.status.idle": "2023-10-31T09:31:47.902846Z",
          "shell.execute_reply.started": "2023-10-31T09:31:47.888161Z",
          "shell.execute_reply": "2023-10-31T09:31:47.901896Z"
        },
        "trusted": true,
        "id": "Nsh_KLWSHQNY"
      },
      "execution_count": 64,
      "outputs": []
    },
    {
      "cell_type": "code",
      "source": [
        "# sns.heatmap(df_scores_pivot, annot=True, fmt=\".3f\")"
      ],
      "metadata": {
        "execution": {
          "iopub.status.busy": "2023-10-31T09:31:47.904028Z",
          "iopub.execute_input": "2023-10-31T09:31:47.904989Z",
          "iopub.status.idle": "2023-10-31T09:31:47.912691Z",
          "shell.execute_reply.started": "2023-10-31T09:31:47.904916Z",
          "shell.execute_reply": "2023-10-31T09:31:47.911781Z"
        },
        "trusted": true,
        "id": "IqQoIzOTHQNY"
      },
      "execution_count": 65,
      "outputs": []
    },
    {
      "cell_type": "code",
      "source": [
        "dv, model = train_tree_l(df_train, y_train, 5, 15)\n",
        "y_pred = predict(df_train, dv, model)\n",
        "y_pred_v = predict(df_val, dv, model)\n",
        "auc = roc_auc_score( y_train, y_pred)\n",
        "auc_v = roc_auc_score( y_val, y_pred_v)\n",
        "print(auc, auc_v)\n",
        "\n"
      ],
      "metadata": {
        "execution": {
          "iopub.status.busy": "2023-10-31T09:31:47.913818Z",
          "iopub.execute_input": "2023-10-31T09:31:47.914745Z",
          "iopub.status.idle": "2023-10-31T09:31:47.924545Z",
          "shell.execute_reply.started": "2023-10-31T09:31:47.914713Z",
          "shell.execute_reply": "2023-10-31T09:31:47.923233Z"
        },
        "trusted": true,
        "colab": {
          "base_uri": "https://localhost:8080/"
        },
        "id": "ErwjwKN2HQNY",
        "outputId": "54abce29-4450-4347-cd42-7ff29231740e"
      },
      "execution_count": 66,
      "outputs": [
        {
          "output_type": "stream",
          "name": "stdout",
          "text": [
            "0.8566938198690418 0.8177160040726446\n"
          ]
        }
      ]
    },
    {
      "cell_type": "markdown",
      "source": [
        "### ROC-AUC on test for contest for decision tree: 0.84058\n"
      ],
      "metadata": {
        "id": "D6Lo-HZBHQNY"
      }
    },
    {
      "cell_type": "markdown",
      "source": [
        "## Random Forest Classifier"
      ],
      "metadata": {
        "id": "OWzd87TIHQNY"
      }
    },
    {
      "cell_type": "code",
      "source": [
        "from sklearn.ensemble import RandomForestClassifier"
      ],
      "metadata": {
        "execution": {
          "iopub.status.busy": "2023-10-31T09:31:47.925960Z",
          "iopub.execute_input": "2023-10-31T09:31:47.926576Z",
          "iopub.status.idle": "2023-10-31T09:31:47.934888Z",
          "shell.execute_reply.started": "2023-10-31T09:31:47.926534Z",
          "shell.execute_reply": "2023-10-31T09:31:47.933796Z"
        },
        "trusted": true,
        "id": "f6R0L8ibHQNZ"
      },
      "execution_count": 67,
      "outputs": []
    },
    {
      "cell_type": "code",
      "source": [
        "def train_randtree(df_train, y_train, estimators, d, leaf, feat, b):\n",
        "    dicts = df_train.to_dict(orient='records')\n",
        "\n",
        "    dv = DictVectorizer(sparse=False)\n",
        "    X_train = dv.fit_transform(dicts)\n",
        "\n",
        "    dt = RandomForestClassifier(max_features = feat,\n",
        "                                n_estimators=estimators,\n",
        "                                max_depth=d,\n",
        "                                min_samples_leaf=leaf,\n",
        "                                bootstrap = b,\n",
        "                                random_state=1)\n",
        "    dt.fit(X_train, y_train)\n",
        "\n",
        "    return dv, dt\n",
        "\n",
        "def predict_randtree(df, dv, model):\n",
        "    dicts = df.to_dict(orient='records')\n",
        "    X = dv.transform(dicts)\n",
        "    y_pred = model.predict_proba(X)[:, 1]\n",
        "    return y_pred\n",
        "\n",
        "scores = []\n",
        "\n",
        "for b in [True, False]:\n",
        "    dv, model = train_randtree(df_train, y_train, 50, 5, 10, 'sqrt',True)\n",
        "    y_pred = predict_randtree(df_train, dv, model)\n",
        "\n",
        "    y_pred_v = predict_randtree(df_val, dv, model)\n",
        "    auc = roc_auc_score( y_train, y_pred)\n",
        "    auc_v = roc_auc_score( y_val, y_pred_v)\n",
        "#     scores.append(( f, auc, auc_v))\n",
        "    print(( b, auc, auc_v))\n"
      ],
      "metadata": {
        "execution": {
          "iopub.status.busy": "2023-10-31T09:31:47.938608Z",
          "iopub.execute_input": "2023-10-31T09:31:47.939148Z",
          "iopub.status.idle": "2023-10-31T09:31:47.947604Z",
          "shell.execute_reply.started": "2023-10-31T09:31:47.939114Z",
          "shell.execute_reply": "2023-10-31T09:31:47.946347Z"
        },
        "trusted": true,
        "colab": {
          "base_uri": "https://localhost:8080/"
        },
        "id": "6NU9IG-kHQNZ",
        "outputId": "1a6097a2-fc20-48b2-952a-74b72ae8e8eb"
      },
      "execution_count": 68,
      "outputs": [
        {
          "output_type": "stream",
          "name": "stdout",
          "text": [
            "(True, 0.862451880324092, 0.829529041271044)\n",
            "(False, 0.862451880324092, 0.829529041271044)\n"
          ]
        }
      ]
    },
    {
      "cell_type": "code",
      "source": [
        "dv, model = train_randtree(x_tr, y_tr, 50, 5, 10, 'sqrt',True)\n",
        "submission = pd.read_csv('/content/submission.csv')\n",
        "submission['Churn'] = predict_randtree(X_test, dv, model)"
      ],
      "metadata": {
        "execution": {
          "iopub.status.busy": "2023-10-31T09:31:47.961225Z",
          "iopub.execute_input": "2023-10-31T09:31:47.962300Z",
          "iopub.status.idle": "2023-10-31T09:31:47.969840Z",
          "shell.execute_reply.started": "2023-10-31T09:31:47.962262Z",
          "shell.execute_reply": "2023-10-31T09:31:47.968892Z"
        },
        "trusted": true,
        "id": "P5wSCP3mHQNZ"
      },
      "execution_count": 69,
      "outputs": []
    },
    {
      "cell_type": "code",
      "source": [
        "dv, model = train_randtree(df_train, y_train, 50, 5, 10, 'sqrt',True)\n",
        "y_pred = predict(df_train, dv, model)\n",
        "y_pred_v = predict(df_val, dv, model)\n",
        "auc = roc_auc_score( y_train, y_pred)\n",
        "auc_v = roc_auc_score( y_val, y_pred_v)\n",
        "print(auc, auc_v)"
      ],
      "metadata": {
        "execution": {
          "iopub.status.busy": "2023-10-31T09:31:47.971275Z",
          "iopub.execute_input": "2023-10-31T09:31:47.971902Z",
          "iopub.status.idle": "2023-10-31T09:31:47.980038Z",
          "shell.execute_reply.started": "2023-10-31T09:31:47.971869Z",
          "shell.execute_reply": "2023-10-31T09:31:47.978855Z"
        },
        "trusted": true,
        "colab": {
          "base_uri": "https://localhost:8080/"
        },
        "id": "L-8QMWaCHQNZ",
        "outputId": "703076f0-db14-48ed-eabb-b98148fa8441"
      },
      "execution_count": 70,
      "outputs": [
        {
          "output_type": "stream",
          "name": "stdout",
          "text": [
            "0.862451880324092 0.829529041271044\n"
          ]
        }
      ]
    },
    {
      "cell_type": "markdown",
      "source": [
        "### ROC-AUC on test for contest for decision tree: 0.84478"
      ],
      "metadata": {
        "id": "SpZl0oKBHQNZ"
      }
    },
    {
      "cell_type": "markdown",
      "source": [
        "## Gradient boosting and XGBoost"
      ],
      "metadata": {
        "id": "sUoh8DSMHQNZ"
      }
    },
    {
      "cell_type": "code",
      "source": [
        "!pip install xgboost"
      ],
      "metadata": {
        "execution": {
          "iopub.status.busy": "2023-10-31T09:31:47.981581Z",
          "iopub.execute_input": "2023-10-31T09:31:47.982341Z",
          "iopub.status.idle": "2023-10-31T09:31:47.991937Z",
          "shell.execute_reply.started": "2023-10-31T09:31:47.982303Z",
          "shell.execute_reply": "2023-10-31T09:31:47.990568Z"
        },
        "trusted": true,
        "colab": {
          "base_uri": "https://localhost:8080/"
        },
        "id": "RKjNaKcXHQNZ",
        "outputId": "5f2723bf-8565-445a-86e8-a599bb7cfbf5"
      },
      "execution_count": 71,
      "outputs": [
        {
          "output_type": "stream",
          "name": "stdout",
          "text": [
            "Requirement already satisfied: xgboost in /usr/local/lib/python3.10/dist-packages (2.0.1)\n",
            "Requirement already satisfied: numpy in /usr/local/lib/python3.10/dist-packages (from xgboost) (1.23.5)\n",
            "Requirement already satisfied: scipy in /usr/local/lib/python3.10/dist-packages (from xgboost) (1.11.3)\n"
          ]
        }
      ]
    },
    {
      "cell_type": "code",
      "source": [
        "import xgboost as xgb"
      ],
      "metadata": {
        "execution": {
          "iopub.status.busy": "2023-10-31T09:31:47.993772Z",
          "iopub.execute_input": "2023-10-31T09:31:47.994875Z",
          "iopub.status.idle": "2023-10-31T09:31:48.003709Z",
          "shell.execute_reply.started": "2023-10-31T09:31:47.994837Z",
          "shell.execute_reply": "2023-10-31T09:31:48.002588Z"
        },
        "trusted": true,
        "id": "2XGdueLzHQNa"
      },
      "execution_count": 72,
      "outputs": []
    },
    {
      "cell_type": "code",
      "source": [
        "dv = DictVectorizer(sparse=False)\n",
        "\n",
        "dicts = df_train.to_dict(orient='records')\n",
        "df_tr = dv.fit_transform(dicts)\n",
        "\n",
        "dicts = df_val.to_dict(orient='records')\n",
        "df_v = dv.transform(dicts)\n",
        "\n",
        "features = dv.get_feature_names_out()\n",
        "dtrain = xgb.DMatrix(df_tr, label=y_train)\n",
        "dval = xgb.DMatrix(df_v, label=y_val)"
      ],
      "metadata": {
        "execution": {
          "iopub.status.busy": "2023-10-31T09:31:48.005317Z",
          "iopub.execute_input": "2023-10-31T09:31:48.005871Z",
          "iopub.status.idle": "2023-10-31T09:31:48.324592Z",
          "shell.execute_reply.started": "2023-10-31T09:31:48.005837Z",
          "shell.execute_reply": "2023-10-31T09:31:48.323594Z"
        },
        "trusted": true,
        "id": "vaRl8HLXHQNa"
      },
      "execution_count": 74,
      "outputs": []
    },
    {
      "cell_type": "code",
      "source": [
        "scores = {}"
      ],
      "metadata": {
        "execution": {
          "iopub.status.busy": "2023-10-31T09:31:48.326055Z",
          "iopub.execute_input": "2023-10-31T09:31:48.326711Z",
          "iopub.status.idle": "2023-10-31T09:31:48.336846Z",
          "shell.execute_reply.started": "2023-10-31T09:31:48.326672Z",
          "shell.execute_reply": "2023-10-31T09:31:48.335564Z"
        },
        "trusted": true,
        "id": "wCawXADCHQNa"
      },
      "execution_count": 75,
      "outputs": []
    },
    {
      "cell_type": "code",
      "source": [
        "\n",
        "def parse_xgb_output(output):\n",
        "    results = []\n",
        "    for line in output.stdout.strip().split('\\n'):\n",
        "        it_line, train_line, val_line = line.split('\\t')\n",
        "\n",
        "        it = int(it_line.strip('[]'))\n",
        "        train = float(train_line.split(':')[1])\n",
        "        val = float(val_line.split(':')[1])\n",
        "\n",
        "        results.append((it, train, val))\n",
        "\n",
        "    columns = ['num_iter', 'train_auc', 'val_auc']\n",
        "    df_results = pd.DataFrame(results, columns=columns)\n",
        "    return df_results\n",
        "\n",
        "watchlist = [(dtrain, 'train'), (dval, 'val')]"
      ],
      "metadata": {
        "execution": {
          "iopub.status.busy": "2023-10-31T09:31:48.338523Z",
          "iopub.execute_input": "2023-10-31T09:31:48.339158Z",
          "iopub.status.idle": "2023-10-31T09:31:48.347418Z",
          "shell.execute_reply.started": "2023-10-31T09:31:48.339122Z",
          "shell.execute_reply": "2023-10-31T09:31:48.346322Z"
        },
        "trusted": true,
        "id": "77qN-c_2HQNa"
      },
      "execution_count": 76,
      "outputs": []
    },
    {
      "cell_type": "code",
      "source": [
        "%%capture output\n",
        "\n",
        "xgb_params = {\n",
        "    'eta':0.006,\n",
        "    'max_depth': 5,\n",
        "    'min_child_weight': 6,\n",
        "\n",
        "    'objective': 'binary:logistic',\n",
        "    'eval_metric': 'auc',\n",
        "\n",
        "    'nthread': 8,\n",
        "    'seed': 1,\n",
        "    'verbosity': 1,\n",
        "}\n",
        "\n",
        "model = xgb.train(xgb_params, dtrain, num_boost_round=250,\n",
        "                  verbose_eval=5,\n",
        "                  evals=watchlist)\n"
      ],
      "metadata": {
        "execution": {
          "iopub.status.busy": "2023-10-31T09:31:48.349020Z",
          "iopub.execute_input": "2023-10-31T09:31:48.349378Z",
          "iopub.status.idle": "2023-10-31T09:31:56.379482Z",
          "shell.execute_reply.started": "2023-10-31T09:31:48.349348Z",
          "shell.execute_reply": "2023-10-31T09:31:56.378544Z"
        },
        "trusted": true,
        "id": "vcS9pTNhHQNa"
      },
      "execution_count": 77,
      "outputs": []
    },
    {
      "cell_type": "code",
      "source": [
        "key = 'eta = %s dep=%s''child=%s'% (xgb_params['eta'], xgb_params['max_depth'], xgb_params['min_child_weight'])\n",
        "scores[key] = parse_xgb_output(output)\n",
        "key"
      ],
      "metadata": {
        "execution": {
          "iopub.status.busy": "2023-10-31T09:31:56.380901Z",
          "iopub.execute_input": "2023-10-31T09:31:56.384884Z",
          "iopub.status.idle": "2023-10-31T09:31:56.394791Z",
          "shell.execute_reply.started": "2023-10-31T09:31:56.384838Z",
          "shell.execute_reply": "2023-10-31T09:31:56.393597Z"
        },
        "trusted": true,
        "colab": {
          "base_uri": "https://localhost:8080/",
          "height": 35
        },
        "id": "2JzTHFD7HQNa",
        "outputId": "08d57a87-094b-496c-b6d5-98e376fef929"
      },
      "execution_count": 78,
      "outputs": [
        {
          "output_type": "execute_result",
          "data": {
            "text/plain": [
              "'eta = 0.006 dep=5child=6'"
            ],
            "application/vnd.google.colaboratory.intrinsic+json": {
              "type": "string"
            }
          },
          "metadata": {},
          "execution_count": 78
        }
      ]
    },
    {
      "cell_type": "code",
      "source": [
        "for max_depth, df_score in scores.items():\n",
        "    plt.plot(df_score.num_iter, df_score.val_auc, label=max_depth)\n",
        "# plt.ylim(0.82, 0.83)\n",
        "# plt.xlim(10, 40)\n",
        "plt.legend()"
      ],
      "metadata": {
        "execution": {
          "iopub.status.busy": "2023-10-31T09:31:56.396576Z",
          "iopub.execute_input": "2023-10-31T09:31:56.397016Z",
          "iopub.status.idle": "2023-10-31T09:31:56.725598Z",
          "shell.execute_reply.started": "2023-10-31T09:31:56.396982Z",
          "shell.execute_reply": "2023-10-31T09:31:56.724275Z"
        },
        "trusted": true,
        "colab": {
          "base_uri": "https://localhost:8080/",
          "height": 447
        },
        "id": "rZdikISFHQNa",
        "outputId": "7bb71b03-7c9a-4069-fb79-b3b85bd839ae"
      },
      "execution_count": 79,
      "outputs": [
        {
          "output_type": "execute_result",
          "data": {
            "text/plain": [
              "<matplotlib.legend.Legend at 0x795cdee66ec0>"
            ]
          },
          "metadata": {},
          "execution_count": 79
        },
        {
          "output_type": "display_data",
          "data": {
            "text/plain": [
              "<Figure size 640x480 with 1 Axes>"
            ],
            "image/png": "[encoded data removed]"
          },
          "metadata": {}
        }
      ]
    },
    {
      "cell_type": "code",
      "source": [
        "dicts = X_test.to_dict(orient='records')\n",
        "df_test = dv.transform(dicts)\n",
        "\n",
        "features = dv.get_feature_names_out()\n",
        "dtest = xgb.DMatrix(df_test)\n",
        "submission['Churn'] = model.predict(dtest)"
      ],
      "metadata": {
        "execution": {
          "iopub.status.busy": "2023-10-31T09:31:56.733872Z",
          "iopub.execute_input": "2023-10-31T09:31:56.734444Z",
          "iopub.status.idle": "2023-10-31T09:31:56.870802Z",
          "shell.execute_reply.started": "2023-10-31T09:31:56.734412Z",
          "shell.execute_reply": "2023-10-31T09:31:56.869824Z"
        },
        "trusted": true,
        "id": "8nbTbm5wHQNb"
      },
      "execution_count": 81,
      "outputs": []
    },
    {
      "cell_type": "markdown",
      "source": [
        "For all X_train"
      ],
      "metadata": {
        "id": "xS01krbRHQNb"
      }
    },
    {
      "cell_type": "code",
      "source": [
        "df_train_all = x_tr\n",
        "\n",
        "dv = DictVectorizer(sparse=False)\n",
        "\n",
        "dicts = df_train_all.to_dict(orient='records')\n",
        "df_tr = dv.fit_transform(dicts)\n",
        "\n",
        "features = dv.get_feature_names_out()\n",
        "dtrain = xgb.DMatrix(df_tr, label=y_tr)\n",
        "\n",
        "model = xgb.train(xgb_params, dtrain, num_boost_round=800,\n",
        "                  verbose_eval=5,\n",
        "                  evals=watchlist)\n",
        "\n",
        "\n",
        "dtest = xgb.DMatrix(df_test)\n",
        "submission['Churn'] = model.predict(dtest)"
      ],
      "metadata": {
        "execution": {
          "iopub.status.busy": "2023-10-31T09:31:56.884095Z",
          "iopub.execute_input": "2023-10-31T09:31:56.884472Z",
          "iopub.status.idle": "2023-10-31T09:32:26.063206Z",
          "shell.execute_reply.started": "2023-10-31T09:31:56.884440Z",
          "shell.execute_reply": "2023-10-31T09:32:26.061805Z"
        },
        "trusted": true,
        "colab": {
          "base_uri": "https://localhost:8080/"
        },
        "id": "EZeA-7KFHQNb",
        "outputId": "ff988b5a-9cd1-4ea2-d7c1-b397ca28c926"
      },
      "execution_count": 83,
      "outputs": [
        {
          "output_type": "stream",
          "name": "stdout",
          "text": [
            "[0]\ttrain-auc:0.85314\tval-auc:0.83786\n",
            "[5]\ttrain-auc:0.85810\tval-auc:0.84180\n",
            "[10]\ttrain-auc:0.85798\tval-auc:0.84135\n",
            "[15]\ttrain-auc:0.85797\tval-auc:0.84008\n",
            "[20]\ttrain-auc:0.85794\tval-auc:0.83982\n",
            "[25]\ttrain-auc:0.85812\tval-auc:0.83954\n",
            "[30]\ttrain-auc:0.85897\tval-auc:0.83970\n",
            "[35]\ttrain-auc:0.85903\tval-auc:0.83937\n",
            "[40]\ttrain-auc:0.85930\tval-auc:0.84010\n",
            "[45]\ttrain-auc:0.85979\tval-auc:0.84123\n",
            "[50]\ttrain-auc:0.86023\tval-auc:0.84203\n",
            "[55]\ttrain-auc:0.86085\tval-auc:0.84286\n",
            "[60]\ttrain-auc:0.86125\tval-auc:0.84263\n",
            "[65]\ttrain-auc:0.86146\tval-auc:0.84308\n",
            "[70]\ttrain-auc:0.86198\tval-auc:0.84354\n",
            "[75]\ttrain-auc:0.86234\tval-auc:0.84371\n",
            "[80]\ttrain-auc:0.86261\tval-auc:0.84428\n",
            "[85]\ttrain-auc:0.86283\tval-auc:0.84440\n",
            "[90]\ttrain-auc:0.86325\tval-auc:0.84491\n",
            "[95]\ttrain-auc:0.86394\tval-auc:0.84514\n",
            "[100]\ttrain-auc:0.86435\tval-auc:0.84574\n",
            "[105]\ttrain-auc:0.86476\tval-auc:0.84600\n",
            "[110]\ttrain-auc:0.86572\tval-auc:0.84694\n",
            "[115]\ttrain-auc:0.86645\tval-auc:0.84755\n",
            "[120]\ttrain-auc:0.86699\tval-auc:0.84785\n",
            "[125]\ttrain-auc:0.86743\tval-auc:0.84876\n",
            "[130]\ttrain-auc:0.86792\tval-auc:0.84934\n",
            "[135]\ttrain-auc:0.86834\tval-auc:0.84971\n",
            "[140]\ttrain-auc:0.86888\tval-auc:0.85031\n",
            "[145]\ttrain-auc:0.86937\tval-auc:0.85087\n",
            "[150]\ttrain-auc:0.86968\tval-auc:0.85100\n",
            "[155]\ttrain-auc:0.87003\tval-auc:0.85149\n",
            "[160]\ttrain-auc:0.87034\tval-auc:0.85152\n",
            "[165]\ttrain-auc:0.87066\tval-auc:0.85179\n",
            "[170]\ttrain-auc:0.87099\tval-auc:0.85229\n",
            "[175]\ttrain-auc:0.87124\tval-auc:0.85246\n",
            "[180]\ttrain-auc:0.87145\tval-auc:0.85255\n",
            "[185]\ttrain-auc:0.87177\tval-auc:0.85279\n",
            "[190]\ttrain-auc:0.87198\tval-auc:0.85312\n",
            "[195]\ttrain-auc:0.87222\tval-auc:0.85346\n",
            "[200]\ttrain-auc:0.87243\tval-auc:0.85392\n",
            "[205]\ttrain-auc:0.87282\tval-auc:0.85406\n",
            "[210]\ttrain-auc:0.87301\tval-auc:0.85438\n",
            "[215]\ttrain-auc:0.87317\tval-auc:0.85463\n",
            "[220]\ttrain-auc:0.87342\tval-auc:0.85491\n",
            "[225]\ttrain-auc:0.87362\tval-auc:0.85531\n",
            "[230]\ttrain-auc:0.87377\tval-auc:0.85563\n",
            "[235]\ttrain-auc:0.87399\tval-auc:0.85588\n",
            "[240]\ttrain-auc:0.87423\tval-auc:0.85614\n",
            "[245]\ttrain-auc:0.87447\tval-auc:0.85647\n",
            "[250]\ttrain-auc:0.87477\tval-auc:0.85698\n",
            "[255]\ttrain-auc:0.87495\tval-auc:0.85751\n",
            "[260]\ttrain-auc:0.87512\tval-auc:0.85793\n",
            "[265]\ttrain-auc:0.87534\tval-auc:0.85821\n",
            "[270]\ttrain-auc:0.87556\tval-auc:0.85855\n",
            "[275]\ttrain-auc:0.87572\tval-auc:0.85888\n",
            "[280]\ttrain-auc:0.87591\tval-auc:0.85919\n",
            "[285]\ttrain-auc:0.87612\tval-auc:0.85961\n",
            "[290]\ttrain-auc:0.87627\tval-auc:0.85988\n",
            "[295]\ttrain-auc:0.87647\tval-auc:0.86019\n",
            "[300]\ttrain-auc:0.87668\tval-auc:0.86050\n",
            "[305]\ttrain-auc:0.87686\tval-auc:0.86080\n",
            "[310]\ttrain-auc:0.87702\tval-auc:0.86113\n",
            "[315]\ttrain-auc:0.87718\tval-auc:0.86142\n",
            "[320]\ttrain-auc:0.87734\tval-auc:0.86161\n",
            "[325]\ttrain-auc:0.87751\tval-auc:0.86182\n",
            "[330]\ttrain-auc:0.87768\tval-auc:0.86207\n",
            "[335]\ttrain-auc:0.87779\tval-auc:0.86230\n",
            "[340]\ttrain-auc:0.87792\tval-auc:0.86260\n",
            "[345]\ttrain-auc:0.87809\tval-auc:0.86274\n",
            "[350]\ttrain-auc:0.87820\tval-auc:0.86288\n",
            "[355]\ttrain-auc:0.87830\tval-auc:0.86298\n",
            "[360]\ttrain-auc:0.87838\tval-auc:0.86307\n",
            "[365]\ttrain-auc:0.87851\tval-auc:0.86333\n",
            "[370]\ttrain-auc:0.87862\tval-auc:0.86353\n",
            "[375]\ttrain-auc:0.87875\tval-auc:0.86376\n",
            "[380]\ttrain-auc:0.87898\tval-auc:0.86396\n",
            "[385]\ttrain-auc:0.87916\tval-auc:0.86420\n",
            "[390]\ttrain-auc:0.87936\tval-auc:0.86434\n",
            "[395]\ttrain-auc:0.87955\tval-auc:0.86455\n",
            "[400]\ttrain-auc:0.87975\tval-auc:0.86464\n",
            "[405]\ttrain-auc:0.87994\tval-auc:0.86484\n",
            "[410]\ttrain-auc:0.88014\tval-auc:0.86502\n",
            "[415]\ttrain-auc:0.88034\tval-auc:0.86515\n",
            "[420]\ttrain-auc:0.88053\tval-auc:0.86546\n",
            "[425]\ttrain-auc:0.88072\tval-auc:0.86562\n",
            "[430]\ttrain-auc:0.88089\tval-auc:0.86584\n",
            "[435]\ttrain-auc:0.88104\tval-auc:0.86595\n",
            "[440]\ttrain-auc:0.88119\tval-auc:0.86619\n",
            "[445]\ttrain-auc:0.88136\tval-auc:0.86640\n",
            "[450]\ttrain-auc:0.88154\tval-auc:0.86667\n",
            "[455]\ttrain-auc:0.88170\tval-auc:0.86684\n",
            "[460]\ttrain-auc:0.88186\tval-auc:0.86704\n",
            "[465]\ttrain-auc:0.88205\tval-auc:0.86712\n",
            "[470]\ttrain-auc:0.88219\tval-auc:0.86728\n",
            "[475]\ttrain-auc:0.88241\tval-auc:0.86747\n",
            "[480]\ttrain-auc:0.88259\tval-auc:0.86769\n",
            "[485]\ttrain-auc:0.88282\tval-auc:0.86790\n",
            "[490]\ttrain-auc:0.88302\tval-auc:0.86809\n",
            "[495]\ttrain-auc:0.88328\tval-auc:0.86823\n",
            "[500]\ttrain-auc:0.88347\tval-auc:0.86839\n",
            "[505]\ttrain-auc:0.88367\tval-auc:0.86852\n",
            "[510]\ttrain-auc:0.88385\tval-auc:0.86872\n",
            "[515]\ttrain-auc:0.88404\tval-auc:0.86904\n",
            "[520]\ttrain-auc:0.88420\tval-auc:0.86922\n",
            "[525]\ttrain-auc:0.88434\tval-auc:0.86945\n",
            "[530]\ttrain-auc:0.88450\tval-auc:0.86972\n",
            "[535]\ttrain-auc:0.88462\tval-auc:0.86991\n",
            "[540]\ttrain-auc:0.88480\tval-auc:0.87011\n",
            "[545]\ttrain-auc:0.88499\tval-auc:0.87031\n",
            "[550]\ttrain-auc:0.88516\tval-auc:0.87062\n",
            "[555]\ttrain-auc:0.88537\tval-auc:0.87086\n",
            "[560]\ttrain-auc:0.88558\tval-auc:0.87112\n",
            "[565]\ttrain-auc:0.88581\tval-auc:0.87130\n",
            "[570]\ttrain-auc:0.88600\tval-auc:0.87145\n",
            "[575]\ttrain-auc:0.88612\tval-auc:0.87160\n",
            "[580]\ttrain-auc:0.88627\tval-auc:0.87176\n",
            "[585]\ttrain-auc:0.88639\tval-auc:0.87190\n",
            "[590]\ttrain-auc:0.88659\tval-auc:0.87211\n",
            "[595]\ttrain-auc:0.88673\tval-auc:0.87233\n",
            "[600]\ttrain-auc:0.88688\tval-auc:0.87256\n",
            "[605]\ttrain-auc:0.88705\tval-auc:0.87285\n",
            "[610]\ttrain-auc:0.88718\tval-auc:0.87313\n",
            "[615]\ttrain-auc:0.88734\tval-auc:0.87333\n",
            "[620]\ttrain-auc:0.88748\tval-auc:0.87349\n",
            "[625]\ttrain-auc:0.88763\tval-auc:0.87365\n",
            "[630]\ttrain-auc:0.88779\tval-auc:0.87383\n",
            "[635]\ttrain-auc:0.88794\tval-auc:0.87395\n",
            "[640]\ttrain-auc:0.88811\tval-auc:0.87417\n",
            "[645]\ttrain-auc:0.88825\tval-auc:0.87434\n",
            "[650]\ttrain-auc:0.88841\tval-auc:0.87445\n",
            "[655]\ttrain-auc:0.88856\tval-auc:0.87459\n",
            "[660]\ttrain-auc:0.88867\tval-auc:0.87465\n",
            "[665]\ttrain-auc:0.88882\tval-auc:0.87479\n",
            "[670]\ttrain-auc:0.88895\tval-auc:0.87496\n",
            "[675]\ttrain-auc:0.88906\tval-auc:0.87511\n",
            "[680]\ttrain-auc:0.88920\tval-auc:0.87522\n",
            "[685]\ttrain-auc:0.88933\tval-auc:0.87527\n",
            "[690]\ttrain-auc:0.88951\tval-auc:0.87544\n",
            "[695]\ttrain-auc:0.88967\tval-auc:0.87559\n",
            "[700]\ttrain-auc:0.88984\tval-auc:0.87579\n",
            "[705]\ttrain-auc:0.88999\tval-auc:0.87590\n",
            "[710]\ttrain-auc:0.89009\tval-auc:0.87596\n",
            "[715]\ttrain-auc:0.89023\tval-auc:0.87610\n",
            "[720]\ttrain-auc:0.89033\tval-auc:0.87627\n",
            "[725]\ttrain-auc:0.89044\tval-auc:0.87640\n",
            "[730]\ttrain-auc:0.89056\tval-auc:0.87659\n",
            "[735]\ttrain-auc:0.89067\tval-auc:0.87670\n",
            "[740]\ttrain-auc:0.89081\tval-auc:0.87690\n",
            "[745]\ttrain-auc:0.89089\tval-auc:0.87703\n",
            "[750]\ttrain-auc:0.89096\tval-auc:0.87715\n",
            "[755]\ttrain-auc:0.89110\tval-auc:0.87722\n",
            "[760]\ttrain-auc:0.89118\tval-auc:0.87729\n",
            "[765]\ttrain-auc:0.89131\tval-auc:0.87736\n",
            "[770]\ttrain-auc:0.89141\tval-auc:0.87751\n",
            "[775]\ttrain-auc:0.89154\tval-auc:0.87771\n",
            "[780]\ttrain-auc:0.89165\tval-auc:0.87788\n",
            "[785]\ttrain-auc:0.89178\tval-auc:0.87810\n",
            "[790]\ttrain-auc:0.89188\tval-auc:0.87821\n",
            "[795]\ttrain-auc:0.89198\tval-auc:0.87839\n",
            "[799]\ttrain-auc:0.89207\tval-auc:0.87851\n"
          ]
        }
      ]
    },
    {
      "cell_type": "code",
      "source": [
        "submission['Churn']"
      ],
      "metadata": {
        "execution": {
          "iopub.status.busy": "2023-10-31T09:32:26.064960Z",
          "iopub.execute_input": "2023-10-31T09:32:26.065437Z",
          "iopub.status.idle": "2023-10-31T09:32:26.076287Z",
          "shell.execute_reply.started": "2023-10-31T09:32:26.065391Z",
          "shell.execute_reply": "2023-10-31T09:32:26.074993Z"
        },
        "trusted": true,
        "colab": {
          "base_uri": "https://localhost:8080/"
        },
        "id": "iyvvYtOgHQNb",
        "outputId": "fa195ecf-c266-43cf-bc0d-6e2d9804ca58"
      },
      "execution_count": 84,
      "outputs": [
        {
          "output_type": "execute_result",
          "data": {
            "text/plain": [
              "0       0.042336\n",
              "1       0.635492\n",
              "2       0.666194\n",
              "3       0.020385\n",
              "4       0.008010\n",
              "          ...   \n",
              "1756    0.208136\n",
              "1757    0.013438\n",
              "1758    0.843022\n",
              "1759    0.598301\n",
              "1760    0.009069\n",
              "Name: Churn, Length: 1761, dtype: float32"
            ]
          },
          "metadata": {},
          "execution_count": 84
        }
      ]
    },
    {
      "cell_type": "markdown",
      "source": [
        "### ROC-AUC on test for contest: 0.85198"
      ],
      "metadata": {
        "id": "f28varhuJCds"
      }
    },
    {
      "cell_type": "code",
      "source": [
        "submission.to_csv('/content/submission.csv', index=False)"
      ],
      "metadata": {
        "execution": {
          "iopub.status.busy": "2023-10-31T09:32:26.104477Z",
          "iopub.execute_input": "2023-10-31T09:32:26.104901Z",
          "iopub.status.idle": "2023-10-31T09:32:26.118490Z",
          "shell.execute_reply.started": "2023-10-31T09:32:26.104868Z",
          "shell.execute_reply": "2023-10-31T09:32:26.117102Z"
        },
        "trusted": true,
        "id": "t1PeJfZiHQNc"
      },
      "execution_count": 88,
      "outputs": []
    },
    {
      "cell_type": "markdown",
      "source": [
        "## Catboost"
      ],
      "metadata": {
        "id": "4UEBGfaCJPpT"
      }
    },
    {
      "cell_type": "code",
      "source": [
        "!pip install catboost\n",
        "import catboost\n",
        "\n",
        "boosting_model = catboost.CatBoostClassifier(n_estimators=50, silent=True,\n",
        "                                             cat_features=cat_cols,\n",
        "                                             eval_metric='AUC')\n",
        "\n",
        "boosting_model.fit(df_train, y_train)\n",
        "\n",
        "y_train_predicted = boosting_model.predict_proba(df_train)[:, 1]\n",
        "y_val_predicted = boosting_model.predict_proba(df_val) [:, 1]\n",
        "\n",
        "from sklearn.metrics import roc_auc_score, roc_curve\n",
        "\n",
        "train_auc = roc_auc_score(y_train, y_train_predicted)\n",
        "val_auc = roc_auc_score(y_val, y_val_predicted)\n",
        "\n",
        "plt.figure(figsize=(10,7))\n",
        "plt.plot(*roc_curve(y_train, y_train_predicted)[:2], label='train AUC={:.4f}'.format(train_auc))\n",
        "plt.plot(*roc_curve(y_val, y_val_predicted)[:2], label='val AUC={:.4f}'.format(val_auc))\n",
        "legend_box = plt.legend(fontsize='large', framealpha=1).get_frame()\n",
        "legend_box.set_facecolor(\"white\")\n",
        "legend_box.set_edgecolor(\"black\")\n",
        "plt.plot(np.linspace(0,1,100), np.linspace(0,1,100))\n",
        "plt.show()"
      ],
      "metadata": {
        "execution": {
          "iopub.status.busy": "2023-10-31T09:32:26.120125Z",
          "iopub.execute_input": "2023-10-31T09:32:26.120543Z",
          "iopub.status.idle": "2023-10-31T09:32:26.751404Z",
          "shell.execute_reply.started": "2023-10-31T09:32:26.120483Z",
          "shell.execute_reply": "2023-10-31T09:32:26.750230Z"
        },
        "trusted": true,
        "colab": {
          "base_uri": "https://localhost:8080/",
          "height": 1000
        },
        "id": "cRcMpc-UHQNc",
        "outputId": "6a7d3d94-a6a1-4630-cd38-e1982ec96b6e"
      },
      "execution_count": 91,
      "outputs": [
        {
          "output_type": "stream",
          "name": "stdout",
          "text": [
            "Collecting catboost\n",
            "  Downloading catboost-1.2.2-cp310-cp310-manylinux2014_x86_64.whl (98.7 MB)\n",
            "\u001b[2K     \u001b[90m━━━━━━━━━━━━━━━━━━━━━━━━━━━━━━━━━━━━━━━━\u001b[0m \u001b[32m98.7/98.7 MB\u001b[0m \u001b[31m7.4 MB/s\u001b[0m eta \u001b[36m0:00:00\u001b[0m\n",
            "\u001b[?25hRequirement already satisfied: graphviz in /usr/local/lib/python3.10/dist-packages (from catboost) (0.20.1)\n",
            "Requirement already satisfied: matplotlib in /usr/local/lib/python3.10/dist-packages (from catboost) (3.7.1)\n",
            "Requirement already satisfied: numpy>=1.16.0 in /usr/local/lib/python3.10/dist-packages (from catboost) (1.23.5)\n",
            "Requirement already satisfied: pandas>=0.24 in /usr/local/lib/python3.10/dist-packages (from catboost) (1.5.3)\n",
            "Requirement already satisfied: scipy in /usr/local/lib/python3.10/dist-packages (from catboost) (1.11.3)\n",
            "Requirement already satisfied: plotly in /usr/local/lib/python3.10/dist-packages (from catboost) (5.15.0)\n",
            "Requirement already satisfied: six in /usr/local/lib/python3.10/dist-packages (from catboost) (1.16.0)\n",
            "Requirement already satisfied: python-dateutil>=2.8.1 in /usr/local/lib/python3.10/dist-packages (from pandas>=0.24->catboost) (2.8.2)\n",
            "Requirement already satisfied: pytz>=2020.1 in /usr/local/lib/python3.10/dist-packages (from pandas>=0.24->catboost) (2023.3.post1)\n",
            "Requirement already satisfied: contourpy>=1.0.1 in /usr/local/lib/python3.10/dist-packages (from matplotlib->catboost) (1.1.1)\n",
            "Requirement already satisfied: cycler>=0.10 in /usr/local/lib/python3.10/dist-packages (from matplotlib->catboost) (0.12.1)\n",
            "Requirement already satisfied: fonttools>=4.22.0 in /usr/local/lib/python3.10/dist-packages (from matplotlib->catboost) (4.43.1)\n",
            "Requirement already satisfied: kiwisolver>=1.0.1 in /usr/local/lib/python3.10/dist-packages (from matplotlib->catboost) (1.4.5)\n",
            "Requirement already satisfied: packaging>=20.0 in /usr/local/lib/python3.10/dist-packages (from matplotlib->catboost) (23.2)\n",
            "Requirement already satisfied: pillow>=6.2.0 in /usr/local/lib/python3.10/dist-packages (from matplotlib->catboost) (9.4.0)\n",
            "Requirement already satisfied: pyparsing>=2.3.1 in /usr/local/lib/python3.10/dist-packages (from matplotlib->catboost) (3.1.1)\n",
            "Requirement already satisfied: tenacity>=6.2.0 in /usr/local/lib/python3.10/dist-packages (from plotly->catboost) (8.2.3)\n",
            "Installing collected packages: catboost\n",
            "Successfully installed catboost-1.2.2\n"
          ]
        },
        {
          "output_type": "display_data",
          "data": {
            "text/plain": [
              "<Figure size 1000x700 with 1 Axes>"
            ],
            "image/png": "[encoded data removed]"
          },
          "metadata": {}
        }
      ]
    },
    {
      "cell_type": "markdown",
      "source": [
        "### ROC-AUC on test for contest for catboost: 0.84593"
      ],
      "metadata": {
        "id": "-XihR91YHQNd"
      }
    },
    {
      "cell_type": "code",
      "source": [
        "boosting_model.fit(x_tr, y_tr)\n",
        "# submission['Churn'] = boosting_model.predict_proba(X_test)[:, 1]"
      ],
      "metadata": {
        "execution": {
          "iopub.status.busy": "2023-10-31T09:32:26.759938Z",
          "iopub.execute_input": "2023-10-31T09:32:26.760266Z",
          "iopub.status.idle": "2023-10-31T09:32:27.081596Z",
          "shell.execute_reply.started": "2023-10-31T09:32:26.760236Z",
          "shell.execute_reply": "2023-10-31T09:32:27.080408Z"
        },
        "trusted": true,
        "id": "Hf78HUlnHQNd"
      },
      "execution_count": null,
      "outputs": []
    }
  ]
}